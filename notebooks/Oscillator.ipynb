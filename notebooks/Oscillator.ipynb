{
  "cells": [
    {
      "cell_type": "markdown",
      "id": "0",
      "metadata": {
        "id": "0"
      },
      "source": [
        "# Numerical Linear Algebra [![Open In Colab](https://colab.research.google.com/assets/colab-badge.svg)](https://colab.research.google.com/github/ua-2025q3-astr501-513/ua-2025q3-astr501-513.github.io/blob/main/513/02/notes.ipynb)"
      ]
    },
    {
      "cell_type": "markdown",
      "id": "1",
      "metadata": {
        "id": "1"
      },
      "source": [
        "[![Matrix transform](https://github.com/ua-2025q3-astr501-513/ua-2025q3-astr501-513.github.io/blob/main/513/02/fig/matrix_transform.png?raw=1)](https://xkcd.com/184/)"
      ]
    },
    {
      "cell_type": "markdown",
      "id": "2",
      "metadata": {
        "id": "2"
      },
      "source": [
        "```{note} TAP Computation and Data Intuitive Meeting\n",
        "\n",
        "Date: Every Thursday  \n",
        "Time: 2-3pm  \n",
        "Room: SO N305  \n",
        "Zoom: [one-click](https://arizona.zoom.us/j/88694275321?pwd=XiFa1kbUVl90MYtoAa47W6FCcuRowU.1), id: 886 9427 5321, password: tapcdi  \n",
        "Schedule: [Google Sheet](https://docs.google.com/spreadsheets/d/1VQkQGZYwSEJ_N6UIHJQ-Tjvn02k9rClImgCCYo4ucrg/edit?usp=sharing)\n",
        "\n",
        "Upcoming topic: \"Book keeping of your simulations (or large data sets)\"\n",
        "```"
      ]
    },
    {
      "cell_type": "markdown",
      "id": "3",
      "metadata": {
        "id": "3"
      },
      "source": [
        "```{note} HPC Workshop\n",
        "\n",
        "UA HPC provides HPC workshop during this Fall:\n",
        "\n",
        "| Date | Time | Session\n",
        "--- | --- | ---\n",
        "Friday Sep 12th | 10am-3pm | Introduction to HPC\n",
        "Friday Sep 19th | 10am-3pm | Software on HPC\n",
        "Friday Sep 26th | 10am-3pm | Machine Learning and GPUs\n",
        "\n",
        "Register with this\n",
        "[Google Form](https://docs.google.com/forms/d/e/1FAIpQLSfjRhn1xF7wcd6G_wyVKtdYqosxxPaM_2V-nfTJZa8BXEe5lA/viewform).\n",
        "```"
      ]
    },
    {
      "cell_type": "markdown",
      "id": "4",
      "metadata": {
        "id": "4"
      },
      "source": [
        "```{admonition} Homework Set #1\n",
        "\n",
        "Use this GitHub Classroom Link:\n",
        "https://classroom.github.com/a/r-eqz-mO\n",
        "to accept it.\n",
        "\n",
        "Please make sure you merge from the upstream repository so all the\n",
        "autograding and template are in place.\n",
        "```"
      ]
    },
    {
      "cell_type": "markdown",
      "id": "5",
      "metadata": {
        "id": "5"
      },
      "source": [
        "Linear algebra is a fundamental part of modern mathematics.\n",
        "It supports fields from calculus and statistics to geometry, control\n",
        "theory, and functional analysis.\n",
        "Most linear systems are well understood.\n",
        "Even nonlinear problems are often studied through linear\n",
        "approximations.\n",
        "\n",
        "Numerical linear algebra extends these ideas to computation, enabling\n",
        "solutions of PDEs, optimization tasks, eigenvalue problems, and\n",
        "more.\n",
        "It addressing some of the hardest problems in physics and engineering."
      ]
    },
    {
      "cell_type": "markdown",
      "id": "6",
      "metadata": {
        "id": "6"
      },
      "source": [
        "### Motivations from Physics\n",
        "\n",
        "* Normal Modes:\n",
        "  Vibrations near equilibrium reduce to generalized eigenvalue\n",
        "  problems.\n",
        "  Linear algebra therefore reveals resonance in materials, acoustics,\n",
        "  and plasma waves.\n",
        "\n",
        "* Quantum Mechanics:\n",
        "  Described by the Schrödinger equation, quantum systems are\n",
        "  inherently linear.\n",
        "\n",
        "* Discretized PDEs:\n",
        "  Discretizing PDEs yields large sparse linear systems.\n",
        "  They can solved numerically by methods such as conjugate gradient.\n",
        "\n",
        "* Nonlinear Problems:\n",
        "  Nonlinear physics problems including turbulence are sometimes\n",
        "  untrackable.\n",
        "  Linearizing them with perturbation theory reduces them to sequences\n",
        "  of linear systems."
      ]
    },
    {
      "cell_type": "markdown",
      "id": "7",
      "metadata": {
        "id": "7"
      },
      "source": [
        "### Motivations from Computation\n",
        "\n",
        "* Large-Scale Data:\n",
        "  Modern sensors and simulations produce massive datasets.\n",
        "  Matrix decompositions (e.g., SVD, PCA) provide compression, noise\n",
        "  reduction, and feature extraction.\n",
        "\n",
        "* Neural Networks:\n",
        "  Core operations in training, i.e., backpropagation, is dominated by\n",
        "  large matrix multiplications.\n",
        "  Efficient linear algebra routines are therefore critical for scaling\n",
        "  deep learning.\n",
        "\n",
        "* Hardware Accelerators:\n",
        "  GPUs and TPUs are optimized for matrix operations, making vectorized\n",
        "  linear algebra essential for both neural networks and scientific\n",
        "  computing."
      ]
    },
    {
      "cell_type": "markdown",
      "id": "8",
      "metadata": {
        "id": "8"
      },
      "source": [
        "```{note}\n",
        "\n",
        "> If everything were linear, we wouldn't need computers.\n",
        "> <div style=\"text-align: right\">- Arrogant mathematicians, including CK many years ago ...</div>\n",
        "\n",
        "The above quote suggests that in a purely linear world, everything\n",
        "would be easy to solve analytically.\n",
        "However, this is an oversimplification.\n",
        "\n",
        "Even perfectly linear problems can pose significant computational\n",
        "challenges due to two key factors.\n",
        "* High dimensionality makes solving linear systems computationally\n",
        "  intensive.\n",
        "  For example, systems with millions of unknowns are common in\n",
        "  numerical PDEs or massive machine learning models.\n",
        "  Processing such large-scale data requires significant computational\n",
        "  power, regardless of linearity.\n",
        "* Real-world computations face constraints from finite precision.\n",
        "  Hardware limitations, such as floating-point arithmetic, introduce\n",
        "  numerical stability and conditioning challenges, even in linear\n",
        "  systems.\n",
        "  Addressing these issues requires robust algorithms to ensure\n",
        "  accurate and efficient solutions.\n",
        "\n",
        "Some of the most exciting development in numerical analysis recently\n",
        "is to apply randomized algorithms to solve large scale linear algebra\n",
        "problems.\n",
        "See [this reference](https://arxiv.org/pdf/2402.17873) for an\n",
        "introductory course.\n",
        "```"
      ]
    },
    {
      "cell_type": "markdown",
      "id": "9",
      "metadata": {
        "id": "9"
      },
      "source": [
        "## Direct Solvers\n",
        "\n",
        "Direct methods are often the first approach taught for solving linear\n",
        "systems $A\\mathbf{x} = \\mathbf{b}$.\n",
        "They involve algebraic factorizations that can be computed in a fixed\n",
        "number of steps (roughly $\\mathcal{O}(n^3)$) for an $n \\times n$\n",
        "matrix."
      ]
    },
    {
      "cell_type": "markdown",
      "id": "10",
      "metadata": {
        "id": "10"
      },
      "source": [
        "### Gaussian Elimination\n",
        "\n",
        "Gaussian Elimination transforms the system $A \\mathbf{x} = \\mathbf{b}$\n",
        "into an equivalent upper-triangular form $U \\mathbf{x} = \\mathbf{c}$\n",
        "by systematically applying row operations.  Once in an\n",
        "upper-triangular form, one can perform back-substitution to solve for\n",
        "$\\mathbf{x}$.\n",
        "\n",
        "1. Row Operations\n",
        "   * Subtract a multiple of one row from another to eliminate entries\n",
        "     below the main diagonal.\n",
        "   * Aim to create zeros in column $j$ below row $j$.\n",
        "\n",
        "2. Partial Pivoting (optional)\n",
        "   * When a pivot (diagonal) element is small (or zero), swap the\n",
        "     current row with a row below that has a larger pivot element in\n",
        "     the same column.\n",
        "   * This step mitigates numerical instability by reducing the chance\n",
        "     that small pivots lead to large rounding errors in subsequent\n",
        "     operations.\n",
        "\n",
        "3. Result\n",
        "   * After eliminating all sub-diagonal entries, the matrix is in\n",
        "     upper-triangular form $U$.\n",
        "   * Solve $U\\mathbf{x} = \\mathbf{c}$ via back-substitution.\n"
      ]
    },
    {
      "cell_type": "markdown",
      "id": "11",
      "metadata": {
        "id": "11"
      },
      "source": [
        "Here is an\n",
        "[example](https://en.wikipedia.org/wiki/Gaussian_elimination):\n",
        "\n",
        "```{list-table}\n",
        ":header-rows: 1\n",
        "* + System of equations\n",
        "  + Row operations\n",
        "  + Augmented matrix\n",
        "\n",
        "* + \\begin{alignat}{4}\n",
        "       2x &{}+{}& y &{}-{}&  z &{}={}&   8 & \\\\\n",
        "      -3x &{}-{}& y &{}+{}& 2z &{}={}& -11 & \\\\\n",
        "      -2x &{}+{}& y &{}+{}& 2z &{}={}&  -3 &\n",
        "    \\end{alignat}\n",
        "  +\n",
        "  + \\begin{align}\n",
        "    \\left[\\begin{array}{rrr|r}\n",
        "       2 &  1 & -1 &   8 \\\\\n",
        "      -3 & -1 &  2 & -11 \\\\\n",
        "      -2 &  1 &  2 &  -3\n",
        "    \\end{array}\\right]\n",
        "    \\nonumber\n",
        "    \\end{align}\n",
        "\n",
        "* + \\begin{alignat}{4}\n",
        "      2x &{}+{}&          y &{}-{}&          z &{}={}& 8 & \\\\\n",
        "         &     & \\tfrac12 y &{}+{}& \\tfrac12 z &{}={}& 1 & \\\\\n",
        "         &     &         2y &{}+{}&          z &{}={}& 5 &\n",
        "    \\end{alignat}\n",
        "  + \\begin{align}\n",
        "      L_2 + \\tfrac32 L_1 &\\to L_2 \\\\\n",
        "      L_3 +          L_1 &\\to L_3\n",
        "    \\end{align}\n",
        "  + \\begin{align}\n",
        "    \\left[\\begin{array}{rrr|r}\n",
        "      2 &      1  &     -1  & 8 \\\\\n",
        "      0 & \\frac12 & \\frac12 & 1 \\\\\n",
        "      0 &      2  &      1  & 5\n",
        "    \\end{array}\\right]\n",
        "    \\end{align}\n",
        "\n",
        "* + \\begin{alignat}{4}\n",
        "      2x &{}+{}&          y &{}-{}&          z &{}={}& 8 & \\\\\n",
        "         &     & \\tfrac12 y &{}+{}& \\tfrac12 z &{}={}& 1 & \\\\\n",
        "         &     &            &     &         -z &{}={}& 1 &\n",
        "    \\end{alignat}\n",
        "  + \\begin{align}\n",
        "      L_3 + -4 L_2 \\to L_3\n",
        "    \\end{align}\n",
        "  + \\begin{align}\n",
        "    \\left[\\begin{array}{rrr|r}\n",
        "      2 &      1  &     -1  & 8 \\\\\n",
        "      0 & \\frac12 & \\frac12 & 1 \\\\\n",
        "      0 &      0  &     -1  & 1\n",
        "    \\end{array}\\right]\n",
        "    \\end{align}\n",
        "```"
      ]
    },
    {
      "cell_type": "markdown",
      "id": "12",
      "metadata": {
        "id": "12"
      },
      "source": [
        "The matrix is now in echelon form (also called triangular form):\n",
        "\n",
        "```{list-table}\n",
        ":header-rows: 1\n",
        "* + System of equations\n",
        "  + Row operations\n",
        "  + Augmented matrix\n",
        "\n",
        "* + \\begin{alignat}{4}\n",
        "      2x &{}+{}&          y &     &   &{}={}       7  & \\\\\n",
        "         &     & \\tfrac12 y &     &   &{}={} \\tfrac32 & \\\\\n",
        "         &     &            &{}-{}& z &{}={}       1  &\n",
        "    \\end{alignat}\n",
        "  + \\begin{align}\n",
        "      L_1 -          L_3 &\\to L_1\\\\\n",
        "      L_2 + \\tfrac12 L_3 &\\to L_2\n",
        "    \\end{align}\n",
        "  + \\begin{align}\n",
        "    \\left[\\begin{array}{rrr|r}\n",
        "      2 &      1  &  0 &      7  \\\\\n",
        "      0 & \\frac12 &  0 & \\frac32 \\\\\n",
        "      0 &      0  & -1 &      1\n",
        "    \\end{array}\\right]\n",
        "    \\end{align}\n",
        "\n",
        "* + \\begin{alignat}{4}\n",
        "      2x &{}+{}& y &\\quad&   &{}={}&  7 & \\\\\n",
        "         &     & y &\\quad&   &{}={}&  3 & \\\\\n",
        "         &     &   &\\quad& z &{}={}& -1 &\n",
        "    \\end{alignat}\n",
        "  + \\begin{align}\n",
        "       2 L_2 &\\to L_2 \\\\\n",
        "      -L_3 &\\to L_3\n",
        "    \\end{align}\n",
        "  + \\begin{align}\n",
        "    \\left[\\begin{array}{rrr|r}\n",
        "      2 & 1 & 0 &  7 \\\\\n",
        "      0 & 1 & 0 &  3 \\\\\n",
        "      0 & 0 & 1 & -1\n",
        "    \\end{array}\\right]\n",
        "    \\end{align}\n",
        "\n",
        "* + \\begin{alignat}{4}\n",
        "      x &\\quad&   &\\quad&   &{}={}&  2 & \\\\\n",
        "        &\\quad& y &\\quad&   &{}={}&  3 & \\\\\n",
        "        &\\quad&   &\\quad& z &{}={}& -1 &\n",
        "    \\end{alignat}\n",
        "  + \\begin{align}\n",
        "               L_1 - L_2 &\\to L_1 \\\\\n",
        "      \\tfrac12 L_1       &\\to L_1\n",
        "    \\end{align}\n",
        "  + \\begin{align}\n",
        "    \\left[\\begin{array}{rrr|r}\n",
        "      1 & 0 & 0 &  2 \\\\\n",
        "      0 & 1 & 0 &  3 \\\\\n",
        "      0 & 0 & 1 & -1\n",
        "    \\end{array}\\right]\n",
        "    \\end{align}\n",
        "```"
      ]
    },
    {
      "cell_type": "markdown",
      "id": "13",
      "metadata": {
        "id": "13"
      },
      "source": [
        "Below is a simple code for naive (no pivoting) Gaussian Elimination in\n",
        "python.\n",
        "Although normally we want to avoid for loops in python for\n",
        "performance, let's stick with for loop this time so we can directly\n",
        "implement the algorithm we just described."
      ]
    },
    {
      "cell_type": "code",
      "execution_count": 1,
      "id": "14",
      "metadata": {
        "id": "14"
      },
      "outputs": [],
      "source": [
        "import numpy as np\n",
        "\n",
        "def solve_Gaussian(A, b):\n",
        "    \"\"\"\n",
        "    Perform naive (no pivoting) Gaussian elimination to solve the\n",
        "    matrix equation A x = b.\n",
        "    Returns the solution vector x.\n",
        "    \"\"\"\n",
        "    assert A.ndim == 2 and A.shape[0] == A.shape[1]  # must be square matrix\n",
        "    assert b.ndim == 1 and b.shape[0] == A.shape[1]  # must be a vector\n",
        "\n",
        "    A = A.astype(float)  # ensure floating-point, create copy by default\n",
        "    b = b.astype(float)  # ensure floating-point, create copy by default\n",
        "    n = b.shape[0]\n",
        "\n",
        "    # Forward elimination\n",
        "    for k in range(n-1):\n",
        "        for i in range(k+1, n):\n",
        "            if A[k, k] == 0:\n",
        "                raise ValueError(\"Zero pivot encountered (no pivoting).\")\n",
        "            factor    = A[i, k] / A[k, k]\n",
        "            A[i, k:] -= factor * A[k, k:]\n",
        "            b[i]     -= factor * b[k]\n",
        "\n",
        "    # Back-substitution\n",
        "    x = np.zeros(n)\n",
        "    for i in reversed(range(n)):\n",
        "        s = b[i]\n",
        "        for j in range(i+1, n):\n",
        "            s -= A[i, j] * x[j]\n",
        "        x[i] = s / A[i, i]\n",
        "\n",
        "    return x"
      ]
    },
    {
      "cell_type": "markdown",
      "id": "15",
      "metadata": {
        "id": "15"
      },
      "source": [
        "Let's also compare with numpy's solver."
      ]
    },
    {
      "cell_type": "code",
      "execution_count": 2,
      "id": "16",
      "metadata": {
        "colab": {
          "base_uri": "https://localhost:8080/"
        },
        "id": "16",
        "outputId": "4b8c62bb-a179-4766-92c4-8cac9dcef3bc"
      },
      "outputs": [
        {
          "output_type": "stream",
          "name": "stdout",
          "text": [
            "[ 2.102315    1.07977099 -0.24966534] numpy\n",
            "[ 2.102315    1.07977099 -0.24966534] naive\n",
            "[4.44089210e-16 2.22044605e-16 1.66533454e-16] difference with niave\n"
          ]
        }
      ],
      "source": [
        "A = np.random.random((3, 3))\n",
        "b = np.random.random((3))\n",
        "\n",
        "x_numpy = np.linalg.solve(A, b)\n",
        "x_naive = solve_Gaussian(A, b)\n",
        "\n",
        "print(x_numpy, \"numpy\")\n",
        "print(x_naive, \"naive\")\n",
        "print(abs(x_naive - x_numpy), \"difference with niave\")"
      ]
    },
    {
      "cell_type": "markdown",
      "id": "17",
      "metadata": {
        "id": "17"
      },
      "source": [
        "Let's set the (0,0) element to a small value."
      ]
    },
    {
      "cell_type": "code",
      "execution_count": 3,
      "id": "18",
      "metadata": {
        "colab": {
          "base_uri": "https://localhost:8080/"
        },
        "id": "18",
        "outputId": "270b9a6e-0bdf-4803-bd12-be736868670c"
      },
      "outputs": [
        {
          "output_type": "stream",
          "name": "stdout",
          "text": [
            "[ 9.81849979 15.59321924 -6.5859433 ] numpy\n",
            "[-4.4408921 -2.5839075  3.       ] naive\n",
            "[14.25939189 18.17712674  9.5859433 ] difference with niave\n"
          ]
        }
      ],
      "source": [
        "A[0,0] = 1e-16\n",
        "\n",
        "x_numpy = np.linalg.solve(A, b)\n",
        "x_naive = solve_Gaussian(A, b)\n",
        "\n",
        "print(x_numpy, \"numpy\")\n",
        "print(x_naive, \"naive\")\n",
        "print(abs(x_naive - x_numpy), \"difference with niave\")"
      ]
    },
    {
      "cell_type": "markdown",
      "id": "19",
      "metadata": {
        "id": "19"
      },
      "source": [
        "Let's now improve the above naive (no pivoting) Gaussian elimination by adding pivoting."
      ]
    },
    {
      "cell_type": "code",
      "execution_count": null,
      "id": "20",
      "metadata": {
        "id": "20"
      },
      "outputs": [],
      "source": [
        "# HANDSON: improve the above naive (no pivoting) Gaussian elimination\n",
        "#          by adding pivoting.\n",
        "\n",
        "def solve_Gaussian_pivot(A, b):\n",
        "    \"\"\"\n",
        "    Perform Gaussian elimination with partial pivoting to solve\n",
        "    the matrix equation A x = b.\n",
        "    Returns the solution vector x.\n",
        "    \"\"\"\n",
        "    assert A.ndim == 2 and A.shape[0] == A.shape[1]  # must be square matrix\n",
        "    assert b.ndim == 1 and b.shape[0] == A.shape[1]  # must be a vector\n",
        "\n",
        "    A = A.astype(float)  # ensure floating-point, create copy by default\n",
        "    b = b.astype(float)  # ensure floating-point, create copy by default\n",
        "    n = b.shape[0]\n",
        "\n",
        "    # Forward elimination\n",
        "    for k in range(n-1):\n",
        "        # TODO: pivoting: find max pivot in column k\n",
        "\n",
        "        # TODO: swap rows if needed\n",
        "\n",
        "        for i in range(k+1, n):\n",
        "            ### No longer a problem\n",
        "            # if A[k, k] == 0:\n",
        "            #     raise ValueError(\"Zero pivot encountered (no pivoting).\")\n",
        "            factor    = A[i, k] / A[k, k]\n",
        "            A[i, k:] -= factor * A[k, k:]\n",
        "            b[i]     -= factor * b[k]\n",
        "\n",
        "    # Back-substitution\n",
        "    x = np.zeros(n)\n",
        "    for i in reversed(range(n)):\n",
        "        s = b[i]\n",
        "        for j in range(i+1, n):\n",
        "            s -= A[i, j] * x[j]\n",
        "        x[i] = s / A[i, i]\n",
        "\n",
        "    return x"
      ]
    },
    {
      "cell_type": "code",
      "execution_count": null,
      "id": "21",
      "metadata": {
        "id": "21"
      },
      "outputs": [],
      "source": [
        "x_naive = solve_Gaussian(A, b)\n",
        "x_pivot = solve_Gaussian_pivot(A, b)\n",
        "x_numpy = np.linalg.solve(A, b)\n",
        "\n",
        "print(x_numpy, \"numpy\")\n",
        "print(x_naive, \"naive\")\n",
        "print(x_pivot, \"pivot\")\n",
        "print(abs(x_naive - x_numpy), \"difference with niave\")\n",
        "print(abs(x_pivot - x_numpy), \"difference with pivot\")"
      ]
    },
    {
      "cell_type": "code",
      "execution_count": null,
      "id": "22",
      "metadata": {
        "id": "22"
      },
      "outputs": [],
      "source": [
        "# HANDSON:\n",
        "#\n",
        "# Change A and b to larger matrices.\n",
        "# Again set A[0,0] to a small value.\n",
        "#\n",
        "# Test how solve_Gaussian() and solve_Gaussian_pivot() perform\n",
        "# compared to numpy.linalg.sovle().\n"
      ]
    },
    {
      "cell_type": "markdown",
      "id": "23",
      "metadata": {
        "id": "23"
      },
      "source": [
        "### $LU$ Decomposition\n",
        "\n",
        "$LU$ Decomposition is a systematic way to express $A$ as $A = P L U$,\n",
        "where:\n",
        "* $P$ is a permutation matrix\n",
        "* $L$ is lower triangular (with 1s on the diagonal following the\n",
        "  standard convention).\n",
        "* $U$ is upper triangular.\n",
        "\n",
        "Once $A$ is factored as $P L U$, solving $A\\mathbf{x} = \\mathbf{b}$\n",
        "becomes:\n",
        "1. $L \\mathbf{y} = P^t \\mathbf{b}$ (forward substitution)\n",
        "2. $U \\mathbf{x} =     \\mathbf{y}$ (back-substitution)\n",
        "\n",
        "Gaussian elimination essentially constructs the $L$ and $U$ matrices\n",
        "behind the scenes:\n",
        "* The multipliers used in the row operations become the entries of\n",
        "  $L$.\n",
        "* The final upper-triangular form is $U$."
      ]
    },
    {
      "cell_type": "code",
      "execution_count": 4,
      "id": "24",
      "metadata": {
        "colab": {
          "base_uri": "https://localhost:8080/"
        },
        "id": "24",
        "outputId": "4ff042f2-a93d-4279-bbbc-121968c55bff"
      },
      "outputs": [
        {
          "output_type": "stream",
          "name": "stdout",
          "text": [
            "Permutation matrix P:\n",
            "[[1. 0. 0.]\n",
            " [0. 0. 1.]\n",
            " [0. 1. 0.]]\n",
            "Lower triangular matrix L:\n",
            "[[ 1.          0.          0.        ]\n",
            " [ 0.10886135  1.          0.        ]\n",
            " [ 0.40084667 -0.10198738  1.        ]]\n",
            "Upper triangular matrix U:\n",
            "[[0.6382972  0.44821127 0.16756133]\n",
            " [0.         0.91391655 0.44363311]\n",
            " [0.         0.         0.78344834]]\n",
            "\n",
            "Solution using LU decomposition: [ 0.88699594  0.5349195  -0.17484526]\n",
            "Check with np.linalg.solve(A, b): [ 0.88699594  0.5349195  -0.17484526]\n"
          ]
        }
      ],
      "source": [
        "import scipy.linalg as la\n",
        "\n",
        "A = np.random.random((3, 3))\n",
        "b = np.random.random((3))\n",
        "\n",
        "# Perform LU decomposition with pivoting\n",
        "P, L, U = la.lu(A)  # P is the permutation matrix\n",
        "\n",
        "print(\"Permutation matrix P:\")\n",
        "print(P)\n",
        "print(\"Lower triangular matrix L:\")\n",
        "print(L)\n",
        "print(\"Upper triangular matrix U:\")\n",
        "print(U, end=\"\\n\\n\")\n",
        "\n",
        "# Forward substitution for L y = Pt b\n",
        "y = la.solve_triangular(L, np.dot(P.T, b), lower=True, unit_diagonal=True)\n",
        "# Back substitution for U x = y\n",
        "x_LU = la.solve_triangular(U, y)\n",
        "\n",
        "print(\"Solution using LU decomposition:\", x_LU)\n",
        "print(\"Check with np.linalg.solve(A, b):\", np.linalg.solve(A, b))"
      ]
    },
    {
      "cell_type": "code",
      "execution_count": null,
      "id": "25",
      "metadata": {
        "id": "25"
      },
      "outputs": [],
      "source": [
        "# HANDSON:\n",
        "#\n",
        "# Keep A at 3x3 but set A[0,0] to a small value.\n",
        "# How does scipy.linalg.lu()'s solution compared to\n",
        "# numpy.linalg.sovle()?\n",
        "#\n",
        "# Change A and b to larger matrices, and again set A[0,0] to a small\n",
        "# value.\n",
        "# How does scipy.linalg.lu()'s solution compared to\n",
        "# numpy.linalg.sovle()?\n"
      ]
    },
    {
      "cell_type": "markdown",
      "id": "26",
      "metadata": {
        "id": "26"
      },
      "source": [
        "## Matrix Inverse\n",
        "\n",
        "Although the matrix inverse $A^{-1}$ is a central theoretical concept,\n",
        "explicitly forming $A^{-1}$ just to solve $A \\mathbf{x} = \\mathbf{b}$\n",
        "is almost always unnecessary and can degrade numerical stability.\n",
        "Instead, direct approaches (like Gaussian Elimination or LU\n",
        "factorization) find $\\mathbf{x}$ with fewer operations and less error\n",
        "accumulation.\n",
        "Both methods cost about $\\mathcal{O}(n^3)$, but computing the entire\n",
        "inverse introduces extra steps and can magnify floating-point errors."
      ]
    },
    {
      "cell_type": "markdown",
      "id": "27",
      "metadata": {
        "id": "27"
      },
      "source": [
        "In rare cases, you might actually need $A^{-1}$.\n",
        "\n",
        "For example, when:\n",
        "* Multiple Right-Hand Sides:\n",
        "  If you must solve $A \\mathbf{x} = \\mathbf{b}_i$ for many different\n",
        "  $\\mathbf{b}_i$, you might form or approximate $A^{-1}$ for\n",
        "  convenience.\n",
        "* Inverse-Related Operations:\n",
        "  Some advanced algorithms (e.g., computing discrete Green's functions\n",
        "  or certain control theory design methods) explicitly require\n",
        "  elements of the inverse."
      ]
    },
    {
      "cell_type": "markdown",
      "id": "28",
      "metadata": {
        "id": "28"
      },
      "source": [
        "In the demonstration below, we show how to compute the inverse using\n",
        "`np.linalg.inv()`.\n",
        "However, again, it is generally safer and more efficient to solve\n",
        "individual systems via a factorization method in practice."
      ]
    },
    {
      "cell_type": "code",
      "execution_count": 5,
      "id": "29",
      "metadata": {
        "colab": {
          "base_uri": "https://localhost:8080/"
        },
        "id": "29",
        "outputId": "c07c5177-e978-4482-f6e4-36d59330f465"
      },
      "outputs": [
        {
          "output_type": "stream",
          "name": "stdout",
          "text": [
            "Inverse of A:\n",
            "[[ 0.66666667 -0.33333333]\n",
            " [-0.33333333  0.66666667]]\n",
            "Check A * A_inv == I?\n",
            "[[1. 0.]\n",
            " [0. 1.]]\n"
          ]
        }
      ],
      "source": [
        "# Simple 2x2 matrix\n",
        "A = np.array([[2.0, 1.0],\n",
        "              [1.0, 2.0]], dtype=float)\n",
        "\n",
        "# Compute inverse using NumPy\n",
        "A_inv = np.linalg.inv(A)\n",
        "print(\"Inverse of A:\")\n",
        "print(A_inv)\n",
        "\n",
        "# Verify A_inv is indeed the inverse\n",
        "I_check = A @ A_inv\n",
        "print(\"Check A * A_inv == I?\")\n",
        "print(I_check)"
      ]
    },
    {
      "cell_type": "code",
      "execution_count": null,
      "id": "30",
      "metadata": {
        "id": "30"
      },
      "outputs": [],
      "source": [
        "# HANDSON:\n",
        "#\n",
        "# Construct a larger matrix, maybe with `numpy.random.random()`,\n",
        "# and then use `numpy.linalg.inv()` to compute its inverse.\n",
        "# Check the inversion actually works.\n"
      ]
    },
    {
      "cell_type": "code",
      "execution_count": null,
      "id": "31",
      "metadata": {
        "id": "31"
      },
      "outputs": [],
      "source": [
        "# HANDSON:\n",
        "#\n",
        "# Compare the numerical solution of Ax = b by using\n",
        "# `numpy.linalg.solve()` and by using `numpy.linalg.inv()` and then by\n",
        "# matrix multiplication.\n"
      ]
    },
    {
      "cell_type": "markdown",
      "id": "32",
      "metadata": {
        "id": "32"
      },
      "source": [
        "## Iterative Solvers for Large/Sparse Systems\n",
        "\n",
        "Direct methods are powerful but quickly become impractical when\n",
        "dealing with very large or sparse systems.\n",
        "In such cases, iterative solvers provide a scalable alternative.\n",
        "\n",
        "* Large-Scale Problems:\n",
        "  PDE discretizations in 2D/3D can easily lead to systems with\n",
        "  millions of unknowns, making $\\mathcal{O}(n^3)$ direct approaches\n",
        "  infeasible.\n",
        "* Sparse Matrices:\n",
        "  Many physical systems produce matrices with a significant number of\n",
        "  zero entries.\n",
        "  Iterative methods may be implemented to access only nonzero elements\n",
        "  each iteration, saving time and memory.\n",
        "* Scalability:\n",
        "  On parallel architectures (clusters, GPUs, etc), iterative methods\n",
        "  often scale better than direct factorizations."
      ]
    },
    {
      "cell_type": "markdown",
      "id": "33",
      "metadata": {
        "id": "33"
      },
      "source": [
        "### Jacobi Iteration\n",
        "\n",
        "1. **Idea:** Rewrite $A\\mathbf{x} = \\mathbf{b}$ as $\\mathbf{x} = D^{-1}(\\mathbf{b} - R\\mathbf{x})$, where $D$ is the diagonal of $A$ and $R$ is the remainder.  \n",
        "2. **Update Rule:**\n",
        "   \\begin{align}\n",
        "     x_i^{(k+1)} = \\frac{1}{a_{ii}} \\Big(b_i - \\sum_{j \\neq i} a_{ij} x_j^{(k)}\\Big).\n",
        "   \\end{align}\n",
        "3. **Pros/Cons:**\n",
        "   - **Easy to implement**; each iteration updates $\\mathbf{x}$ using only values from the previous iteration.  \n",
        "   - **Slow convergence** unless $A$ is well-conditioned (e.g., diagonally dominant)."
      ]
    },
    {
      "cell_type": "markdown",
      "id": "34",
      "metadata": {
        "id": "34"
      },
      "source": [
        "### Jacobi Iteration\n",
        "\n",
        "1. Idea:\n",
        "   Rewrite\n",
        "   $A\\mathbf{x} = \\mathbf{b}$ as $\\mathbf{x} = D^{-1}(\\mathbf{b} - R\\mathbf{x})$,\n",
        "   where $D$ is the diagonal of $A$ and $R$ is the remainder.\n",
        "\n",
        "2. Update Rule:\n",
        "   \\begin{align}\n",
        "     x_i^{(k+1)} = \\frac{1}{a_{ii}} \\Big(b_i - \\sum_{j \\neq i} a_{ij} x_j^{(k)}\\Big).\n",
        "   \\end{align}\n",
        "\n",
        "3. Pros/Cons:\n",
        "   * Easy to implement: each iteration updates $\\mathbf{x}$ using only\n",
        "     values from the previous iteration.\n",
        "   * Slow convergence unless $A$ is well-conditioned (e.g., diagonally\n",
        "     dominant)."
      ]
    },
    {
      "cell_type": "code",
      "execution_count": 10,
      "id": "35",
      "metadata": {
        "id": "35"
      },
      "outputs": [],
      "source": [
        "def solve_Jacobi(A, b, max_iter=1000, tol=1e-8):\n",
        "    \"\"\"\n",
        "    Solve A x = b using Jacobi iteration.\n",
        "    A is assumed to be square with non-zero diagonal.\n",
        "    \"\"\"\n",
        "    assert A.ndim == 2 and A.shape[0] == A.shape[1]  # must be square matrix\n",
        "    assert b.ndim == 1 and b.shape[0] == A.shape[1]  # must be a vector\n",
        "\n",
        "    A = A.astype(float)  # ensure floating-point, create copy by default\n",
        "    b = b.astype(float)  # ensure floating-point, create copy by default\n",
        "    n = A.shape[0]\n",
        "\n",
        "    # Jacobi iteration\n",
        "    x = np.zeros(n)\n",
        "    for k in range(max_iter):\n",
        "        x_old = np.copy(x)\n",
        "        for i in range(n):\n",
        "            # Sum over off-diagonal terms\n",
        "            s = 0.0\n",
        "            for j in range(n):\n",
        "                if j != i:\n",
        "                    s += A[i,j] * x_old[j]\n",
        "            x[i] = (b[i] - s) / A[i, i]\n",
        "\n",
        "        # Check for convergence\n",
        "        if np.linalg.norm(x - x_old, ord=np.inf) < tol:\n",
        "            print(f\"Jacobi converged in {k+1} iterations.\")\n",
        "            return x\n",
        "\n",
        "    print(\"Jacobi did not fully converge within max_iter.\")\n",
        "    return x"
      ]
    },
    {
      "cell_type": "code",
      "execution_count": 11,
      "id": "36",
      "metadata": {
        "colab": {
          "base_uri": "https://localhost:8080/"
        },
        "id": "36",
        "outputId": "7d93682e-90d6-48dd-a680-4b648e117548"
      },
      "outputs": [
        {
          "output_type": "stream",
          "name": "stdout",
          "text": [
            "Jacobi converged in 20 iterations.\n",
            "[2.14285714 2.57142857 2.14285714] Jacobi Interaction\n",
            "[2.14285714 2.57142857 2.14285714] direction (numpy)\n",
            "[1.99569117e-09 2.39482922e-09 1.99569117e-09] difference\n"
          ]
        }
      ],
      "source": [
        "# Example system (small, but let's pretend it's \"sparse\")\n",
        "A = np.array([[4.0, -1.0, 0.0],\n",
        "              [-1.0, 4.0, -1.0],\n",
        "              [0.0, -1.0, 4.0]], dtype=float)\n",
        "b = np.array([6.0, 6.0, 6.0], dtype=float)\n",
        "\n",
        "x_jacobi = solve_Jacobi(A, b)\n",
        "x_numpy  = np.linalg.solve(A, b)\n",
        "print(x_jacobi, \"Jacobi Interaction\")\n",
        "print(x_numpy,  \"direction (numpy)\")\n",
        "print(abs(x_jacobi - x_numpy), \"difference\")"
      ]
    },
    {
      "cell_type": "code",
      "execution_count": null,
      "id": "37",
      "metadata": {
        "id": "37"
      },
      "outputs": [],
      "source": [
        "# HANDSON:\n",
        "#\n",
        "# Change the tolerance by setting the keyword `tol` to different\n",
        "# values.\n",
        "##If you make the tolerance larger, the different becomes larger\n",
        "# How does the numerical solution look like?\n",
        "# How many more steps do it take to \"converge\" to the required\n",
        "# tolerance level?\n"
      ]
    },
    {
      "cell_type": "markdown",
      "id": "38",
      "metadata": {
        "id": "38"
      },
      "source": [
        "### Gauss-Seidel Iteration\n",
        "\n",
        "Gauss-Seidel iteration is closely related to Jacobi but usually\n",
        "converges faster, particularly if the matrix is strictly or diagonally\n",
        "dominant.\n",
        "\n",
        "1. Idea:\n",
        "   * Instead of using only the old iteration values (from step $k$),\n",
        "     Gauss-Seidel uses the most recent updates within the same\n",
        "     iteration.\n",
        "   * This often converges faster because you incorporate newly\n",
        "     computed values immediately rather than waiting for the next\n",
        "     iteration.\n",
        "\n",
        "2. Update Rule:\n",
        "   \\begin{align}\n",
        "     x_i^{(k+1)} = \\frac{1}{a_{ii}} \\Big( b_i - \\sum_{j < i} a_{ij} x_j^{(k+1)} - \\sum_{j > i} a_{ij} x_j^{(k)} \\Big).\n",
        "   \\end{align}\n",
        "   Note that $\\mathbf{x}^{(k+1)}$ is already partially updated\n",
        "   (for $j < i$).\n",
        "\n",
        "3. Convergence Properties:\n",
        "   * Gauss-Seidel is shown to converge for strictly diagonally\n",
        "     dominant matrices, and often outperforms Jacobi in practice.\n",
        "   * Still relatively slow for large, ill-conditioned systems."
      ]
    },
    {
      "cell_type": "code",
      "source": [
        "lkj lkjkjlk jlkjl"
      ],
      "metadata": {
        "id": "yOtaRXkkNUdx"
      },
      "id": "yOtaRXkkNUdx",
      "execution_count": null,
      "outputs": []
    },
    {
      "cell_type": "code",
      "execution_count": null,
      "id": "39",
      "metadata": {
        "id": "39"
      },
      "outputs": [],
      "source": [
        "# HANDSON: update the Jacobi iteration code to Gauss-Seidel\n",
        "\n",
        "def solve_GS(A, b, max_iter=1000, tol=1e-8):\n",
        "    \"\"\"\n",
        "    Solve A x = b using Gauss-Seidel iteration.\n",
        "    A is assumed to be square with non-zero diagonal.\n",
        "    \"\"\"\n",
        "    assert A.ndim == 2 and A.shape[0] == A.shape[1]  # must be square matrix\n",
        "    assert b.ndim == 1 and b.shape[0] == A.shape[1]  # must be a vector\n",
        "\n",
        "    A = A.astype(float)  # ensure floating-point, create copy by default\n",
        "    b = b.astype(float)  # ensure floating-point, create copy by default\n",
        "    n = A.shape[0]\n",
        "\n",
        "    # TODO: Gauss-Seidel iteration: what should be changed comared to Jacobi?\n",
        "    x = np.zeros(n)\n",
        "    for k in range(max_iter):\n",
        "        x_old = np.copy(x)\n",
        "        for i in range(n):\n",
        "            # Sum over off-diagonal terms\n",
        "            s = 0.0\n",
        "            for j in range(n):\n",
        "                if j != i:\n",
        "                    s += A[i,j] * x_old[j]\n",
        "            x[i] = (b[i] - s) / A[i, i]\n",
        "\n",
        "        # Check for convergence\n",
        "        if np.linalg.norm(x - x_old, ord=np.inf) < tol:\n",
        "            print(f\"Jacobi converged in {k+1} iterations.\")\n",
        "            return x\n",
        "\n",
        "    print(\"Jacobi did not fully converge within max_iter.\")\n",
        "    return x"
      ]
    },
    {
      "cell_type": "code",
      "execution_count": null,
      "id": "40",
      "metadata": {
        "id": "40"
      },
      "outputs": [],
      "source": [
        "# HANDSON:\n",
        "#\n",
        "# Check that `solve_GS()` works as expected.\n"
      ]
    },
    {
      "cell_type": "code",
      "execution_count": null,
      "id": "41",
      "metadata": {
        "id": "41"
      },
      "outputs": [],
      "source": [
        "# HANDSON:\n",
        "#\n",
        "# Change the tolerance by setting the keyword `tol` to different\n",
        "# values.\n",
        "# How does the numerical solution look like?\n",
        "# How many more steps do it take to \"converge\" to the required\n",
        "# tolerance level?\n",
        "# How does this compared to Jacobi?\n"
      ]
    },
    {
      "cell_type": "markdown",
      "id": "42",
      "metadata": {
        "id": "42"
      },
      "source": [
        "## Eigenvalue Problems\n",
        "\n",
        "Eigenvalue problems show up in many physics applications, including\n",
        "normal mode analysis, quantum mechanics, and stability analyses.\n",
        "\n",
        "1. Normal Modes\n",
        "   * Vibrational analyses of structures or molecules reduce to $K\n",
        "     \\mathbf{x} = \\omega^2 M \\mathbf{x}$.\n",
        "     The solutions are eigenpairs $(\\omega^2, \\mathbf{x})$.\n",
        "   * Each eigenvector $\\mathbf{x}$ describes a mode shape; the\n",
        "     eigenvalue $\\omega^2$ is the squared frequency.\n",
        "\n",
        "2. Quantum Mechanics\n",
        "   * The Schrodinger equation in matrix form\n",
        "     $\\hat{H}|E\\rangle = E|E\\rangle$\n",
        "     yields eigenvalues $E$ (energy levels) and eigenstates $|E\\rangle$.\n",
        "   * Collecting all eigenvectors (as columns) in a matrix\n",
        "     diagonalizes $\\hat{H}$ if it is Hermitian.\n",
        "\n",
        "3. Stability Analysis\n",
        "   * A linearized system near equilibrium produces a Jacobian $J$.\n",
        "     Eigenvalues of $J$ show growth/decay rates of perturbations.\n",
        "   * If real parts of eigenvalues are negative, the system is stable;\n",
        "     if positive, it's unstable."
      ]
    },
    {
      "cell_type": "markdown",
      "id": "43",
      "metadata": {
        "id": "43"
      },
      "source": [
        "Given an $n \\times n$ matrix $A$, the **eigenvalue problem** seeks\n",
        "scalars $\\lambda$ (eigenvalues) and nonzero vectors $\\mathbf{v}$\n",
        "(eigenvectors) such that:\n",
        "\\begin{align}\n",
        "A \\mathbf{v} = \\lambda \\mathbf{v}.\n",
        "\\end{align}\n",
        "* **Eigenvalues** can be real or complex.\n",
        "* **Eigenvectors** identify the directions in which $A$ acts as a\n",
        "  simple scale transformation ($\\lambda$)."
      ]
    },
    {
      "cell_type": "markdown",
      "id": "44",
      "metadata": {
        "id": "44"
      },
      "source": [
        "### Power Method for the Dominant Eigenpair\n",
        "\n",
        "The power method is a straightforward iterative technique for finding\n",
        "the eigenpair associated with the largest-magnitude eigenvalue:\n",
        "\n",
        "1. Algorithm:\n",
        "   * Begin with an initial vector $\\mathbf{x}^{(0)}$.\n",
        "   * Apply $A$ repeatedly and normalize:\n",
        "     \\begin{align}\n",
        "       \\mathbf{x}^{(k+1)} = \\frac{A \\mathbf{x}^{(k)}}{\\|A \\mathbf{x}^{(k)}\\|}.\n",
        "     \\end{align}\n",
        "   * This converges to the eigenvector of the eigenvalue with the\n",
        "     largest magnitude, assuming it's distinct.\n",
        "\n",
        "2. Limitations\n",
        "   * Only computes one eigenvalue/eigenvector.\n",
        "   * Convergence can be slow if other eigenvalues have magnitude close\n",
        "     to the dominant one."
      ]
    },
    {
      "cell_type": "code",
      "execution_count": 12,
      "id": "45",
      "metadata": {
        "id": "45"
      },
      "outputs": [],
      "source": [
        "def eig_power(A, max_iter=1000, tol=1e-7):\n",
        "    \"\"\"\n",
        "    Returns the eigenvalue of largest magnitude and its eigenvector.\n",
        "    \"\"\"\n",
        "    assert A.ndim == 2 and A.shape[0] == A.shape[1]  # must be square matrix\n",
        "\n",
        "    A = A.astype(float)  # ensure floating-point, create copy by default\n",
        "\n",
        "    n = A.shape[0]\n",
        "    w       = np.ones(n)\n",
        "    lam     = np.linalg.norm(w)\n",
        "    v       = w / lam\n",
        "    lam_old = lam\n",
        "\n",
        "    for i in range(max_iter):\n",
        "        w   = A @ v  # matrix multiplication\n",
        "        lam = np.linalg.norm(w)\n",
        "        v   = w / lam\n",
        "        if abs(lam - lam_old) < tol:\n",
        "            print(f\"Power method converged in {i+1} iterations.\")\n",
        "            return lam, v\n",
        "        lam_old = lam\n",
        "\n",
        "    return lam, v"
      ]
    },
    {
      "cell_type": "code",
      "execution_count": 13,
      "id": "46",
      "metadata": {
        "colab": {
          "base_uri": "https://localhost:8080/"
        },
        "id": "46",
        "outputId": "e94c54e3-ea1b-485a-cb44-1007c1a281d9"
      },
      "outputs": [
        {
          "output_type": "stream",
          "name": "stdout",
          "text": [
            "Power method converged in 10 iterations.\n",
            "3.618033986170775 [0.52574439 0.8506426 ] power\n",
            "3.618033988749895 [-0.52573111 -0.85065081] numpy\n",
            "Testing: [-2.96825191e-05  1.83478376e-05]\n"
          ]
        }
      ],
      "source": [
        "# Test the Power Method\n",
        "A = np.array([[2, 1],\n",
        "              [1, 3]], dtype=float)\n",
        "\n",
        "lam_dom, v_dom = eig_power(A)\n",
        "print(lam_dom, v_dom, \"power\")\n",
        "\n",
        "# Compare with NumPy\n",
        "lams, vs = np.linalg.eig(A)\n",
        "idx = np.argmax(np.abs(lams))\n",
        "print(lams[idx], vs[:, idx], \"numpy\")\n",
        "\n",
        "print('Testing:', A @ v_dom - lam_dom * v_dom)"
      ]
    },
    {
      "cell_type": "code",
      "execution_count": null,
      "id": "47",
      "metadata": {
        "id": "47"
      },
      "outputs": [],
      "source": [
        "# HANDSON\n",
        "#\n",
        "# Try the power method with larger matrices.\n",
        "# How fast/slow it is for convergence?\n",
        "# How does the result compared to `numpy.linalg.eig()`?\n"
      ]
    },
    {
      "cell_type": "markdown",
      "id": "48",
      "metadata": {
        "id": "48"
      },
      "source": [
        "### QR Algorithm for Dense Matrices\n",
        "\n",
        "For dense matrices of moderate size, the $QR$ algorithm (or related\n",
        "methods) is the workhorse for computing all eigenvalues and optionally\n",
        "eigenvectors.\n",
        "\n",
        "1. Idea:\n",
        "   * Repeatedly factor $A$ as $QR$, where $Q$ is orthonormal and $R$\n",
        "     is upper triangular.\n",
        "   * Set $A \\leftarrow RQ$.\n",
        "   * After enough iterations, $A$ becomes near-upper-triangular,\n",
        "     revealing the eigenvalues on its diagonal.\n",
        "\n",
        "2. Practical Approach\n",
        "   * In Python, use `numpy.linalg.eig` or `numpy.linalg.eigh` (for\n",
        "     Hermitian matrices).\n",
        "   * These functions wrap optimized LAPACK routines implementing $QR$\n",
        "     or related transformations, e.g., divide-and-conquer, multiple\n",
        "     relatively robust representations (MRRR)."
      ]
    },
    {
      "cell_type": "code",
      "execution_count": 14,
      "id": "49",
      "metadata": {
        "colab": {
          "base_uri": "https://localhost:8080/"
        },
        "id": "49",
        "outputId": "130561d4-243a-4ee9-87c2-cdc27d25b294"
      },
      "outputs": [
        {
          "output_type": "stream",
          "name": "stdout",
          "text": [
            "Eigenvalues: [7.04891734 2.30797853 2.64310413]\n",
            "Eigenvectors:\n",
            "[[ 0.59100905  0.73697623 -0.32798528]\n",
            " [ 0.32798528 -0.59100905 -0.73697623]\n",
            " [ 0.73697623 -0.32798528  0.59100905]]\n",
            "Testing:\n",
            "[-7.10542736e-15 -1.77635684e-15 -2.66453526e-15]\n",
            "[ 1.99840144e-15 -1.11022302e-15 -1.11022302e-16]\n",
            "[ 0.00000000e+00 -6.66133815e-16  4.44089210e-16]\n"
          ]
        }
      ],
      "source": [
        "A = np.array([[4,  1,  2],\n",
        "              [1,  3,  1],\n",
        "              [2,  1,  5]], dtype=float)\n",
        "\n",
        "lams, vs = np.linalg.eig(A)\n",
        "print('Eigenvalues:', lams)\n",
        "print('Eigenvectors:')\n",
        "print(vs)\n",
        "\n",
        "print('Testing:')\n",
        "for i in range(vs.shape[1]):\n",
        "    print(A @ vs[:,i] - lams[i] * vs[:,i])"
      ]
    },
    {
      "cell_type": "markdown",
      "id": "50",
      "metadata": {
        "id": "50"
      },
      "source": [
        "## Application: Coupled Harmonic Oscillators\n",
        "\n",
        "Harmonic oscillators are a classic problem in physics, in this\n",
        "hands-on, we will:\n",
        "1. Derive or reference the analytical solution for two coupled\n",
        "   oscillators.\n",
        "2. Numerically solve the same system (using an eigenvalue approach).\n",
        "3. Generalize to $n$ (and even $n \\times n$) coupled oscillators,\n",
        "   visualizing the mode shapes."
      ]
    },
    {
      "cell_type": "markdown",
      "id": "51",
      "metadata": {
        "id": "51"
      },
      "source": [
        "### Two Coupled Oscillators--Analytical Solution\n",
        "\n",
        "Consider two masses $m$ connected by three springs (constant $k$),\n",
        "arranged in a line and connected to two walls:\n",
        "```\n",
        "|--k--[m]--k--[m]--k--|\n",
        "```\n",
        "\n",
        "If each mass can move only horizontally, the equations of motion form\n",
        "a $2 \\times 2$ eigenvalue problem.\n",
        "Let:\n",
        "* $x_1(t)$ be the horizontal displacement of **Mass 1** from its\n",
        "  equilibrium position.\n",
        "* $x_2(t)$ be the horizontal displacement of **Mass 2**.\n",
        "We assume **small oscillations**, so Hooke’s law applies linearly."
      ]
    },
    {
      "cell_type": "markdown",
      "id": "52",
      "metadata": {
        "id": "52"
      },
      "source": [
        "* Mass 1 experiences:\n",
        "  * A restoring force $-k \\,x_1$ from the left wall spring.\n",
        "  * A coupling force from the middle spring:\n",
        "    if $x_2 > x_1$, that spring pulls Mass 1 to the right;\n",
        "    if $x_1 > x_2$, it pulls Mass 1 to the left.\n",
        "    The net contribution is $-k (x_1 - x_2)$.\n",
        "  Summing forces (Newton's second law) gives:\n",
        "  \\begin{align}\n",
        "    m \\ddot{x}_1 = -k x_1 - k (x_1 - x_2).\n",
        "  \\end{align}\n",
        "* Mass 2 experiences:\n",
        "  * A restoring force $-k\\,x_2$ from the right wall spring.\n",
        "  * The coupling force from the middle spring: $-k(x_2 - x_1)$.\n",
        "  Hence,\n",
        "  \\begin{align}\n",
        "    m \\ddot{x}_2 = -k x_2 - k (x_2 - x_1).\n",
        "  \\end{align}"
      ]
    },
    {
      "cell_type": "markdown",
      "id": "53",
      "metadata": {
        "id": "53"
      },
      "source": [
        "Rewrite each equation:\n",
        "\\begin{align}\n",
        "\\begin{cases}\n",
        "  m \\ddot{x}_1 + 2k x_1 -  k x_2 = 0,\\\\\n",
        "  m \\ddot{x}_2 -  k x_1 + 2k x_2 = 0.\n",
        "\\end{cases}\n",
        "\\end{align}"
      ]
    },
    {
      "cell_type": "markdown",
      "id": "54",
      "metadata": {
        "id": "54"
      },
      "source": [
        "We can write\n",
        "$\\mathbf{x} = \\begin{pmatrix}x_1 \\\\ x_2\\end{pmatrix}$\n",
        "and express the system as:\n",
        "\n",
        "\\begin{align}\n",
        "  m \\ddot{\\mathbf{x}} + K \\mathbf{x} = \\mathbf{0},\n",
        "\\end{align}\n",
        "where\n",
        "\\begin{align}\n",
        "  m \\,\\ddot{\\mathbf{x}} = m \\begin{pmatrix}\\ddot{x}_1 \\\\[6pt] \\ddot{x}_2\\end{pmatrix}, \\quad\n",
        "  K = \\begin{pmatrix}\n",
        "    2k & -k \\\\\n",
        "    -k & 2k\n",
        "  \\end{pmatrix}.\n",
        "\\end{align}\n",
        "\n",
        "Equivalently,\n",
        "\\begin{align}\n",
        "  \\ddot{\\mathbf{x}} + \\frac{1}{m}\\,K \\,\\mathbf{x} = \\mathbf{0}.\n",
        "\\end{align}\n",
        "This is a **second-order linear system** describing small\n",
        "oscillations."
      ]
    },
    {
      "cell_type": "markdown",
      "id": "55",
      "metadata": {
        "id": "55"
      },
      "source": [
        "We look for solutions of the form\n",
        "\\begin{align}\n",
        "  \\mathbf{x}(t) = \\mathbf{x}(0)\\, e^{\\,i\\,\\omega\\,t},\n",
        "\\end{align}\n",
        "where $\\mathbf{x}(0)$ is the initial condition and $\\omega$ is the\n",
        "(angular) oscillation frequency."
      ]
    },
    {
      "cell_type": "markdown",
      "id": "56",
      "metadata": {
        "id": "56"
      },
      "source": [
        "Plugging into $m \\ddot{\\mathbf{x}} + K \\mathbf{x} = 0$ gives:\n",
        "\\begin{align}\n",
        "  -m \\omega^2 \\mathbf{X} + K \\mathbf{X} = \\mathbf{0}\n",
        "  \\quad \\Longrightarrow \\quad\n",
        "  \\left(K - m \\omega^2 I\\right) \\mathbf{X} = \\mathbf{0}.\n",
        "\\end{align}\n",
        "Nontrivial solutions exist only if\n",
        "\\begin{align}\n",
        "  \\det(K - m \\omega^2 I) = 0,\n",
        "\\end{align}\n",
        "which is the **eigenvalue problem** for $\\omega^2$."
      ]
    },
    {
      "cell_type": "markdown",
      "id": "57",
      "metadata": {
        "id": "57"
      },
      "source": [
        "Explicitly, $K - m \\omega^2 I$ is:\n",
        "\\begin{align}\n",
        "\\begin{pmatrix}\n",
        "  2k - m \\omega^2 & -k \\\\\n",
        "  -k & 2k - m \\omega^2\n",
        "\\end{pmatrix}.\n",
        "\\end{align}"
      ]
    },
    {
      "cell_type": "markdown",
      "id": "58",
      "metadata": {
        "id": "58"
      },
      "source": [
        "The determinant is $(2k - m \\omega^2)^2 - k^2$.\n",
        "Setting this to zero results\n",
        "\\begin{align}\n",
        "  2k - m \\omega^2 = \\pm k.\n",
        "\\end{align}"
      ]
    },
    {
      "cell_type": "markdown",
      "id": "59",
      "metadata": {
        "id": "59"
      },
      "source": [
        "Hence, we get **two** solutions for $\\omega^2$:\n",
        "\n",
        "1. $\\omega_+^2$: taking the $+$ sign:\n",
        "   \\begin{align}\n",
        "     2k - m \\omega_+^2\n",
        "     = k \\quad \\Longrightarrow \\quad \\omega_+^2\n",
        "     = \\frac{k}{m} \\quad \\Longrightarrow \\quad \\omega_1\n",
        "     = \\sqrt{\\frac{k}{m}}.\n",
        "   \\end{align}\n",
        "\n",
        "2. $\\omega_-^2$: taking the $-$ sign:\n",
        "   \\begin{align}\n",
        "     2k - m \\omega_-^2\n",
        "     =-k \\quad \\Longrightarrow \\quad \\omega_-^2\n",
        "     = \\frac{3k}{m} \\quad \\Longrightarrow \\quad \\omega_2\n",
        "     = \\sqrt{\\frac{3k}{m}}.\n",
        "   \\end{align}"
      ]
    },
    {
      "cell_type": "markdown",
      "id": "60",
      "metadata": {
        "id": "60"
      },
      "source": [
        "For each of the normal modes:\n",
        "\n",
        "* Lower Frequency $\\omega_+ = \\sqrt{k/m}$:\n",
        "  Plug $\\omega_+^2 = k/m$ back into $(K - m\\,\\omega_+^2 I)\\mathbf{X} = 0$.\n",
        "  For instance,\n",
        "  \\begin{align}\n",
        "    \\begin{pmatrix}\n",
        "    2k - k & -k \\\\\n",
        "    -k & 2k - k\n",
        "    \\end{pmatrix}\n",
        "    \\begin{pmatrix} x_1 \\\\ x_2 \\end{pmatrix}\n",
        "    = \\begin{pmatrix}\n",
        "    k & -k \\\\\n",
        "    -k & k\n",
        "    \\end{pmatrix}\n",
        "    \\begin{pmatrix} x_1 \\\\ x_2 \\end{pmatrix}\n",
        "    = \\mathbf{0}.\n",
        "  \\end{align}\n",
        "  This implies $x_1 = x_2$.\n",
        "  Physically, the **in-phase** mode has both masses moving together."
      ]
    },
    {
      "cell_type": "markdown",
      "id": "61",
      "metadata": {
        "id": "61"
      },
      "source": [
        "* **Higher Frequency** $\\omega_- = \\sqrt{3k/m}$:\n",
        "  \\begin{align}\n",
        "    \\begin{pmatrix}\n",
        "    2k - 3k & -k \\\\\n",
        "    -k & 2k - 3k\n",
        "    \\end{pmatrix}\n",
        "    \\begin{pmatrix} x_1 \\\\ x_2 \\end{pmatrix}\n",
        "    = \\begin{pmatrix}\n",
        "    -k & -k \\\\\n",
        "    -k & -k\n",
        "    \\end{pmatrix}\n",
        "    \\begin{pmatrix} x_1 \\\\ x_2 \\end{pmatrix}\n",
        "    = \\mathbf{0}.\n",
        "  \\end{align}\n",
        "  This yields $x_1 = -x_2$.\n",
        "  Physically, the **out-of-phase** mode has the two masses moving in opposite directions."
      ]
    },
    {
      "cell_type": "markdown",
      "id": "62",
      "metadata": {
        "id": "62"
      },
      "source": [
        "We can compute the position of these coupled oscillators according to\n",
        "the analytical solutions."
      ]
    },
    {
      "cell_type": "code",
      "execution_count": 3,
      "id": "63",
      "metadata": {
        "id": "63"
      },
      "outputs": [],
      "source": [
        "import numpy as np\n",
        "# Physical constants\n",
        "m = 1.0  # mass\n",
        "k = 1.0  # spring constant\n",
        "\n",
        "# Frequencies for two normal modes\n",
        "omegap = np.sqrt(k/m)      # in-phase\n",
        "omegam = np.sqrt(3*k/m)    # out-of-phase\n",
        "\n",
        "# Initial conditions\n",
        "x1_0 = 0\n",
        "x2_0 = 0.5\n",
        "\n",
        "# The analytical solution:\n",
        "def X_analytic(t):\n",
        "    xp_0 = (x1_0 + x2_0) / 2\n",
        "    xm_0 = (x1_0 - x2_0) / 2\n",
        "\n",
        "    xp = xp_0 * np.cos(omegap * t)\n",
        "    xm = xm_0 * np.cos(omegam * t)\n",
        "\n",
        "    return xp + xm, xp - xm"
      ]
    },
    {
      "cell_type": "code",
      "source": [
        "x=np.array([0, 0.5])\n",
        "np.array([0, 0.5]).T+x"
      ],
      "metadata": {
        "id": "ZSxWq-qZZZNl",
        "outputId": "e42a45c7-675e-468c-c1a2-334638449988",
        "colab": {
          "base_uri": "https://localhost:8080/"
        }
      },
      "id": "ZSxWq-qZZZNl",
      "execution_count": 9,
      "outputs": [
        {
          "output_type": "execute_result",
          "data": {
            "text/plain": [
              "array([0., 1.])"
            ]
          },
          "metadata": {},
          "execution_count": 9
        }
      ]
    },
    {
      "cell_type": "markdown",
      "id": "64",
      "metadata": {
        "id": "64"
      },
      "source": [
        "Plot multiple frames:"
      ]
    },
    {
      "cell_type": "code",
      "execution_count": 16,
      "id": "65",
      "metadata": {
        "id": "65"
      },
      "outputs": [],
      "source": [
        "from matplotlib import pyplot as plt\n",
        "from matplotlib import animation\n",
        "\n",
        "def mkanim(X, T):\n",
        "    fig = plt.figure(figsize=(8,8))\n",
        "    ax  = plt.axes(xlim=(0, 3), ylim=(-1.5, 1.5))\n",
        "    ax.set_aspect('equal')\n",
        "\n",
        "    line, = ax.plot([], [], 'o-', lw=2)\n",
        "\n",
        "    def init():\n",
        "        line.set_data([], [])\n",
        "        return line,\n",
        "\n",
        "    def animate(i):\n",
        "        x1, x2 = X(T[i])\n",
        "        line.set_data([0, 1+x1, 2+x2, 3], [0, 0, 0, 0], )\n",
        "        return line,\n",
        "\n",
        "    anim = animation.FuncAnimation(fig, animate, init_func=init, frames=len(T), interval=10, blit=True)\n",
        "    plt.close()\n",
        "    return anim"
      ]
    },
    {
      "cell_type": "code",
      "execution_count": 17,
      "id": "66",
      "metadata": {
        "colab": {
          "base_uri": "https://localhost:8080/",
          "height": 822
        },
        "id": "66",
        "outputId": "66b6ddb4-d188-490b-a54a-6988746fd7ca"
      },
      "outputs": [
        {
          "output_type": "execute_result",
          "data": {
            "text/plain": [
              "<IPython.core.display.HTML object>"
            ],
            "text/html": [
              "<video width=\"800\" height=\"800\" controls autoplay loop>\n",
              "  <source type=\"video/mp4\" src=\"data:video/mp4;base64,AAAAIGZ0eXBNNFYgAAACAE00ViBpc29taXNvMmF2YzEAAAAIZnJlZQAAQ8FtZGF0AAACrgYF//+q\n",
              "3EXpvebZSLeWLNgg2SPu73gyNjQgLSBjb3JlIDE2MyByMzA2MCA1ZGI2YWE2IC0gSC4yNjQvTVBF\n",
              "Ry00IEFWQyBjb2RlYyAtIENvcHlsZWZ0IDIwMDMtMjAyMSAtIGh0dHA6Ly93d3cudmlkZW9sYW4u\n",
              "b3JnL3gyNjQuaHRtbCAtIG9wdGlvbnM6IGNhYmFjPTEgcmVmPTMgZGVibG9jaz0xOjA6MCBhbmFs\n",
              "eXNlPTB4MzoweDExMyBtZT1oZXggc3VibWU9NyBwc3k9MSBwc3lfcmQ9MS4wMDowLjAwIG1peGVk\n",
              "X3JlZj0xIG1lX3JhbmdlPTE2IGNocm9tYV9tZT0xIHRyZWxsaXM9MSA4eDhkY3Q9MSBjcW09MCBk\n",
              "ZWFkem9uZT0yMSwxMSBmYXN0X3Bza2lwPTEgY2hyb21hX3FwX29mZnNldD0tMiB0aHJlYWRzPTMg\n",
              "bG9va2FoZWFkX3RocmVhZHM9MSBzbGljZWRfdGhyZWFkcz0wIG5yPTAgZGVjaW1hdGU9MSBpbnRl\n",
              "cmxhY2VkPTAgYmx1cmF5X2NvbXBhdD0wIGNvbnN0cmFpbmVkX2ludHJhPTAgYmZyYW1lcz0zIGJf\n",
              "cHlyYW1pZD0yIGJfYWRhcHQ9MSBiX2JpYXM9MCBkaXJlY3Q9MSB3ZWlnaHRiPTEgb3Blbl9nb3A9\n",
              "MCB3ZWlnaHRwPTIga2V5aW50PTI1MCBrZXlpbnRfbWluPTI1IHNjZW5lY3V0PTQwIGludHJhX3Jl\n",
              "ZnJlc2g9MCByY19sb29rYWhlYWQ9NDAgcmM9Y3JmIG1idHJlZT0xIGNyZj0yMy4wIHFjb21wPTAu\n",
              "NjAgcXBtaW49MCBxcG1heD02OSBxcHN0ZXA9NCBpcF9yYXRpbz0xLjQwIGFxPTE6MS4wMACAAAAK\n",
              "7mWIhAAn//71sXwKasnzigzoMi7hlyTJrrYi4m0AwAAAAwAAAwAAAwAjH8Jo8rGZgGLAAAADAF9A\n",
              "FUAXwDH7vA2NfiAnKnvBxuo3BwbjxfLEjSsr6iKqctYCH9/GX4RUUgUAE1OqQrAkOt8DXj8mLN6A\n",
              "0u33IQggsfav5puPiwASpaQNcuTP7BKW6uq+dBEmhybjgmJrjKhSwsuYsE61le3w8nDQVqOHV7SA\n",
              "21ZLIc91vxEQVxwoyB1z2F43ZhKc94AI/PBGximojnhOy7qNKC+bbDTSkQrF1Wo7+3A+DjHN09Cc\n",
              "z98MAADNIv/0bNHDEhg8Kjd3pe2VIeeuwTTTPnoOIIjEFgecRxXMwAAAAwHOEWPIAAADAANqBIAV\n",
              "TOAPQsUAACYMNHk4oRpd4lExX5KIROFwXTJWzApp5iVj9Mcm2pPbcCsE7L7geITxecKSdhD6gqSR\n",
              "80w5zk2TBU/XA8NWwAZt19Pj75E7lrmjH0kRZMt0i8nQdH6JzUFViPkYG0lHd6rDB3e8T1Ro7ctc\n",
              "vrDZP8GHkZGbBSvln+9D9H+ziK53T+BqW9R59/86QwAAjjaOVeAFYgAR0gCiTsAAAAMAsgrLG3s+\n",
              "YcjodyWqFvsVK6DNoQozHtxIti8e/85COnOcSSuU+wD/Tl7kLJ+EfJPDRhYV3IdYJ3x4COutU0zf\n",
              "FzG8GcOu6wK9nd2TMi4gbwWvbrGlZRvBhsmEl9auxa5kx9cgACJg6jzqmpzqAdTxv+V5e3a7THZk\n",
              "MvWJYEDLf1zO12ehot0zNb49J6RTgZQLeovUG3pm3lOiD+QAAsESLDMBZ4zAAAADAAADA0KTv5Gc\n",
              "XxyIhgt/N1TviiB3w3zm9TN3Qe84L4fx4m2VaohvlUDt7TlQVu2Qa79dQFste6/IAA0E+R17q12V\n",
              "w/pFPfhrawxinBqsZ8TXHuNPJbtJnAJzk2iRMLQ4l+M09FdWjqmd1BMYTJhFDEZfM4lOjY7H3GEc\n",
              "eJevds0pY3/tbds5HlOOQjJEQLxkYzTrk0n7NMkBa/ael5E5sVPFLdDTNFeLRVpj6/xnfjc1YUt7\n",
              "ikvzHdXN08w6Hm5+of2/QF31QePqZ1is5kef3BDRX6yTgqbo+k4uV/Ne/her/Jvn64AE51vG4eeS\n",
              "Qxna1FNiIJPG5pfEoXP4Y4Xoy6y0278oc4hFvL4EUar6cbXraBq1ibHx9uD/vryxawmATwSmBWwJ\n",
              "vHBSkBRlyXbuzXsYYYo+P2Mz5/3MKY0lhnE7+AAUcG1kGiA3QahOQPkCSqQ1I7i8TQWZ9uFss7jz\n",
              "8Sv3+l8/J1Jk+dPbVlCGFSGw5zxykc0EdJwe8xa8DiX/Ru6ErK5g/cJvp+OrBHaEAs1nbtPXzUvy\n",
              "TzuZnkZQdaPfhy3ziq//Cob9QhVZ7yKLlqnhuHd6JAJVIj7TcrtJ8yPl27FqiPZWoRtWAUNYldFt\n",
              "XPgAAAMAAAMAAAMAGIWeRxH9IBEXGFpmZgqPQ1sY8zPzuHlOCLKH/kapB9cmHfa3iyG8eP//Gheq\n",
              "on8cFuxA3ZFp/NEDgpCES7pgkYF5g1ZCTXRX7uGXrZ+GGqnTHIKrI9DUqPsBZMQDrkibMW8iPKNR\n",
              "uTEttmurwW0MJMYCyjxPzh5/+UVoRqngf2cgQFLCPtXn8UMBIIsto6EasgTzA9Ya861frZ+Dx0yz\n",
              "kmQCvYw7b/DmpV/MnT8aADQAICAsAAADAAADAAADABgjbAda7c9K6m2mT+H8peaOa3V1DFOgDlDW\n",
              "cYM9eSjoTv9Q92sROD6QYbWShPEZsACT6jCuK8rx7zMp32WmIPfEn+mL7cQZFwi3F8rk7OGRGWqO\n",
              "s8Is7RqqQQVbiSyJSSuhE0t7cuWT7B6cqhWRAs3VurUt1Dm84Mz7RTLFIYwPCIIHRQtLGTpXkQcm\n",
              "9yMOH7gUonY+RdXAGXhHV5trZp3eEyGji6x0vSqscAAAAwAAAwAAAwAAAwErei1oqDpmS9ZvPsmr\n",
              "JKfvwxiEFAfQV2KtReqpNbDrMQv1DoGuGITnLpCOD/QgQ6sAxyALs5nKYjjRqMX8nz6Sei3FAiXD\n",
              "RHvD50STiI98pq0mfbvn3FTCuMGXhXjSAvn30C/FJoSiSUGUJnos6yDOMUEVkhp5Mxm16nXg7QKu\n",
              "YZpkkfRXJFDcCpaXxGyPeBbveMQodW+/8lB7ysyQSlp2culct06LbyM/KXXInbaT2X8N2/3MJYWn\n",
              "E1uI8m0fEuQZyPlHEMr975lZsK+N++3/raSNSI9+cUyKoRT7JuZn/WJh+lce85r3Df5W+shwIVIh\n",
              "dTZNsWEfY94dFyJ22ky+FFcMvP6OijUlu4pMfc5fEnYX2qbbFfYpOpx8ruB74dhFw42vv0N+zHOr\n",
              "dHquPcQ0Pgjl0Q41qZUs5PfPXT9mRU7bs/W6G/KEx1iJKNKvSGqoASUrBJY9yxrs3VkJgBAUsI5n\n",
              "yEgrJQvW6BWEIopXPbRMGXfPTUWiYIZZhZAVORDZDI/sXLpbF/XTKX/ETx5Jjbxo56AvO73QBtZP\n",
              "bGPvlRzcuKDv+gxniN0gahy0vzDCl/4TA4fw4WxcXrs9pZecfhAceRU/TBrKg3DgBg3Ko0yyg/nI\n",
              "PkX5D5TJoPMM+e4Vu7jXrLQGyRHcBiPTxXcNSG2KAt/14jxJJijTSnGmMDWbHcbVKhPZboKEAA6W\n",
              "WhEhwJ2Tt0jjOMG5Ew8ujAoTsRY7AdmLYxcne13x/b/J6hYkfdtKQbwBo5pm8Y87KHT8fjc7K8Qo\n",
              "+GHDq7qxx5vpiafcBFJAbCzpCYZXNYL//pGnRUep1PUjIESUBqIP6FfYTLU8EBejVeSR17C0I4Dn\n",
              "UaLj7RohPWXB9eXhEyfmP3mLAK3DVLUQcF/yrudoJuuf8zawZwBxTb/ouuAeISULrCOOoS8qfwuP\n",
              "d3tgoxRJ9IRHi5I4fT4QFIlVEoiQqLqbhBAizHgXwMi40PXuWXgLF0r8d95OdMhKkwAN/+ziqkeY\n",
              "07ZlihoiD3LYPqqukWgvj/VMQyfSr+onRic8zIV68CFF7/FNwWaLqjTnQ4jfzwWavDhwP2uIBEFi\n",
              "hDgVOjHufK8pPRdtFUQYn2fAQ2b/CM2O58UVQbVbvMRJko+TVvaIikZaBHHXnWo381RvY733PaHU\n",
              "Bu5XcZeEgAD/2CkMHOQYnVuP309wNy2JVejRGseD38KDrita4D0Qx6bxRc6aZkTfImNxlStLu6uS\n",
              "0jz7yLPuS0uWZHx6YgT+0TaqZWC+yZAwd12wPRAPa01fpDzLUorE72dkmpQNVfob0loT9DQ5JHaK\n",
              "2ds/6ZUROEIlpWGEfh8qJ8kIUK+8dH3hNRqbHuHPxjXXWWPAkqdi8IqdnWhfFaBNKbkb5P69aAER\n",
              "E+iKEtf3qPZMLBWoHLl2xzPik0loELM4/bwe/jByoNurqJ9vVZNxza2U2Waiw/MQ+izsXianWRpr\n",
              "0wxYF/CaM/FXmQfT8RK5wVyXGa3OLEzLOEYxMFbUiv5EbI02lqftCE7xFStqOzzfXZr/vCHGulei\n",
              "GSsi9M/b3+ZEQJq2L2wRnCYjniuchzVklHXn1NY8yu9CkJbWJ7P/nukKUmGprzuh9duxunLHowfK\n",
              "yvL5K7ksm8nTOG8Vh3QgvHGSOAlGuqO0h8mGxDNntUMcLzC5LGgTYiD9h26C9wHsFMONSKC0FUYw\n",
              "hoOENnVGpxvR6bbiE7EyTfhqW+eyhhR7zfwXhpZH12UTJBLS4RJka9Vy4g+VSQpmessAAAMAAAMA\n",
              "AAMAABLRAAABJEGaJGxCf/3xAAADAAv/pusyAACSTzimdlVTKuQBm9OIbyDHNnRfAVyTL6pXz0Co\n",
              "BABjygeJMPHmFrAInnXhyqYfJx67UaEtsYQWYBoPw8+m5IzpHP6xHGf/B/SwE2sA/x80DXZuY7vE\n",
              "2Ob6odpZMwv/QQr2XDBUpx+zVvv24RGvUCFvEmS/INFCjrD6AqDAHk2dA9OqC7r8aYXIuXZ+DqOV\n",
              "O58fD7TePlHJ+2dSFRNcUhlX4Zd7GJ0P0+eymArdoiAMN+258HWe/0yaFPGh99VBZ/nmMKzBHxB5\n",
              "C1whysgWTKL8hBeTevQsEGExBa5SuumwHxLkaQpzbmQno3BIaDIXAc2AepOhgcWi022gH3quBWu5\n",
              "oYRIYIGZS1/iJJkBQs+YLKgAAABLQZ5CeI3/AAADAM3wlAAAhPna+rEAMRVA3kHxxFJ9HwDHMTk2\n",
              "blyZIHZQ8Ab/RRS33BkDBLfdTa1iqkMz4Yf154vabgPaONKyEAalAAAAPgGeYXRF/wAAAwD9+K9g\n",
              "ACogLY17lIzJzC0cZXoP0AAhSEYToCZLwcJFBOcnPHIlfIArCmUTYYVyZH8LCF7AAAAAOgGeY2pF\n",
              "/wAAAwD9wMyAAMDThF9aHUDgk5uq2ZECOpgDP0IIE6IJWHIgWIJWYWXjj9Tztus+Mv72CHkAAACR\n",
              "QZpoSahBaJlMCE///fEAAAMAAAMAAAe+x6Smt97B1nKwK0wyYZ8JcYvox6E93POZPl9NHzpYn84a\n",
              "KhFJIQrVT9ZP2UKuOXtwsqzz+bsRSLOlQKg3/mGVXVGxFIhndcANJhDFNFs+yoOEQoxAqCCxM/xD\n",
              "jM2R+POcmTdueReBswxJQby/aa1ZZ9JrfuuBsFgCywAAAERBnoZFESxvAAADAAADAACK+gvYei9N\n",
              "kW6+iPMK+TJQliCrLE5AAXgTwEhuBIEgbwqYhq36x/EZWe9VcC/i5NrNlAwqYQAAADMBnqV0Rf8A\n",
              "AAMAAAMAAKz96IcAKaOFXtRBPgGuP8xCWgAHUEYAw2HJYN9xtHLnK50QM+EAAAAsAZ6nakX/AAAD\n",
              "AAADAACs3PSQFuXQXmo8mXYY3wAAAwAWEMmW7j2fKgtIAi4AAABSQZqrSahBbJlMCE///fEAAAMA\n",
              "AAMAAAe+1fkprgyRDtB9QqozYdAJu9NH4gr4YLh1fBVh8gr5P7dHY/4e/+vCMRWnLHWNcBGU+ksn\n",
              "f/buwFYOpAAAADNBnslFFSxfAAADAAADAACtF1r9tZg/PZFHVp9l4QAAAwAN1rrmiozshEIMSmkr\n",
              "I02AD7kAAAArAZ7qakX/AAADAAADAACs3PSMXQqqi99MNQwAAAbBf5DlgEapi/9phKOpBwAAAEVB\n",
              "mu9JqEFsmUwIT//98QAAAwAAAwAAB8t/1vu8u0X9hPJ0NQNn5K90O9cUChd6AMYsDJH7/kLl8BTw\n",
              "OlcmZyf+4WRer9AAAAAzQZ8NRRUsbwAAAwAAAwAAhu69ytIYBraR18ceKGAdzQAAAwIKGGSHmeFu\n",
              "BllH1gJIcDuhAAAALAGfLHRF/wAAAwAAAwAArOmp3S6UY726qdxuI2SNAAADAX/NFJoA2ASE8Asp\n",
              "AAAAKAGfLmpF/wAAAwAAAwAArIvxgYlNxL9CAf4Ug0AAAAn1E+1aeumINSEAAAA5QZsySahBbJlM\n",
              "CEf//eEAAAMAAAMAAAw4nKzBa1gAoWWdKDAtacf8yPvR2Dc2ne/dEnYAAAMAABdwAAAAMEGfUEUV\n",
              "LF8AAAMAAAMAAKfoaQOef5skKsRmN7s2AAADAB5y9mTQ/11EnbyqENDKgAAAACkBn3FqRf8AAAMA\n",
              "AAMAAKftacC9D7i7XzFxRjsAAAMADzMlc5BBSzBDwQAAAFdBm3VJqEFsmUwIR//94QAAAwAAAwAA\n",
              "DDicpzxKXIsADYG8VSNUV3y7v/rhIDsjifb2v0z2u27ALkNuhQbyxLRQy4EsnEecEG9m76V/TyEY\n",
              "cQAgLipTYYAAAAAwQZ+TRRUsXwAAAwAAAwAAp+hlN31rlGj6lDAr9GfMmoAAAAeSoPhhIm3v9O2J\n",
              "gB0wAAAAKwGftGpF/wAAAwAAAwAAqFohk9fzCq6KadodOGf02cwAAAMAm+Hm5QWgqYEAAABJQZu3\n",
              "SahBbJlMFEwj//3hAACnx5eA/pQ3lUAAAAMAcbf9qj5isgyA516uVgXdqeAjbk1DGSP0jIxtK8EB\n",
              "JffRiZLNZl705wu4mAAAADIBn9ZqRf8AAAMAAAMAAKgNYaURgfT5YRyGmwfRDaJgX0AAAAMDg6UH\n",
              "fyl7tp9HRMjjgQAAAEdBm9lJ4QpSZTBSwj/94QAAAwAAAwAAC+iBc1lDv57up3cbPhpfcqpLyAYX\n",
              "aGrtgCHuSD7R+BEv0aai0nI1bPWZKSGXiIlO6QAAACoBn/hqRf8AAAMAAAMAAKNzDfrgIxjqde2p\n",
              "ZIj8ZuAAAAMBq8OB7GFgBdwAAAA7QZv7SeEOiZTBRMI//eEAAAMAAAMAAAvokrN+L9k3+SyGxv6I\n",
              "mTJbNFwb0owvEHRbuisADAAAAwAAJeEAAAAqAZ4aakX/AAADAAADAACjbWqQqaWzEoCAWxdeQDs1\n",
              "1gAAAwAarvT+Tg3oAAAAUkGaHUnhDyZTBTwn//3xAAADAAADAAAHZselMTy8BQzkyQ6FRaRas2un\n",
              "ObfeaXiRsI+1qJjOzQzbTA63t/gEDub8/g2p+k4s7bs9YZQjj811m1EAAAAqAZ48akX/AAADAAAD\n",
              "AACjbWrdJXHFSD3iyckPfi70yQAAAwAG7fMWGAMXAAAAPEGaP0nhDyZTBTwn//3xAAADAAADAAAH\n",
              "ZuxdLzEtmbuAF2xKwqmB2ilERZp44HPe+Pq5s/RujKKc/XGtGAAAACgBnl5qRf8AAAMAAAMAAKQX\n",
              "Wl8IuV0nQMaiTzwJZAAAAwC4S5F/uj0gAAAAPUGaQknhDyZTAhP//fEAAAMAAAMAAAdz00mjP/1X\n",
              "hyrctI8has7tycJMxUo5SxunGm5jEKPS15+8x7rZ3eEAAAAqQZ5gRRE8XwAAAwAAAwAAo4wCpizK\n",
              "Dj5Fzo2g7EHJoAAAAwGbuuLdRXpAAAAAIAGegWpF/wAAAwAAAwAAo4xwF8DfkBi/JvZgAAADAAKT\n",
              "AAAAREGahkmoQWiZTAhP//3xAAADAAADAAAHOwxrmmI83m4ftsWd5X0m8S86P1IcQJNod6TFjS0w\n",
              "nGWPo0Z4VrqJH0L5rEGsAAAAKEGepEURLG8AAAMAAAMAAHwn82pa6nCE5cnjSngyAAADAFjPuOia\n",
              "PSEAAAAhAZ7DdEX/AAADAAADAACe8SXcOHp43rIbh7wAAAMAABGxAAAAHgGexWpF/wAAAwAAAwAA\n",
              "go3AyWHqFrv9AAADAAAKuQAAAEhBmspJqEFsmUwIT//98QAAAwAAAwAAB2bQ/2u07ZDJn+EtHF3k\n",
              "dfVH6kOIEfl797jMzz0EIBzkZGTBmBHcUU10uGz7vh+VSYEAAAAqQZ7oRRUsbwAAAwAAAwAAfx3V\n",
              "0WG9Aac+wBC1enWXigAAAwBLjwmDqvSAAAAAIgGfB3RF/wAAAwAAAwAAhw4L1ST/RXZqELdFyAAA\n",
              "AwAAu4AAAAAkAZ8JakX/AAADAAADAACkHR6w7EH2HHcV/ZPZBq5AAAADAAW1AAAARUGbDkmoQWyZ\n",
              "TAhP//3xAAADAAADAAAHZthUiA8y0UC7aO8t2gAGxeccylwxr9zCd3ZNecm68+PRMVejL0TCbeyc\n",
              "sGVhYAAAACpBnyxFFSxvAAADAAADAAB+0TsbJer2kn4VGPKpwJzZAAADACofjTxoLKAAAAAjAZ9L\n",
              "dEX/AAADAAADAACjXUiJdZPOtCQdZexXRIAAAAMAAu8AAAAjAZ9NakX/AAADAAADAACjbeQ5wHRY\n",
              "qV4QSlzTPwAAAwAAD7kAAABcQZtSSahBbJlMCE///fEAAAMAAAMAAAeS4DWaKY+6tj8TokuPAAGx\n",
              "n32IP46P9Gx9pa/p/Jle21OgAO4dg/otXcmtDjgyIlbDByL2J7zwqpYbmY5qd0KIJUJ6BCEAAAAq\n",
              "QZ9wRRUsbwAAAwAAAwAAgvpRjiixZmUQ9O3rnDyUpT5AAAAKh9YLoI9IAAAAIwGfj3RF/wAAAwAA\n",
              "AwAAo97DmE1zpMSF72I3mEAAAAMAABlQAAAAJQGfkWpF/wAAAwAAAwAAqGXjSzFb0OBDBWKZmcNJ\n",
              "igAAAwAAJeEAAAAyQZuVSahBbJlMCEf//eEAAAMAAAMAAAw4p6iRKaQJAAihj0dDaO1+ceoKUEAA\n",
              "AAMAAY0AAAAjQZ+zRRUsXwAAAwAAAwAAqFZw3NL9L2gdAAADAA+4wDOHjSoAAAAcAZ/UakX/AAAD\n",
              "AAADAACn6K2FCPmPgAAAAwACpwAAAEhBm9hJqEFsmUwIR//94QAAAwAAAwAADIiovHQ70VWGeugP\n",
              "XE4bTL9wi5qJJtoAYfHhkS6hX4Xi3ghFYHCNUkXM8Rk8QDUYnRIAAAAoQZ/2RRUsXwAAAwAAAwAA\n",
              "rGp/GnpPBqJH9mNYBAAAAwB0/HrHBWMRsQAAACIBnhdqRf8AAAMAAAMAAKxoqsJQEMS1QnrLQAAA\n",
              "UXi7XwFtAAAAU0GaGkmoQWyZTBRMI//94QAAAwAAAwAADNn5eCv7xedEKicGhGQqSniIZWO+p+cE\n",
              "07CUFc/bfcZZUL/Rn4o6O1BlWFLvCg5onm1HmoAAABH3zWpwAAAAKgGeOWpF/wAAAwAAAwAArxdd\n",
              "BGlxPYDf9Cbo3Sn05AAAAwCopXu1ICIKqQAAAFRBmjxJ4QpSZTBSwj/94QAAAwAAAwAADNvkBDPb\n",
              "NouyNxicNxQClT2cM7aX77baXSUAVGCULVBYLapNOJk/7V8K6zgetwXqV813MtbaE0V04WMVm4AA\n",
              "AAAsAZ5bakX/AAADAAADAAC15nd5CjlHgLPBvxYo5VQ7o2AAAAMC3TDkh1P1A48AAABYQZpfSeEO\n",
              "iZTAhH/94QAAAwAAAwAADSiq5HQ7zzZNMln1cCt8ChLhKCufuAoGdBbYVLkubGQzilzt2e12as5x\n",
              "yDKFm+B9QEuIejQKSXrwKGjG2psYdjf4gQAAACtBnn1FFTxfAAADAAADAAC2HRwxNVUtXBiiVoSq\n",
              "O+GkoAAAAwFhFGHfSVtAAAAAJQGenmpF/wAAAwAAAwAAtWiqr0gBM1gebCQmA65/NAAAAwAAWUAA\n",
              "AABWQZqBSahBaJlMFPCP/eEAAAMAAAMAAA0oppS34cLB5QYACSwfoTT425Kb5TCuiWPr5aHy0M/A\n",
              "Hf5eMnbFAJrUDQd6A4mskqdfEtVHZYU4zVafwPjyT2EAAAAnAZ6gakX/AAADAAADAAC6ZeZXJRMD\n",
              "85Dqq/oIqQAAAwAMRGn/WBvQAAAASkGao0nhClJlMFLCP/3hAAADAAADAAANeKaUdDuzJHSiu5rh\n",
              "4fCgBDREGJrG+rzmq9OVktfX80XBNhxMH64S+g3MZgoAAAMAAD0hAAAAKgGewmpF/wAAAwAAAwAA\n",
              "ueiqr0WYXA38cIRMsFzrhCAAAAMBZ1uSDlRbQAAAAGdBmsVJ4Q6JlMFEwn/98QAAAwAAAwAACKgT\n",
              "+ATXx767a1pMaOw60Q2M+ha198+CYMkI4NTw76xaAT1V3njsJT+xe5ghtLyM3u1dU1//gprgquAD\n",
              "0QVvBINeRGgJtw7OETmzlaStil0tAAAALAGe5GpF/wAAAwAAAwAAv0eZDVQZx6HRybfLU7deu/2M\n",
              "QAAAAwLV9h7QaLaBAAAARUGa6EnhDyZTAhP//fEAAAMAAAMAAAinAkvnEaCaEAxhcyclUCaG4huk\n",
              "XWDMG7MFeYaBgSJWDZbyf5dZIx1fIvxxowJO4QAAACxBnwZFETxfAAADAAADAAC/NTH0ju2grKEU\n",
              "otvJJKCxmiAAAAMASHKVBEBJwQAAACMBnydqRf8AAAMAAAMAAL6+WyPqQratm60cFvZggAAAAwAE\n",
              "XAAAAE9BmypJqEFomUwU8J/98QAAAwAAAwAACPcQcDErUAalLuw6IJZ6Kg/L8Cx5LjZ98/jvF9I5\n",
              "nStcwtAJ6kKWU23Wmg+/CMbIAAADAAADAO6AAAAAKgGfSWpF/wAAAwAAAwAAw77ECCmD110sbReX\n",
              "LSx5LEOgAAADAT8MnwMDZwAAAE9Bm01J4QpSZTAhP/3xAAADAAADAAAI5wD8Ca4Nwal04HABr6Ur\n",
              "ntWf85D0oiqNrqci6zS/GD78IM0Ud9FHfVFlD820Lv76ndtYYU/0o2lwAAAALEGfa0U0TF8AAAMA\n",
              "AAMAAMQ0GncOE/WNbt4QpjM7KoUfVAAAAwAL2OSpgBJwAAAAIwGfjGpF/wAAAwAAAwAAw7wLv+Ta\n",
              "tycvNAIitoVgAAADAAFbAAAAV0GbkEmoQWiZTAhP//3xAAADAAADAAAJKBP4D9KvvLBxR9s/UJBC\n",
              "M9QUEV7SwbzbcuGtK95gd972dYaCC4XWxJUNg3EQJdO44CGdY4/ds4/inRh86GePCQAAADBBn65F\n",
              "ESxfAAADAAADAADIv1eFBZxKDBnqZO3e8lug+HhoaDAAAAMBFskqnDugz4EAAAApAZ/PakX/AAAD\n",
              "AAADAADJN7ZPdC5KtDKZBsBXyr1tH7IAAAMAAaZYY8AAAABAQZvUSahBbJlMCE///fEAAAMAAAMA\n",
              "AAkpby7z5nNqD7Fq9kEXXhfPQstenwaCnRyrIDpbhXNHZrBOk6+O/4yDGgAAACtBn/JFFSxvAAAD\n",
              "AAADAACe9aZwM0CKpHCPm7W7JV3DwAAAAwAUwv8rgFxBAAAAJQGeEXRF/wAAAwAAAwAAyKuj2iM9\n",
              "JTpf86eOY9N5QAAAAwAA6oAAAAAjAZ4TakX/AAADAAADAADIzceKnjJ3a0wmNjzzkAAAAwAAk4AA\n",
              "AABPQZoYSahBbJlMCE///fEAAAMAAAMAAAknDZ1Tf+d9Q76AmW3MXjJ4Ajx8ShpX2E09ETLzN0UR\n",
              "vFJokSbkMGC79kO3bW4fzvtgjYbUftCqgQAAAChBnjZFFSxvAAADAAADAACfGNtDuFFviGfaIR/1\n",
              "YAAAB8NlotyXYBLwAAAAJwGeVXRF/wAAAwAAAwAAyU333cZrh7IgOubN8Zac9AAAAwD2yoC2gQAA\n",
              "ACEBnldqRf8AAAMAAAMAALEQ2h+HlmXHsKAAAAMBfzVQH+EAAAAxQZpcSahBbJlMCE///fEAAAMA\n",
              "AAMAAAkm74BroDd/m6CIfd/FZhD7AAADAMFyShA7oAAAAClBnnpFFSxvAAADAAADAACfWlgPnxRf\n",
              "nJv4HoIgqEAAAC+eHVSWoACBgQAAACIBnpl0Rf8AAAMAAAMAAMi96mdutmo5oPcroAAAAwI3yAGz\n",
              "AAAAIAGem2pF/wAAAwAAAwAAyMTxg59lncdTF1QAAAMAAAVNAAAANkGagEmoQWyZTAhH//3hAAAD\n",
              "AAADAAAOdRVsv93vh70y4w/cCpy0Fbpvf/DKzv29EGgHx4YF5QAAACRBnr5FFSxvAAADAAADAACf\n",
              "VP1XV5pyDJ7HkAAAAwLGbYf9JekAAAAeAZ7ddEX/AAADAAADAADJTujc2wO5jigAAAMAAIWAAAAA\n",
              "HAGe32pF/wAAAwAAAwAAyMTtgbarYwAAAwAAC7kAAAAoQZrCSahBbJlMFEwj//3hAAADAAADAAAO\n",
              "jv+pnlhaQrJgAAADAABWwAAAACIBnuFqRf8AAAMAAAMAAMkz80e6jFgcYAAAAwLGhYMZ40qBAAAA\n",
              "OUGa5EnhClJlMFLCP/3hAAADAAADAAAOHQ9AyRJq/MAxy6pa4IUyfTqJCT3ki7vY/yM/IVBdvZLc\n",
              "0AAAACIBnwNqRf8AAAMAAAMAAMO64WvzYGbtj3KAAAAF0ITrUQLLAAAAOUGbBknhDomUwUTCP/3h\n",
              "AAADAAADAAAOIizUKoev17OtfqH5GQDCEsbqb4v2c1v4gpCZQNrJGdVu4QAAACYBnyVqRf8AAAMA\n",
              "AAMAAMO98PMExY1hvyWKYwwAAAMAlqhOoxpekQAAACtBmydJ4Q8mUwIR//3hAAADAAADAAANyJhc\n",
              "ss9Cv+x1JvMpeSegAAADAAG/AAAALEGbSEnhDyZTAhH//eEAAAMAAAMAAA3IkrLLNIGIjGqfSAKK\n",
              "yZAAAAMAAEDAAAAAO0GbaknhDyZTBRE8I//94QAAAwAAAwAADd7/qaPmKKShtxeFzCvGY0F2FHso\n",
              "JA2ec4kkPniFC4oeSzMgAAAAJwGfiWpF/wAAAwAAAwAAvzWg0fBYFyYgMB3IJeYAAAMAIweAeOqL\n",
              "aQAAAGxBm45J4Q8mUwI///yEAAADAAADAAA0+/4fVEBBJJnuxj+PyXOY/4o6s0uJV1LHjWwzayDA\n",
              "0swxFwPF10zMRzMpl69Pv9gn2DRhokGgZ9RAmvSv9KcP/GIvB3KQmPzDW0uYyD88eSRgXlP7ZmQA\n",
              "AAAtQZ+sRRE8bwAAAwAAAwAAkvCjLOmoUcw5M6t1onI3dHiqLAAAAwAaVZkunqvSAAAAJQGfy3RF\n",
              "/wAAAwAAAwAAumFaVe21hMCqvwcK9YCCgAAAAwAAk4EAAAAlAZ/NakX/AAADAAADAAC6DVwfUzPK\n",
              "amsEEdi3f5LAAAADAADegQAAAFVBm89JqEFomUwI//yEAAADAAADAAAzjH1BeHD6AKOIpma6DlkS\n",
              "NfPHbMSKMjySh2AvYqedfG/rczVgboFiW3Bx3dD+5ZBehiEwNbeAPQWWVkSdKcuBAAAAOUGb8Enh\n",
              "ClJlMCP//IQAAAMAAAMAADO7/dNNfqzRCH9vBnyrZD3u53XyjwnI/nnEuwAAAwAoux/XCAAAAC9B\n",
              "mhFJ4Q6JlMCP//yEAAADAAADAAAyH8nuCgTw17gw3hTqv9tRG2coAAADAABTQAAAAERBmjJJ4Q8m\n",
              "UwI///yEAAADAAADAAAyfGqAHpHVPTCmhTMCEl8EX45nvNrgrPzFVV/EYukvuU+AAAALsx6WBxCI\n",
              "jTjpgQAAAEhBmlNJ4Q8mUwI///yEAAADAAADAAAye/3TWsLoioh/bx5xcyH6IqQoUVd3vZ/CXS29\n",
              "Id4h27erK3hEfR6HBItMzl2N9YNllNAAAABDQZp0SeEPJlMCP//8hAAAAwAAAwAAMN/QPkpPFa9w\n",
              "YbwK/upLpQAr8J3jLFandxmAbxsmpqMaJHhfyAa4AAADAACdgAAAAEdBmpVJ4Q8mUwI///yEAAAD\n",
              "AAADAAAxPon9rQEDO3zB2U6+9evqxrIOuIxzdsK48d46e4Xo4IQEI44Ch37DY9w5ndIUq2d+CQAA\n",
              "AEhBmrZJ4Q8mUwI///yEAAADAAADAAAxO/3TUl04AYI80ogsX7I1zu5Z7eYlKhzcfEnTHDYDagPN\n",
              "rrqzUDbzSaAwToy1TBEuFnwAAABCQZrXSeEPJlMCP//8hAAAAwAAAwAAMT6Ir3w+hBej+GuIGLbV\n",
              "eCJop1IYXP10RQ3bdK2xFcRqoMcdZIUo+9R2+J3BAAAAS0Ga+EnhDyZTAhH//eEAAAMAAAMAAAw4\n",
              "qfL2aIBpIBsLrpPJK+k4O+edy5/xjam1wPFUG6xSppCfubLGye5V2GN3NCAvrBj9Mdp3QQAAAElB\n",
              "mxlJ4Q8mUwIR//3hAAADAAADAAAMTv+pnMmCQC4qtiQf13nbrtV56EGhGf5fctRSpDSTKRmgs7lf\n",
              "5tgcp4KYIJ62ZpDdnBZ8AAAANUGbOknhDyZTAhH//eEAAAMAAAMAAAvol0j1i9wsvsdZlmgPmHXR\n",
              "HQZxHa5foXAAAAMAAGzBAAAAR0GbXEnhDyZTBRE8I//94QAAAwAAAwAAC/7/tMKoBZMs9EbHpQHg\n",
              "GpsOrOV6d6B8RQlpHcaDI1f5dR/R9qQOk9kqYedQVu2UAAAAKAGfe2pF/wAAAwAAAwAAnukyQVpi\n",
              "BHL7GyNCvM3wAAADAUc5XniufcEAAAAvQZt+SeEPJlMFPCf//fEAAAMAAAMAAAc63hqUgDM8Dgft\n",
              "N+9KqhSj6AAAAwAAC2kAAAAjAZ+dakX/AAADAAADAACe6GU1IiaMHadUAAADAGvugq/NbOAAAABG\n",
              "QZuASeEPJlMFPCf//fEAAAMAAAMAAAdH03EE4A5LI8tQDvi8WcbW7y2L/ceZ27vwwMkx7CNQQUEF\n",
              "wus2qhMZgAAAAwAJWAAAACgBn79qRf8AAAMAAAMAAJ8L4T/9Kmxp863z6ULxggAAAwAEcUy5NAN7\n",
              "AAAARUGbpEnhDyZTAhP//fEAAAMAAAMAAAcRFkfWAGZObKQ1do/fZHQ4vnn5T6K/Nfu4h/BaZrG8\n",
              "LMXhw1IVhF/5AAADAAAN6AAAADFBn8JFETxvAAADAAADAAB5lSmooAkOMKy5JIz1JMx5+k1xSSn8\n",
              "WAAAAwBYY/7JgQb1AAAAIwGf4XRF/wAAAwAAAwAAmn2YxzDIL7iwfN99UlAAAAMAADFgAAAAJAGf\n",
              "42pF/wAAAwAAAwAAmj/r2rpNmNGxvWAcdy+NAAADAAAYsQAAAERBm+hJqEFomUwIT//98QAAAwAA\n",
              "AwAABuSkpMtZOyq9X+etCLMGLSZZAAEZtJ+2HU9KpVK1sRDjTot0XH287dXdAPJE7wAAAClBngZF\n",
              "ESxvAAADAAADAAB2kjSGsLTDsaPdUiBmFWavgAAACHTaLoEW0QAAACQBniV0Rf8AAAMAAAMAAJb7\n",
              "EQCEmxZ/1+qyGoyy6AAAAwAAZUEAAAAiAZ4nakX/AAADAAADAACWklQ4Po3VC33wld6UAAADAAAE\n",
              "DAAAAEpBmitJqEFsmUwIT//98QAAAwAAAwAABuSv0GNE1pgJea+/mUAyDn64AUZvOQAXtSEPlzy5\n",
              "Cya/morr+PldFZQ+fMA4AAADAAD2gAAAACZBnklFFSxfAAADAAADAACWl3beX1mNzKT9j6+3gAAA\n",
              "EBY1tG1ekQAAACEBnmpqRf8AAAMAAAMAAJawvcW9T3qygvlz8AAAAwAAyoAAAAAtQZpvSahBbJlM\n",
              "CE///fEAAAMAAAMAAAXPc4MLpXSMZvc+QXCqjPAAAAMAABewAAAAKEGejUUVLG8AAAMAAAMAAHaY\n",
              "Gg1/KqPPboyBkA/fmMAAAAYkadlg590AAAAgAZ6sdEX/AAADAAADAACWk2VVfXK1fqcliQAAAwAA\n",
              "BlUAAAAhAZ6uakX/AAADAAADAACWsL1oD2A6hqhWrVyAAAADAAxZAAAAMkGasUmoQWyZTBRMJ//9\n",
              "8QAAAwAAAwAABuSt0Cm/6aDO3rI1lclxBCKYgGAAAAMAAHTAAAAAJAGe0GpF/wAAAwAAAwAAlphu\n",
              "FlzDk8Vn5j9ngAAABpyhKnhHpAAAADtBmtVJ4QpSZTAhP/3xAAADAAADAAAG5KI3wK9vIpQB6PTL\n",
              "Ozgu86hWDJ9WlMERw+AMhAQwAAADAACygQAAAChBnvNFNExvAAADAAADAAB2kleciGBB6lhobvNX\n",
              "iNGAAAARBkP8ogLKAAAAIQGfEnRF/wAAAwAAAwAAloScV1k6RYC54iHIAAADAACkgAAAACoBnxRq\n",
              "Rf8AAAMAAAMAAJaSy3amWjewCEKXitO0SrwzjSTIPgAAAwAAFtEAAAA9QZsXSahBaJlMFPCf/fEA\n",
              "AAMAAAMAAAcO1aFV67sEt6xCFf3fHPd+1A0NVcITv80XbDg0Sry/DVzezKDb8AAAACcBnzZqRf8A\n",
              "AAMAAAMAAJqT2PrLS1S07Ib2nKHAAAAFaVWbiVmQd0EAAAA4QZs6SeEKUmUwIT/98QAAAwAAAwAA\n",
              "Bw7e3MOOTlwnAHJZHlqAdtMSXTDH+rHMjzqmFgAAAwAAELEAAAAqQZ9YRTRMXwAAAwAAAwAAmurf\n",
              "elBCLsT637YMY4AYwAAAAwNrDx89+PSAAAAAIgGfeWpF/wAAAwAAAwAAmounqyRP0cdkgDuDMgAA\n",
              "AwAAB00AAABLQZt+SahBaJlMCE///fEAAAMAAAMAAAdHjNABsDh22WD8XneO//ksgmyMVzcjJZGh\n",
              "LqzVJaALzs3472oePeprMm6KhrAAAAMAALOAAAAAM0GfnEURLG8AAAMAAAMAAHwTUWaDHancYAm1\n",
              "EvqhKp2voAIXniSR6YwAAAMAabGYavK2gQAAACMBn7t0Rf8AAAMAAAMAAJ97h9lG3VwM+g1epNjk\n",
              "AAADAABbQQAAACYBn71qRf8AAAMAAAMAAJ9XgNep1Q592s49Z9r4WziTgAAAAwAGpAAAAFBBm6FJ\n",
              "qEFsmUwIT//98QAAAwAAAwAAB3NTcDErUAoJPfevgecHS/bfKJbtilv0zZfc7CIO6BVYgYRSVoMy\n",
              "LtR3w7dLbLntIYWkAAADAAA+YAAAAC5Bn99FFSxfAAADAAADAACj5s6TZNxO/CwliA2vFhZ44zCz\n",
              "WGAAAAMBNh5lHA3pAAAAJAGf4GpF/wAAAwAAAwAAo2j8HhADAphTooFRpYKPAAADAAAHpAAAAFVB\n",
              "m+NJqEFsmUwUTCf//fEAAAMAAAMAAAdm2lp5Mn21RMw95gGpS7sOiCXpjP3/OyfLnxfnWEkSC2Kv\n",
              "+Cw61jAopU8fUeNsw1A0icnzFNQAAAMAAMqBAAAAKgGeAmpF/wAAAwAAAwAAo2ivoXqINv6/BBLQ\n",
              "VipN6oIAAAMABNjIr4cGzAAAAE9BmgZJ4QpSZTAhP/3xAAADAAADAAAHn4zQAbA33y6tcxJSq9H5\n",
              "KGl4PpVS0StF7pdT1Em7cFi2ofxk0iTznl9/MUhI5E/nkR9Z5FONOFeTAAAALEGeJEU0TF8AAAMA\n",
              "AAMAAKPXgK3VBu5O8s8fWFsMeDVaAAADAAOlETdqAOWBAAAAJQGeRWpF/wAAAwAAAwAAp+iqvtlf\n",
              "m2bpSiP+B3NpNYAAAAMACmkAAABQQZpJSahBaJlMCE///fEAAAMAAAMAAAe/mHwFDOmq9X1HIHqE\n",
              "cLz/bpLA3RH7fKqTGJ/X6IXNYnd1mbC5YgumerCl0BpVeX2Y2gAAAwAAj4EAAAAuQZ5nRREsXwAA\n",
              "AwAAAwAArObOn+nDo62BEH1T2NHPWyIwMCMAAAMADHbg5gCggAAAACcBnohqRf8AAAMAAAMAAKzm\n",
              "dZDDBZH1baHRx3brG7J+eAAAAwAAbMAAAABbQZqMSahBbJlMCE///fEAAAMAAAMAAAe+34k6hY6k\n",
              "YlwjHDvxkAFbpA41jGcn+7uQ8RsSS3W9s0fFxgGIoX3RbbegG5cQQgaKsKiQtxDW8UCDVxWWYTsM\n",
              "z4sgsQAAAC9BnqpFFSxfAAADAAADAACs14CUEZWzBPU+yWeGoe3TmeGfCfAAAAMAB++r5TQDKgAA\n",
              "ACMBnstqRf8AAAMAAAMAAKxmez4l/5uElULk/5pAAAA6BCAVcAAAADtBmtBJqEFsmUwIT//98QAA\n",
              "AwAAAwAAB+rg4iIDkVsaGgT0GJwD5eJ//FM2w3op1AZjVFSfkAAAAwACDwAAACpBnu5FFSxvAAAD\n",
              "AAADAACKnsxoSyAytQKdI1wFLAAAAwDzeCTAJqoAwIEAAAAjAZ8NdEX/AAADAAADAACw17dwXtm0\n",
              "GwWqyfAgAAADAsBIAi8AAAAdAZ8PakX/AAADAAADAACw5nmEWwTigAAASnuKSTgAAABgQZsUSahB\n",
              "bJlMCE///fEAAAMAAAMAAAgm/6veUg7OtLeeSo/DhA2RRIN2K1zfpzSATPGc5CIMTXbfVpmGyqff\n",
              "DKnK6ydc5nOCbsOVmGxX7CgLSuq2T0fBAMHfmLtWbULAAAAAKkGfMkUVLG8AAAMAAAMAAI76UIdU\n",
              "d3n0F6UiqMlDcAAAGVFB0Gc8TbgCDwAAACUBn1F0Rf8AAAMAAAMAALDdTtrBheCVvVeM6tYAAAMA\n",
              "SYkwIAScAAAAJQGfU2pF/wAAAwAAAwAAtW7w+qbtlkzGldluDcAAACPN7MwAKmAAAAA/QZtYSahB\n",
              "bJlMCE///fEAAAMAAAMAAAgm9zAa6d3x/fTSVzcJHxUuIPMVzJ24QaMxcFp1iSW0Pj9cuXewfCKT\n",
              "AAAAK0GfdkUVLG8AAAMAAAMAAI6b+q9oStqg4ggj8ToSAAADAfsqj4LozPdwCkgAAAAlAZ+VdEX/\n",
              "AAADAAADAAC1YV6iQwln60J6bGpXAAADAJpjECAH+QAAACEBn5dqRf8AAAMAAAMAALV0MyNh7oJP\n",
              "xe2AIAAAHmew5E0AAABAQZubSahBbJlMCE///fEAAAMAAAMAAAgnDZ1HnkAVPldtIZJOD20evagu\n",
              "tJIrnbsD+JpQZm3eCMFs1f+JNqt4qgAAAChBn7lFFSxfAAADAAADAAC1dDNUWAO53/J1Ar06gAAA\n",
              "zpYcDTX15z7hAAAAIgGf2mpF/wAAAwAAAwAAtee7jmRv0IifNGwAAAMAjfruM+AAAAA4QZveSahB\n",
              "bJlMCE///fEAAAMAAAMAAAU95l3XN1awIHiWL6TZ9sudu014Qykqtbz3ezABT8+dnKEAAAAlQZ/8\n",
              "RRUsXwAAAwAAAwAAcYBauWTw5m0rjAAABft3eWPKb9L0gQAAAB8Bnh1qRf8AAAMAAAMAAHFPnNM6\n",
              "HASgAAAcpkvmiQeYAAAAOkGaAUmoQWyZTAhH//3hAAADAAADAAANKPDu7rWAChZZ0oMC1px/zI+9\n",
              "LByk4D9E8a9jZiAAAAMAAbMAAAAmQZ4/RRUsXwAAAwAAAwAAdBr5fKQhRRO+74AAAMjPG/Kwhx2e\n",
              "gW0AAAAlAZ5AakX/AAADAAADAAC2HY7MRehTrW9sKbnxmAAADJJ98GAZ8AAAADhBmkRJqEFsmUwI\n",
              "R//94QAAAwAAAwAADSiBcuNRaAUccZ/3Sh2xOMB8qoWoFTu2XaioAAADAAAFJQAAAC1BnmJFFSxf\n",
              "AAADAAADAAC1bWmWkrJ3ghH35htAC+oSAAADA85TtwwLOsGcBJwAAAAoAZ6DakX/AAADAAADAAC1\n",
              "cwwuAQ8jTtf6DGPuXrHLQAAAaajg30BrQQAAAE9BmoZJqEFsmUwUTCP//eEAAAMAAAMAAA0ou6b5\n",
              "+tP8PbcusUazKoEH44XGgw2zJm5PI06ScPwqWPdhCVj1gzeUVf1AIbNzNgdpE0J5QuBBAAAALQGe\n",
              "pWpF/wAAAwAAAwAAtXMMZ+7Wy0gt72PwEHGHGYwAAAMD+VjS0NM5/BAYsQAAAEFBmqhJ4QpSZTBS\n",
              "wj/94QAAAwAAAwAADSiBXPEgu4jSkpXHO5UAOL15l+/FM/JKMbDevv+5dJgOGeJTByVpJDsQOQAA\n",
              "ACkBnsdqRf8AAAMAAAMAALVtVIwDjY/a9rSScBMYznEAAAMADIdxLq50bAAAAD5BmspJ4Q6JlMFE\n",
              "wj/94QAAAwAAAwAADT7/qZDCvzftTkZ5JBXOF41J+b4HUENhwpjfGz8aG5OXVZA7nhO2DAAAACgB\n",
              "nulqRf8AAAMAAAMAALDtaiFx7eShQBi3BdkC6AAAAwCMSBCOc6NhAAAASEGa7EnhDyZTBTwj//3h\n",
              "AAADAAADAAAM2IFzWUTCPw6f/AMCV6preL7jygCzYRW9SMBcaO82R8Ed//Fs8ohyNCXl5PNT3psl\n",
              "YAAAACkBnwtqRf8AAAMAAAMAALDtamAgFXmWvcXrm1ZQ3yAAAA+iBIx6JJQBswAAADxBmw1J4Q8m\n",
              "UwIT//3xAAADAAADAAAH6ux6q2e4Zz+4S5mUEHPjvNhQAUcAf6eELya9eAAAAwEi0TjEyykAAAA4\n",
              "QZswSeEPJlMCE//98QAAAwAAAwAAB+rSbRjlKigDCJ+m0dKrLixaFgMGnhkqkWcXAAADAAADA1cA\n",
              "AAApQZ9ORRE8XwAAAwAAAwAAsVz119vHqBbZv8ngmCq72YAAAAXOa3jeEW0AAAAkAZ9vakX/AAAD\n",
              "AAADAACw8w6C9K0l/u5ipvOGJswAAAMAABiwAAAAOkGbc0moQWiZTAhP//3xAAADAAADAAAH6tVJ\n",
              "K3MEZqDJ4WfeATN2wxBtqsiGZZNxXxfutOAAAAMAAQcAAAAsQZ+RRREsXwAAAwAAAwAAsOYxOFYQ\n",
              "8VRHwj5bX1yWsozxcAAAAwBdVgiSgQcAAAAlAZ+yakX/AAADAAADAACxXO6mx3AhDpMQDjSTPwrI\n",
              "AAADAAC2gAAAAE9Bm7VJqEFsmUwUTCf//fEAAAMAAAMAAAf3f9Zkb3rnIANXx77yWCO2ESERe5Vl\n",
              "O+BHGqsWzo3KJgriUo4+z+NSdJb5wtS0Rdgp1loezEKwAAAAJwGf1GpF/wAAAwAAAwAAsQwCpp4y\n",
              "lZmNbJg+jpoAAAMAF7YFBsq9IQAAADZBm9hJ4QpSZTAhP/3xAAADAAADAAAHvtJtaAbdGMAX8v3j\n",
              "H7fGAUSdy07IQo8n86AAAAMAAjYAAAAsQZ/2RTRMXwAAAwAAAwAArG1rdroff42b9Z0b0ca/edBA\n",
              "AAADAlo3Xy1A3oEAAAAkAZ4XakX/AAADAAADAACscxCSXFdUXEy6KIpYvPgAAAMAABdxAAAAO0Ga\n",
              "HEmoQWiZTAhP//3xAAADAAADAAAHvux7zTl7R/fSN+kSU/vFYifxpJeJrVDst+iCw0YAAAMAAAmY\n",
              "AAAAK0GeOkURLG8AAAMAAAMAAIal3HlwL6HNqf6NRivVT/FqAAADACXMBmSLo2EAAAAgAZ5ZdEX/\n",
              "AAADAAADAACOfosTsvc0+9pbIAAAAwAAyoAAAAAhAZ5bakX/AAADAAADAACskcM/uK0WzANglD4A\n",
              "AAMAAAtpAAAAOkGaQEmoQWyZTAhP//3xAAADAAADAAAGvKTiHT1I7/StbIuMA3DWz+VPK13HMojj\n",
              "sJZ7VYgGnSrbol8AAAAlQZ5+RRUsbwAAAwAAAwAAdCUTP1mmr5aDhdkAAAMABsu89nzH6QAAAB0B\n",
              "np10Rf8AAAMAAAMAAI6Bb6Zx4tG6AAADAAAjYAAAACABnp9qRf8AAAMAAAMAAJL5PrByLyEtNWzd\n",
              "gAAAAwAIeQAAAD9BmoRJqEFsmUwIT//98QAAAwAAAwAAB77GTKmUBAm+jv9IzFKsRP5NrN0VJ3Ha\n",
              "8FX4I84uzt8qRgTs+L0gA+4AAAAqQZ6iRRUsbwAAAwAAAwAAhqa1KMStKP6rD/6JVWuI7AAAAwBy\n",
              "RVOhQFlBAAAAIQGewXRF/wAAAwAAAwAArOjf4cICeFHeZ9BAAAADAAA5YAAAACABnsNqRf8AAAMA\n",
              "AAMAAKzoRBla9A7xw9I4AAADAAA+4QAAAEFBmshJqEFsmUwIT//98QAAAwAAAwAAB+rYUcbheOGa\n",
              "Pqf5ADVGR7cLOMTAmK71PQ+xo6FlDWoILOg6PpqrU0nX+QAAACZBnuZFFSxvAAADAAADAACK+k6+\n",
              "rTg6x2e3AgOWAAADADkIoCXBZQAAACABnwV0Rf8AAAMAAAMAAKxhYw9gnhzfz32cAAADAAAfcQAA\n",
              "ACMBnwdqRf8AAAMAAAMAALFmfrg17YEqrtbBElu3IAAAAwACpgAAADVBmwxJqEFsmUwIT//98QAA\n",
              "AwAAAwAAB+rduIgPH6Xw5D2isxIzHsqsTn9I7SWAAAADAAAf4AAAAChBnypFFSxvAAADAAADAACK\n",
              "75uUlJuv80Affgj+2b7AAAAHJCUxNgspAAAAJAGfSXRF/wAAAwAAAwAAsWST+RE9IMC0ycEmHxfY\n",
              "AAADAAB4QAAAACIBn0tqRf8AAAMAAAMAALDt42u+lv7LKeTF4K+AAAADAAFlAAAAUEGbUEmoQWyZ\n",
              "TAhH//3hAAADAAADAAANKKeodDvQfJEgVALFWNhOgNqyIJCOb9eh6NKRgIPjJvepiFVvGqFrvfOK\n",
              "Sgw5VUbLGPz3Asjn/ReRAAAAL0GfbkUVLG8AAAMAAAMAAI76URuTrsRHlqNcsVxMOP3qed8F4AAA\n",
              "Cau479yKAE3BAAAAIwGfjXRF/wAAAwAAAwAAsWSdhL3M/n4M91+Y0TAAAAMAAEDBAAAAJwGfj2pF\n",
              "/wAAAwAAAwAAtWZ3gvEpwvGNG0N6FIPOX0R4AAALFogD0gAAAEpBm5JJqEFsmUwUTCP//eEAAAMA\n",
              "AAMAAA0ol9Lp2dZIQC7PLPlCvAI6OgzsdAi8TQHYB9WOdXaT8o2caV3fEMp/fQllItSgGSQjDgAA\n",
              "ACsBn7FqRf8AAAMAAAMAALVmfFT+ZPailJmJ1RU1LgBAAAAdEwUY1A2HBgFFAAAARUGbtEnhClJl\n",
              "MFLH//yEAAADAAADAAAzX62G2LOy8QDSP75g7KVzBWKcuChroFLdXFhevkpLfnFAHAnSGZ66AAAD\n",
              "AAAf4AAAAC4Bn9NqRf8AAAMAAAMAALVmfC1kq366FQzyOBctOnuIfPAAAAMATU7kNuYaAFnAAAAA\n",
              "PEGb1UnhDomUwIR//eEAAAMAAAMAAA16rN4GT3jAs1/OZt4r0DwwDKP6BSX0GlyGv67+ix8oAAAD\n",
              "AACkgQAAAElBm/lJ4Q8mUwIv//pYAAADAAADAABnb+sTp0l47k90A1FCSQSo273aNZtBBhbX8XPe\n",
              "ylWvqYDx7C5OYFJkeEXcGqQvCZcOWa8gAAAANUGeF0URPG8AAAMAAAMAAJKeWeiMHEjI6aY0FB5x\n",
              "B+GVZl+1Ih185aEAAAMACati9WKegCthAAAAKAGeNnRF/wAAAwAAAwAAudgepiupfqIeSoV8rvXo\n",
              "tQ6AAAADAKRvA/MAAAAqAZ44akX/AAADAAADAAC5nBvpNBjmqt4LJ+mv8bqTD+YqOEdAAAADAAEP\n",
              "AAAN0m1vb3YAAABsbXZoZAAAAAAAAAAAAAAAAAAAA+gAAAnEAAEAAAEAAAAAAAAAAAAAAAABAAAA\n",
              "AAAAAAAAAAAAAAAAAQAAAAAAAAAAAAAAAAAAQAAAAAAAAAAAAAAAAAAAAAAAAAAAAAAAAAAAAAAA\n",
              "AAIAAAz8dHJhawAAAFx0a2hkAAAAAwAAAAAAAAAAAAAAAQAAAAAAAAnEAAAAAAAAAAAAAAAAAAAA\n",
              "AAABAAAAAAAAAAAAAAAAAAAAAQAAAAAAAAAAAAAAAAAAQAAAAAMgAAADIAAAAAAAJGVkdHMAAAAc\n",
              "ZWxzdAAAAAAAAAABAAAJxAAAAQAAAQAAAAAMdG1kaWEAAAAgbWRoZAAAAAAAAAAAAAAAAAAAMgAA\n",
              "AH0AVcQAAAAAAC1oZGxyAAAAAAAAAAB2aWRlAAAAAAAAAAAAAAAAVmlkZW9IYW5kbGVyAAAADB9t\n",
              "aW5mAAAAFHZtaGQAAAABAAAAAAAAAAAAAAAkZGluZgAAABxkcmVmAAAAAAAAAAEAAAAMdXJsIAAA\n",
              "AAEAAAvfc3RibAAAALdzdHNkAAAAAAAAAAEAAACnYXZjMQAAAAAAAAABAAAAAAAAAAAAAAAAAAAA\n",
              "AAMgAyAASAAAAEgAAAAAAAAAAQAAAAAAAAAAAAAAAAAAAAAAAAAAAAAAAAAAAAAAAAAAABj//wAA\n",
              "ADVhdmNDAWQAKv/hABhnZAAqrNlAyBloQAAAAwBAAAAyA8YMZYABAAZo6+PLIsD9+PgAAAAAHHV1\n",
              "aWRraEDyXyRPxbo5pRvPAyPzAAAAAAAAABhzdHRzAAAAAAAAAAEAAAD6AAAAgAAAABRzdHNzAAAA\n",
              "AAAAAAEAAAABAAAGyGN0dHMAAAAAAAAA1wAAAAEAAAEAAAAAAQAAAoAAAAABAAABAAAAAAEAAAAA\n",
              "AAAAAQAAAIAAAAABAAACgAAAAAEAAAEAAAAAAQAAAAAAAAABAAAAgAAAAAEAAAIAAAAAAgAAAIAA\n",
              "AAABAAACgAAAAAEAAAEAAAAAAQAAAAAAAAABAAAAgAAAAAEAAAIAAAAAAgAAAIAAAAABAAACAAAA\n",
              "AAIAAACAAAAAAQAAAYAAAAABAAAAgAAAAAEAAAGAAAAAAQAAAIAAAAABAAABgAAAAAEAAACAAAAA\n",
              "AQAAAYAAAAABAAAAgAAAAAEAAAGAAAAAAQAAAIAAAAABAAACAAAAAAIAAACAAAAAAQAAAoAAAAAB\n",
              "AAABAAAAAAEAAAAAAAAAAQAAAIAAAAABAAACgAAAAAEAAAEAAAAAAQAAAAAAAAABAAAAgAAAAAEA\n",
              "AAKAAAAAAQAAAQAAAAABAAAAAAAAAAEAAACAAAAAAQAAAoAAAAABAAABAAAAAAEAAAAAAAAAAQAA\n",
              "AIAAAAABAAACAAAAAAIAAACAAAAAAQAAAgAAAAACAAAAgAAAAAEAAAGAAAAAAQAAAIAAAAABAAAB\n",
              "gAAAAAEAAACAAAAAAQAAAgAAAAACAAAAgAAAAAEAAAGAAAAAAQAAAIAAAAABAAABgAAAAAEAAACA\n",
              "AAAAAQAAAYAAAAABAAAAgAAAAAEAAAIAAAAAAgAAAIAAAAABAAABgAAAAAEAAACAAAAAAQAAAgAA\n",
              "AAACAAAAgAAAAAEAAAIAAAAAAgAAAIAAAAABAAACgAAAAAEAAAEAAAAAAQAAAAAAAAABAAAAgAAA\n",
              "AAEAAAKAAAAAAQAAAQAAAAABAAAAAAAAAAEAAACAAAAAAQAAAoAAAAABAAABAAAAAAEAAAAAAAAA\n",
              "AQAAAIAAAAABAAACgAAAAAEAAAEAAAAAAQAAAAAAAAABAAAAgAAAAAEAAAGAAAAAAQAAAIAAAAAB\n",
              "AAABgAAAAAEAAACAAAAAAQAAAYAAAAABAAAAgAAAAAIAAAEAAAAAAQAAAYAAAAABAAAAgAAAAAEA\n",
              "AAKAAAAAAQAAAQAAAAABAAAAAAAAAAEAAACAAAAADAAAAQAAAAABAAABgAAAAAEAAACAAAAAAQAA\n",
              "AYAAAAABAAAAgAAAAAEAAAGAAAAAAQAAAIAAAAABAAACgAAAAAEAAAEAAAAAAQAAAAAAAAABAAAA\n",
              "gAAAAAEAAAKAAAAAAQAAAQAAAAABAAAAAAAAAAEAAACAAAAAAQAAAgAAAAACAAAAgAAAAAEAAAKA\n",
              "AAAAAQAAAQAAAAABAAAAAAAAAAEAAACAAAAAAQAAAYAAAAABAAAAgAAAAAEAAAKAAAAAAQAAAQAA\n",
              "AAABAAAAAAAAAAEAAACAAAAAAQAAAYAAAAABAAAAgAAAAAEAAAIAAAAAAgAAAIAAAAABAAACgAAA\n",
              "AAEAAAEAAAAAAQAAAAAAAAABAAAAgAAAAAEAAAIAAAAAAgAAAIAAAAABAAABgAAAAAEAAACAAAAA\n",
              "AQAAAgAAAAACAAAAgAAAAAEAAAIAAAAAAgAAAIAAAAABAAACAAAAAAIAAACAAAAAAQAAAoAAAAAB\n",
              "AAABAAAAAAEAAAAAAAAAAQAAAIAAAAABAAACgAAAAAEAAAEAAAAAAQAAAAAAAAABAAAAgAAAAAEA\n",
              "AAKAAAAAAQAAAQAAAAABAAAAAAAAAAEAAACAAAAAAQAAAgAAAAACAAAAgAAAAAEAAAIAAAAAAgAA\n",
              "AIAAAAABAAACAAAAAAIAAACAAAAAAQAAAgAAAAACAAAAgAAAAAEAAAGAAAAAAQAAAIAAAAABAAAB\n",
              "gAAAAAEAAACAAAAAAQAAAYAAAAABAAAAgAAAAAEAAAGAAAAAAQAAAIAAAAABAAABAAAAAAEAAAIA\n",
              "AAAAAgAAAIAAAAABAAACAAAAAAIAAACAAAAAAQAAAYAAAAABAAAAgAAAAAEAAAIAAAAAAgAAAIAA\n",
              "AAABAAACgAAAAAEAAAEAAAAAAQAAAAAAAAABAAAAgAAAAAEAAAKAAAAAAQAAAQAAAAABAAAAAAAA\n",
              "AAEAAACAAAAAAQAAAoAAAAABAAABAAAAAAEAAAAAAAAAAQAAAIAAAAABAAACgAAAAAEAAAEAAAAA\n",
              "AQAAAAAAAAABAAAAgAAAAAEAAAKAAAAAAQAAAQAAAAABAAAAAAAAAAEAAACAAAAAAQAAAoAAAAAB\n",
              "AAABAAAAAAEAAAAAAAAAAQAAAIAAAAABAAABgAAAAAEAAACAAAAAAQAAAYAAAAABAAAAgAAAAAEA\n",
              "AAEAAAAAAQAAAoAAAAABAAABAAAAAAEAAAAAAAAAAQAAAIAAAAAcc3RzYwAAAAAAAAABAAAAAQAA\n",
              "APoAAAABAAAD/HN0c3oAAAAAAAAAAAAAAPoAAA2kAAABKAAAAE8AAABCAAAAPgAAAJUAAABIAAAA\n",
              "NwAAADAAAABWAAAANwAAAC8AAABJAAAANwAAADAAAAAsAAAAPQAAADQAAAAtAAAAWwAAADQAAAAv\n",
              "AAAATQAAADYAAABLAAAALgAAAD8AAAAuAAAAVgAAAC4AAABAAAAALAAAAEEAAAAuAAAAJAAAAEgA\n",
              "AAAsAAAAJQAAACIAAABMAAAALgAAACYAAAAoAAAASQAAAC4AAAAnAAAAJwAAAGAAAAAuAAAAJwAA\n",
              "ACkAAAA2AAAAJwAAACAAAABMAAAALAAAACYAAABXAAAALgAAAFgAAAAwAAAAXAAAAC8AAAApAAAA\n",
              "WgAAACsAAABOAAAALgAAAGsAAAAwAAAASQAAADAAAAAnAAAAUwAAAC4AAABTAAAAMAAAACcAAABb\n",
              "AAAANAAAAC0AAABEAAAALwAAACkAAAAnAAAAUwAAACwAAAArAAAAJQAAADUAAAAtAAAAJgAAACQA\n",
              "AAA6AAAAKAAAACIAAAAgAAAALAAAACYAAAA9AAAAJgAAAD0AAAAqAAAALwAAADAAAAA/AAAAKwAA\n",
              "AHAAAAAxAAAAKQAAACkAAABZAAAAPQAAADMAAABIAAAATAAAAEcAAABLAAAATAAAAEYAAABPAAAA\n",
              "TQAAADkAAABLAAAALAAAADMAAAAnAAAASgAAACwAAABJAAAANQAAACcAAAAoAAAASAAAAC0AAAAo\n",
              "AAAAJgAAAE4AAAAqAAAAJQAAADEAAAAsAAAAJAAAACUAAAA2AAAAKAAAAD8AAAAsAAAAJQAAAC4A\n",
              "AABBAAAAKwAAADwAAAAuAAAAJgAAAE8AAAA3AAAAJwAAACoAAABUAAAAMgAAACgAAABZAAAALgAA\n",
              "AFMAAAAwAAAAKQAAAFQAAAAyAAAAKwAAAF8AAAAzAAAAJwAAAD8AAAAuAAAAJwAAACEAAABkAAAA\n",
              "LgAAACkAAAApAAAAQwAAAC8AAAApAAAAJQAAAEQAAAAsAAAAJgAAADwAAAApAAAAIwAAAD4AAAAq\n",
              "AAAAKQAAADwAAAAxAAAALAAAAFMAAAAxAAAARQAAAC0AAABCAAAALAAAAEwAAAAtAAAAQAAAADwA\n",
              "AAAtAAAAKAAAAD4AAAAwAAAAKQAAAFMAAAArAAAAOgAAADAAAAAoAAAAPwAAAC8AAAAkAAAAJQAA\n",
              "AD4AAAApAAAAIQAAACQAAABDAAAALgAAACUAAAAkAAAARQAAACoAAAAkAAAAJwAAADkAAAAsAAAA\n",
              "KAAAACYAAABUAAAAMwAAACcAAAArAAAATgAAAC8AAABJAAAAMgAAAEAAAABNAAAAOQAAACwAAAAu\n",
              "AAAAFHN0Y28AAAAAAAAAAQAAADAAAABidWR0YQAAAFptZXRhAAAAAAAAACFoZGxyAAAAAAAAAABt\n",
              "ZGlyYXBwbAAAAAAAAAAAAAAAAC1pbHN0AAAAJal0b28AAAAdZGF0YQAAAAEAAAAATGF2ZjU4Ljc2\n",
              "LjEwMA==\n",
              "\">\n",
              "  Your browser does not support the video tag.\n",
              "</video>"
            ]
          },
          "metadata": {},
          "execution_count": 17
        }
      ],
      "source": [
        "from IPython.display import HTML\n",
        "\n",
        "HTML(mkanim(X_analytic, np.linspace(0, 10, 250)).to_html5_video())"
      ]
    },
    {
      "cell_type": "markdown",
      "id": "67",
      "metadata": {
        "id": "67"
      },
      "source": [
        "### Two Coupled Oscillators--Semi-Analytical/Numerical Solution\n",
        "\n",
        "Instead of solving the coupled oscillator problem analytically, we can\n",
        "at least solve the eigenvalue part of the problem numerically."
      ]
    },
    {
      "cell_type": "code",
      "execution_count": 15,
      "id": "68",
      "metadata": {
        "id": "68"
      },
      "outputs": [],
      "source": [
        "# HANDSON: Step 1. rewrite the analytical solution in matrix form\n",
        "\n",
        "# Physical constants\n",
        "m = 1.0  # mass\n",
        "k = 1.0  # spring constant\n",
        "\n",
        "# Frequencies for two normal modes\n",
        "Omega = np.array([np.sqrt(k/m), np.sqrt(3*k/m)])  # this should become a numpy array\n",
        "\n",
        "# Initial conditions\n",
        "X0 = np.array([0, 0.5])  # this should become a numpy array\n",
        "M0 = np.array([[1/2, 1/2], [1/2, -1/2]])@X0  # apply an transformation to rewrite the transformation in terms of eigenvectors\n",
        "\n",
        "# The analytical solution in matrix notation:\n",
        "def X_matrix(t):\n",
        "    M = M0 * np.cos(Omega * t)\n",
        "    return np.array([[1,1], [1,-1]])@M  # apply an inverse transformation to rewrite the modes in terms of x1 and x2"
      ]
    },
    {
      "cell_type": "code",
      "execution_count": 16,
      "id": "69",
      "metadata": {
        "colab": {
          "base_uri": "https://localhost:8080/"
        },
        "id": "69",
        "outputId": "4a01fa7d-ffd5-48d7-b6c2-1c1daf2b5318"
      },
      "outputs": [
        {
          "output_type": "stream",
          "name": "stdout",
          "text": [
            "(np.float64(0.17521471111070758), np.float64(0.0949364418233623))\n",
            "[0.17521471 0.09493644]\n"
          ]
        }
      ],
      "source": [
        "# Test ...\n",
        "print(X_analytic(1))\n",
        "print(X_matrix(1))"
      ]
    },
    {
      "cell_type": "code",
      "execution_count": 62,
      "id": "70",
      "metadata": {
        "id": "70"
      },
      "outputs": [],
      "source": [
        "# HANDSON: Step 2. Replace the manual solutions of eigenvalues Omega\n",
        "#          and the transform by calling `numpy.linalg.eig()`\n",
        "\n",
        "# Coupling matrix\n",
        "K = np.array([\n",
        "    [2*k, -k],\n",
        "    [-k, 2*k]\n",
        "])\n",
        "\n",
        "# Initial conditions\n",
        "X0 = np.array([0,0.5])\n",
        "\n",
        "# The semi-analytical solution in matrix notation:\n",
        "Omega = np.linalg.eig(K)[0]\n",
        "M0    =  np.linalg.inv(np.linalg.eig(K)[1])@X0\n",
        "\n",
        "def X_matrix(t):\n",
        "    M = M0 * np.cos(Omega * t)\n",
        "    print(M, np.cos(Omega * t))\n",
        "    return np.linalg.eig(K)[1]@M"
      ]
    },
    {
      "cell_type": "code",
      "execution_count": 63,
      "id": "71",
      "metadata": {
        "colab": {
          "base_uri": "https://localhost:8080/",
          "height": 356
        },
        "id": "71",
        "outputId": "420e905b-6e37-4448-aca3-1b965bc2f35f"
      },
      "outputs": [
        {
          "output_type": "stream",
          "name": "stdout",
          "text": [
            "(np.float64(0.17521471111070758), np.float64(0.0949364418233623))\n",
            "[-0.3500152   0.19102571] [-0.9899925   0.54030231]\n"
          ]
        },
        {
          "output_type": "error",
          "ename": "LinAlgError",
          "evalue": "1-dimensional array given. Array must be at least two-dimensional",
          "traceback": [
            "\u001b[0;31m---------------------------------------------------------------------------\u001b[0m",
            "\u001b[0;31mLinAlgError\u001b[0m                               Traceback (most recent call last)",
            "\u001b[0;32m/tmp/ipython-input-3937146623.py\u001b[0m in \u001b[0;36m<cell line: 0>\u001b[0;34m()\u001b[0m\n\u001b[1;32m      1\u001b[0m \u001b[0;31m# Test ...\u001b[0m\u001b[0;34m\u001b[0m\u001b[0;34m\u001b[0m\u001b[0m\n\u001b[1;32m      2\u001b[0m \u001b[0mprint\u001b[0m\u001b[0;34m(\u001b[0m\u001b[0mX_analytic\u001b[0m\u001b[0;34m(\u001b[0m\u001b[0;36m1\u001b[0m\u001b[0;34m)\u001b[0m\u001b[0;34m)\u001b[0m\u001b[0;34m\u001b[0m\u001b[0;34m\u001b[0m\u001b[0m\n\u001b[0;32m----> 3\u001b[0;31m \u001b[0mprint\u001b[0m\u001b[0;34m(\u001b[0m\u001b[0mX_matrix\u001b[0m\u001b[0;34m(\u001b[0m\u001b[0;36m1\u001b[0m\u001b[0;34m)\u001b[0m\u001b[0;34m)\u001b[0m\u001b[0;34m\u001b[0m\u001b[0;34m\u001b[0m\u001b[0m\n\u001b[0m",
            "\u001b[0;32m/tmp/ipython-input-4044166041.py\u001b[0m in \u001b[0;36mX_matrix\u001b[0;34m(t)\u001b[0m\n\u001b[1;32m     19\u001b[0m     \u001b[0mprint\u001b[0m\u001b[0;34m(\u001b[0m\u001b[0mM\u001b[0m\u001b[0;34m,\u001b[0m \u001b[0mnp\u001b[0m\u001b[0;34m.\u001b[0m\u001b[0mcos\u001b[0m\u001b[0;34m(\u001b[0m\u001b[0mOmega\u001b[0m \u001b[0;34m*\u001b[0m \u001b[0mt\u001b[0m\u001b[0;34m)\u001b[0m\u001b[0;34m)\u001b[0m\u001b[0;34m\u001b[0m\u001b[0;34m\u001b[0m\u001b[0m\n\u001b[1;32m     20\u001b[0m     \u001b[0;31m# return np.linalg.eig(K)[1]@M\u001b[0m\u001b[0;34m\u001b[0m\u001b[0;34m\u001b[0m\u001b[0m\n\u001b[0;32m---> 21\u001b[0;31m     \u001b[0;32mreturn\u001b[0m \u001b[0mnp\u001b[0m\u001b[0;34m.\u001b[0m\u001b[0mlinalg\u001b[0m\u001b[0;34m.\u001b[0m\u001b[0minv\u001b[0m\u001b[0;34m(\u001b[0m\u001b[0mM\u001b[0m\u001b[0;34m)\u001b[0m\u001b[0;34m\u001b[0m\u001b[0;34m\u001b[0m\u001b[0m\n\u001b[0m",
            "\u001b[0;32m/usr/local/lib/python3.12/dist-packages/numpy/linalg/_linalg.py\u001b[0m in \u001b[0;36minv\u001b[0;34m(a)\u001b[0m\n\u001b[1;32m    599\u001b[0m     \"\"\"\n\u001b[1;32m    600\u001b[0m     \u001b[0ma\u001b[0m\u001b[0;34m,\u001b[0m \u001b[0mwrap\u001b[0m \u001b[0;34m=\u001b[0m \u001b[0m_makearray\u001b[0m\u001b[0;34m(\u001b[0m\u001b[0ma\u001b[0m\u001b[0;34m)\u001b[0m\u001b[0;34m\u001b[0m\u001b[0;34m\u001b[0m\u001b[0m\n\u001b[0;32m--> 601\u001b[0;31m     \u001b[0m_assert_stacked_2d\u001b[0m\u001b[0;34m(\u001b[0m\u001b[0ma\u001b[0m\u001b[0;34m)\u001b[0m\u001b[0;34m\u001b[0m\u001b[0;34m\u001b[0m\u001b[0m\n\u001b[0m\u001b[1;32m    602\u001b[0m     \u001b[0m_assert_stacked_square\u001b[0m\u001b[0;34m(\u001b[0m\u001b[0ma\u001b[0m\u001b[0;34m)\u001b[0m\u001b[0;34m\u001b[0m\u001b[0;34m\u001b[0m\u001b[0m\n\u001b[1;32m    603\u001b[0m     \u001b[0mt\u001b[0m\u001b[0;34m,\u001b[0m \u001b[0mresult_t\u001b[0m \u001b[0;34m=\u001b[0m \u001b[0m_commonType\u001b[0m\u001b[0;34m(\u001b[0m\u001b[0ma\u001b[0m\u001b[0;34m)\u001b[0m\u001b[0;34m\u001b[0m\u001b[0;34m\u001b[0m\u001b[0m\n",
            "\u001b[0;32m/usr/local/lib/python3.12/dist-packages/numpy/linalg/_linalg.py\u001b[0m in \u001b[0;36m_assert_stacked_2d\u001b[0;34m(*arrays)\u001b[0m\n\u001b[1;32m    193\u001b[0m     \u001b[0;32mfor\u001b[0m \u001b[0ma\u001b[0m \u001b[0;32min\u001b[0m \u001b[0marrays\u001b[0m\u001b[0;34m:\u001b[0m\u001b[0;34m\u001b[0m\u001b[0;34m\u001b[0m\u001b[0m\n\u001b[1;32m    194\u001b[0m         \u001b[0;32mif\u001b[0m \u001b[0ma\u001b[0m\u001b[0;34m.\u001b[0m\u001b[0mndim\u001b[0m \u001b[0;34m<\u001b[0m \u001b[0;36m2\u001b[0m\u001b[0;34m:\u001b[0m\u001b[0;34m\u001b[0m\u001b[0;34m\u001b[0m\u001b[0m\n\u001b[0;32m--> 195\u001b[0;31m             raise LinAlgError('%d-dimensional array given. Array must be '\n\u001b[0m\u001b[1;32m    196\u001b[0m                     'at least two-dimensional' % a.ndim)\n\u001b[1;32m    197\u001b[0m \u001b[0;34m\u001b[0m\u001b[0m\n",
            "\u001b[0;31mLinAlgError\u001b[0m: 1-dimensional array given. Array must be at least two-dimensional"
          ]
        }
      ],
      "source": [
        "# Test ...\n",
        "print(X_analytic(1))\n",
        "print(X_matrix(1))"
      ]
    },
    {
      "cell_type": "code",
      "execution_count": null,
      "id": "72",
      "metadata": {
        "id": "72"
      },
      "outputs": [],
      "source": [
        "# HANDSON: Step 3. Generalize the solution to work for arbitrary\n",
        "#          number of coupled oscillators\n",
        "\n",
        "# Coupling matrix\n",
        "K = np.array([\n",
        "    [...],\n",
        "    [...],\n",
        "    [...],\n",
        "])\n",
        "\n",
        "# Initial conditions\n",
        "X0 = np.array([...])\n",
        "\n",
        "# The semi-analytical solution in matrix notation:\n",
        "Omega = ...\n",
        "M0    = ...\n",
        "\n",
        "def X_matrix(t):\n",
        "    return ..."
      ]
    },
    {
      "cell_type": "code",
      "execution_count": null,
      "id": "73",
      "metadata": {
        "id": "73"
      },
      "outputs": [],
      "source": [
        "# HANDSON: Step 4. Turn the outputs into a movie\n",
        "\n",
        "HTML(mkanim(np.linspace(0, 10, 250)).to_html5_video())"
      ]
    },
    {
      "cell_type": "markdown",
      "id": "74",
      "metadata": {
        "id": "74"
      },
      "source": [
        "## Future Topics\n",
        "\n",
        "### Singular Value Decomposition (SVD)\n",
        "\n",
        "[SVD](https://en.wikipedia.org/wiki/Singular_value_decomposition)\n",
        "factorizes $A = U \\Sigma V^T$.\n",
        "It reveals how a matrix stretches vectors in orthogonal directions.\n",
        "It works for non-square matrices, provides optimal low-rank\n",
        "approximations, is numerically stable, and is widely used for\n",
        "pseudoinverses, compression, and noise reduction.\n",
        "\n",
        "### Principal Component Analysis (PCA)\n",
        "\n",
        "[PCA](https://en.wikipedia.org/wiki/Principal_component_analysis)\n",
        "applies SVD to centered data to find directions of maximum variance.\n",
        "It reduces dimensionality, highlights dominant modes, and simplifies\n",
        "noisy datasets, making it essential in physics, data modeling, and\n",
        "machine learning.\n",
        "\n",
        "SVD and PCA are cores of dimensionality reduction.\n",
        "We may revisit them when we connect linear algebra to machine\n",
        "learning."
      ]
    }
  ],
  "metadata": {
    "kernelspec": {
      "display_name": "Python 3 (ipykernel)",
      "language": "python",
      "name": "python3"
    },
    "language_info": {
      "codemirror_mode": {
        "name": "ipython",
        "version": 3
      },
      "file_extension": ".py",
      "mimetype": "text/x-python",
      "name": "python",
      "nbconvert_exporter": "python",
      "pygments_lexer": "ipython3",
      "version": "3.13.7"
    },
    "colab": {
      "provenance": []
    }
  },
  "nbformat": 4,
  "nbformat_minor": 5
}