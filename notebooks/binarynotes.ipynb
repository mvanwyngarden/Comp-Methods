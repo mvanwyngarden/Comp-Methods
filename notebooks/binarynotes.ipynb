{
  "cells": [
    {
      "cell_type": "markdown",
      "id": "0",
      "metadata": {
        "id": "0"
      },
      "source": [
        "# Data Representation and Round-Off Errors [![Open In Colab](https://colab.research.google.com/assets/colab-badge.svg)](https://colab.research.google.com/github/ua-2025q3-astr501-513/ua-2025q3-astr501-513.github.io/blob/main/01w/notes.ipynb)"
      ]
    },
    {
      "cell_type": "markdown",
      "id": "1",
      "metadata": {
        "id": "1"
      },
      "source": [
        ":::{note} Riddle\n",
        "You have 1000 bottles of wine for a birthday party.\n",
        "1 hours before the party, the winery indicates that 1 bottle is filled\n",
        "with poison, but they don't know which one.\n",
        "You have 10 lab mice to test this.\n",
        "The poison is so strong that it will kill any mouse that drinks it\n",
        "within 15 minutes.\n",
        "Is there a way to find the poisoned bottle using the 10 mice before\n",
        "the party?\n",
        ":::"
      ]
    },
    {
      "cell_type": "markdown",
      "id": "2",
      "metadata": {
        "id": "2"
      },
      "source": [
        "## Representing Integers\n",
        "\n",
        "Efficient number representation, as illustrated in the riddle, enables\n",
        "us to solve seemingly impossible problems.\n",
        "The evolution of numeral systems reflects humanity's progress toward\n",
        "clarity and efficiency in expressing information.\n",
        "\n",
        "* [**Unary System**](https://en.wikipedia.org/wiki/Unary_numeral_system):\n",
        "  The simplest system, where each number is represented by identical\n",
        "  marks.\n",
        "  For example, 5 is written as\n",
        "  [\"|||||\"](https://en.wikipedia.org/wiki/Tally_marks).\n",
        "  While easy to understand and requiring no skill for addition, unary\n",
        "  becomes impractical for large values: representing 888 requires 888\n",
        "  marks.\n",
        "\n",
        "* [**Roman Numerals**](https://en.wikipedia.org/wiki/Roman_numerals):\n",
        "  An improvement over unary, Roman numerals use symbols such as I (1),\n",
        "  V (5), X (10), L (50), C (100), D (500), and M (1000) to group large\n",
        "  values.\n",
        "  However, representing numbers like 888 (DCCCLXXXVIII) still requires\n",
        "  12 symbols, which is somewhat cumbersome.\n",
        "\n",
        "* [**Arabic Numerals**](https://en.wikipedia.org/wiki/Arabic_numerals):\n",
        "  We may take it for granted and not appreciate it, but Arabic numeral\n",
        "  system is a revolutionary advancement.\n",
        "  It uses positional notation to represent numbers compactly and\n",
        "  efficiently.\n",
        "  For instance, 888 requires only three digits."
      ]
    },
    {
      "cell_type": "markdown",
      "id": "3",
      "metadata": {
        "id": "3"
      },
      "source": [
        "### Positional Notation Systems\n",
        "\n",
        "The Arabic numeral system is an example of a\n",
        "[**positional notation system**](https://en.wikipedia.org/wiki/Positional_notation),\n",
        "where the value of a digit is determined by both the digit itself and\n",
        "its position within the number.\n",
        "This contrasts with systems like unary numbers or Roman numerals,\n",
        "where the position of a symbol does not affect its value.\n",
        "In positional notation, each digit's place corresponds to a specific\n",
        "power of the system's base.\n",
        "\n",
        "In a positional system, representing a number involves the following\n",
        "steps:\n",
        "1. Decide on the base (or radix) $b$.\n",
        "2. Define the notation for the digits.\n",
        "3. Write the number as:\n",
        "   \\begin{align}\n",
        "   \\pm (\\dots d_3 d_2 d_1 d_0 . d_{-1} d_{-2} d_{-3} \\dots),\n",
        "   \\end{align}\n",
        "   which represents:\n",
        "   \\begin{align}\n",
        "   \\pm (\\dots + d_3 b^3 + d_2 b^2 + d_1 b^1 + d_0 b^0 + d_{-1} b^{-1} + d_{-2} b^{-2} + d_{-3} b^{-3} + \\dots).\n",
        "   \\end{align}\n",
        "\n",
        "To convert a number from base $b$ to decimal, we apply this definition\n",
        "directly.\n",
        "For example:\n",
        "\\begin{align}\n",
        "(256.4)_8 = 2\\times8^2 + 5\\times8^1 + 6\\times8^0 + 4\\times8^{-1} = (174.5)_{10}.\n",
        "\\end{align}\n",
        "\n",
        "The most popular bases used in computer are:"
      ]
    },
    {
      "cell_type": "markdown",
      "id": "4",
      "metadata": {
        "id": "4"
      },
      "source": [
        "### Binary Numbers\n",
        "\n",
        "* Base: $b = 2$\n",
        "* Digits: 0, 1"
      ]
    },
    {
      "cell_type": "markdown",
      "id": "5",
      "metadata": {
        "id": "5"
      },
      "source": [
        "```{figure} fig/measure.png\n",
        "Binary system was invented by merchants in medieval England.\n",
        "```\n",
        "\n",
        "The binary system has been used in various forms long before the age\n",
        "of computers.\n",
        "Invented by merchants in medieval England, the units of liquid measure\n",
        "were based on the binary system. For example:\n",
        "* 1 gallon = 2 pottles;\n",
        "* 1 pottle = 2 quarts;\n",
        "* 1 quart = 2 pints;\n",
        "* 1 pint = 2 cups; etc.\n",
        "\n",
        "Similarly, the binary system is used in music to define note\n",
        "durations, i.e., whole note, half note, quarter note, eighth note,\n",
        "sixteenth note, etc.\n",
        "These everyday examples show the fundamental nature of the binary\n",
        "system underpining modern computing."
      ]
    },
    {
      "cell_type": "markdown",
      "id": "6",
      "metadata": {
        "id": "6"
      },
      "source": [
        "```{figure} fig/binary-shirt.png\n",
        "There are `10` types of people in the world...\n",
        "```"
      ]
    },
    {
      "cell_type": "markdown",
      "id": "7",
      "metadata": {
        "id": "7"
      },
      "source": [
        "In the binary system, only two digits are used: 0 and 1.\n",
        "The position of each digit in a binary number corresponds to a power\n",
        "of 2, just as the position of a digit in the decimal system\n",
        "corresponds to a power of 10.\n",
        "For example, the binary number $1011_2$ represents:\n",
        "$1 \\times 2^3 + 0 \\times 2^2 + 1 \\times 2^1 + 1 \\times 2^0$.\n",
        "This gives the decimal value:\n",
        "$1 \\times 8 + 0 \\times 4 + 1 \\times 2 + 1 \\times 1 = 11$."
      ]
    },
    {
      "cell_type": "markdown",
      "id": "8",
      "metadata": {
        "id": "8"
      },
      "source": [
        "In Python, you can use the `bin()` function to convert an integer to\n",
        "its binary string representation, and the `int()` function to convert\n",
        "a binary string back to an integer.\n",
        "This is particularly useful when working with binary numbers in\n",
        "computations."
      ]
    },
    {
      "cell_type": "code",
      "execution_count": 1,
      "id": "9",
      "metadata": {
        "id": "9",
        "outputId": "9d9bf147-db12-451d-df20-ac040b75ca92",
        "colab": {
          "base_uri": "https://localhost:8080/"
        }
      },
      "outputs": [
        {
          "output_type": "stream",
          "name": "stdout",
          "text": [
            "Binary representation of 10: 0b1010\n"
          ]
        }
      ],
      "source": [
        "# Convert an integer to a binary string\n",
        "number = 10\n",
        "binary = bin(number)\n",
        "\n",
        "print(f\"Binary representation of {number}: {binary}\")"
      ]
    },
    {
      "cell_type": "code",
      "execution_count": 2,
      "id": "10",
      "metadata": {
        "id": "10",
        "outputId": "ea5b0abf-5ba5-4bbd-c895-2f8bf54f3e5f",
        "colab": {
          "base_uri": "https://localhost:8080/"
        }
      },
      "outputs": [
        {
          "output_type": "stream",
          "name": "stdout",
          "text": [
            "Integer value of 0b1010: 10\n"
          ]
        }
      ],
      "source": [
        "# Convert a binary string back to an integer\n",
        "binary = \"0b1010\" # the leading \"0b\" is optional\n",
        "number = int(binary, 2)\n",
        "\n",
        "print(f\"Integer value of {binary}: {number}\")"
      ]
    },
    {
      "cell_type": "markdown",
      "id": "11",
      "metadata": {
        "id": "11"
      },
      "source": [
        "Note that the above examples use **formatted string literals**,\n",
        "commonly known as \"f-strings.\"\n",
        "F-strings provide a concise and readable way to embed expressions\n",
        "inside string literals by prefixing the string with an `f` or `F`\n",
        "character."
      ]
    },
    {
      "cell_type": "markdown",
      "id": "12",
      "metadata": {
        "id": "12"
      },
      "source": [
        "Python supports representing binary numbers directly using the `0b`\n",
        "prefix for literals.\n",
        "This allows you to define binary numbers without converting from a\n",
        "string format."
      ]
    },
    {
      "cell_type": "code",
      "execution_count": 3,
      "id": "13",
      "metadata": {
        "id": "13",
        "outputId": "a464513a-b658-45f7-9dc2-e230173e22ae",
        "colab": {
          "base_uri": "https://localhost:8080/"
        }
      },
      "outputs": [
        {
          "output_type": "stream",
          "name": "stdout",
          "text": [
            "Binary number: 10\n"
          ]
        }
      ],
      "source": [
        "binary = 0b1010  # 10 in decimal\n",
        "\n",
        "print(f\"Binary number: {binary}\")"
      ]
    },
    {
      "cell_type": "markdown",
      "id": "14",
      "metadata": {
        "id": "14"
      },
      "source": [
        "### The Hexadecimal System\n",
        "\n",
        "* Base: $b = 16$\n",
        "* Digits: 0, 1, 2, 3, 4, 5, 6, 7, 8, 9, A, B, C, D, E, F"
      ]
    },
    {
      "cell_type": "markdown",
      "id": "15",
      "metadata": {
        "jp-MarkdownHeadingCollapsed": true,
        "id": "15"
      },
      "source": [
        "The hexadecimal system allows for writing a binary number in a very\n",
        "compact notation.\n",
        "It allows one to directly ready the binary content of a file, e.g.,\n",
        "```\n",
        "% hexdump -C /bin/sh | head\n",
        "00000000  ca fe ba be 00 00 00 02  01 00 00 07 00 00 00 03  |................|\n",
        "00000010  00 00 40 00 00 00 6a b0  00 00 00 0e 01 00 00 0c  |..@...j.........|\n",
        "00000020  80 00 00 02 00 00 c0 00  00 00 cb 70 00 00 00 0e  |...........p....|\n",
        "00000030  00 00 00 00 00 00 00 00  00 00 00 00 00 00 00 00  |................|\n",
        "*\n",
        "00004000  cf fa ed fe 07 00 00 01  03 00 00 00 02 00 00 00  |................|\n",
        "00004010  11 00 00 00 c0 04 00 00  85 00 20 00 00 00 00 00  |.......... .....|\n",
        "00004020  19 00 00 00 48 00 00 00  5f 5f 50 41 47 45 5a 45  |....H...__PAGEZE|\n",
        "00004030  52 4f 00 00 00 00 00 00  00 00 00 00 00 00 00 00  |RO..............|\n",
        "00004040  00 00 00 00 01 00 00 00  00 00 00 00 00 00 00 00  |................|\n",
        "```\n",
        "or directly select a color\n",
        "```{figure} fig/color.png\n",
        "Hex numbers are used to select colors.\n",
        "```"
      ]
    },
    {
      "cell_type": "markdown",
      "id": "16",
      "metadata": {
        "id": "16"
      },
      "source": [
        "Python also supports working with hexadecimal numbers, which are\n",
        "represented using the `0x` prefix.\n",
        "Below are examples demonstrating how to handle hexadecimal numbers in\n",
        "Python."
      ]
    },
    {
      "cell_type": "code",
      "execution_count": 4,
      "id": "17",
      "metadata": {
        "id": "17",
        "outputId": "aa956fe5-d76e-4423-83ba-109f57d81bfd",
        "colab": {
          "base_uri": "https://localhost:8080/"
        }
      },
      "outputs": [
        {
          "output_type": "stream",
          "name": "stdout",
          "text": [
            "Hexadecimal representation of 255: 0xff\n"
          ]
        }
      ],
      "source": [
        "number = 255\n",
        "hexrep = hex(number)\n",
        "\n",
        "print(f\"Hexadecimal representation of {number}: {hexrep}\")"
      ]
    },
    {
      "cell_type": "code",
      "execution_count": 5,
      "id": "18",
      "metadata": {
        "id": "18",
        "outputId": "5abc07ed-c19c-494f-d5e8-7ba981d39f06",
        "colab": {
          "base_uri": "https://localhost:8080/"
        }
      },
      "outputs": [
        {
          "output_type": "stream",
          "name": "stdout",
          "text": [
            "Integer value of 0xff: 255\n"
          ]
        }
      ],
      "source": [
        "hexrep = \"0xff\"\n",
        "number = int(hexrep, 16)\n",
        "\n",
        "print(f\"Integer value of {hexrep}: {number}\")"
      ]
    },
    {
      "cell_type": "code",
      "execution_count": 6,
      "id": "19",
      "metadata": {
        "id": "19",
        "outputId": "827e6c2b-c866-48d0-9f49-e618bc57cfc8",
        "colab": {
          "base_uri": "https://localhost:8080/"
        }
      },
      "outputs": [
        {
          "output_type": "stream",
          "name": "stdout",
          "text": [
            "Hexadecimal number: 255\n"
          ]
        }
      ],
      "source": [
        "hexrep = 0xff  # 10 in decimal\n",
        "\n",
        "print(f\"Hexadecimal number: {hexrep}\")"
      ]
    },
    {
      "cell_type": "markdown",
      "id": "20",
      "metadata": {
        "id": "20"
      },
      "source": [
        "```{note} Quantum Computing: A New Type of Number Representation\n",
        "\n",
        "Quantum computing takes number representation to a whole new level.\n",
        "In quantum mechanics, data is represented using quantum bits, or\n",
        "qubits.\n",
        "Unlike classical bits, a single qubit can exist in a superposition of\n",
        "two states, $|0\\rangle$ and $|1\\rangle$, simultaneously.\n",
        "This means that (ignoring normalization for now) one qubit can\n",
        "represent two numbers $C_0$ and $C_1$ as in $C_0 |0\\rangle + C_1\n",
        "|1\\rangle$.\n",
        "\n",
        "With two qubits, the system can represent four possible states:\n",
        "$|00\\rangle$, $|01\\rangle$, $|10\\rangle$, and $|11\\rangle$, again, in\n",
        "superposition.\n",
        "The number of possible states grows exponentially as more qubits are\n",
        "added:\n",
        "* Three qubits can represent eight states: $|000\\rangle$,\n",
        "  $|001\\rangle$, $|010\\rangle$, ..., $|111\\rangle$.\n",
        "* Four qubits represent 16 states, and so on.\n",
        "\n",
        "In general, $n$ qubits can represent $2^n$ states at once.\n",
        "This exponential scaling is what gives quantum computers their\n",
        "enormous potential to perform certain types of calculations far more\n",
        "efficiently than classical computers.\n",
        "\n",
        "For example, IBM's 53-qubit quantum computer can represent $2^{53}$\n",
        "states simultaneously.\n",
        "In terms of classical information, this is equivalent to storing\n",
        "approximately 1 petabyte (PB) of data, which is comparable to the\n",
        "amount of memory available in some of the world's largest\n",
        "supercomputers today.\n",
        "```\n"
      ]
    },
    {
      "cell_type": "markdown",
      "id": "21",
      "metadata": {
        "id": "21"
      },
      "source": [
        "```{note} Superposition Hypothesis in Large Language Models\n",
        "\n",
        "The [Superposition\n",
        "Hypothesis](https://transformer-circuits.pub/2022/toy_model/index.html)\n",
        "in large language models (LLMs) proposes that individual neurons or\n",
        "parameters can encode multiple overlapping features, depending on\n",
        "context.\n",
        "This is analogous to quantum superposition, where qubits represent\n",
        "multiple states simultaneously.\n",
        "\n",
        "For example, a single neuron in an LLM might activate for both \"dog\"\n",
        "and \"pet,\" enabling efficient reuse of parameters.\n",
        "\n",
        "This ability is further supported by high-dimensional embeddings,\n",
        "where concepts are represented as nearly orthogonal vectors.\n",
        "This allows the LLM to store and distinguish vast amounts of\n",
        "information with minimal interference.\n",
        "The\n",
        "[Johnson-Lindenstrauss Lemma](https://en.wikipedia.org/wiki/Johnson%E2%80%93Lindenstrauss_lemma)\n",
        "explains how high-dimensional spaces accommodate such efficient\n",
        "representations.\n",
        "\n",
        "While the Superposition Hypothesis provides a promising explanation\n",
        "for the efficiency of LLMs, it remains an area of active research to\n",
        "fully understand the mechanisms underlying their success.\n",
        "```"
      ]
    },
    {
      "cell_type": "markdown",
      "id": "22",
      "metadata": {
        "id": "22"
      },
      "source": [
        "## Hardware Implementations"
      ]
    },
    {
      "cell_type": "markdown",
      "id": "23",
      "metadata": {
        "id": "23"
      },
      "source": [
        "```{epigraph}\n",
        "The decimal system has been established, somewhat foolishly to be\n",
        "sure, according to man's custom, not from a natural necessity as most\n",
        "people think.\n",
        "\n",
        "-- Blaise Pascal (1623--1662)\n",
        "```"
      ]
    },
    {
      "cell_type": "markdown",
      "id": "24",
      "metadata": {
        "id": "24"
      },
      "source": [
        "Binary operators are the foundation of computation in digital\n",
        "hardware."
      ]
    },
    {
      "cell_type": "markdown",
      "id": "25",
      "metadata": {
        "id": "25"
      },
      "source": [
        "### Basic Binary Operators"
      ]
    },
    {
      "cell_type": "markdown",
      "id": "26",
      "metadata": {
        "id": "26"
      },
      "source": [
        "1. AND Operator (`&`)\n",
        "   ```{code}\n",
        "   | A | B | A & B |\n",
        "   |---|---|-------|\n",
        "   | 0 | 0 |   0   |\n",
        "   | 0 | 1 |   0   |\n",
        "   | 1 | 0 |   0   |\n",
        "   | 1 | 1 |   1   |\n",
        "   ```"
      ]
    },
    {
      "cell_type": "markdown",
      "id": "27",
      "metadata": {
        "id": "27"
      },
      "source": [
        "2. OR Operator (`|`)\n",
        "   ```{code}\n",
        "   | A | B | A | B |\n",
        "   |---|---|-------|\n",
        "   | 0 | 0 |   0   |\n",
        "   | 0 | 1 |   1   |\n",
        "   | 1 | 0 |   1   |\n",
        "   | 1 | 1 |   1   |\n",
        "   ```"
      ]
    },
    {
      "cell_type": "markdown",
      "id": "28",
      "metadata": {
        "id": "28"
      },
      "source": [
        "3. XOR Operator (`^`)\n",
        "   ```{code}\n",
        "   | A | B | A ^ B |\n",
        "   |---|---|-------|\n",
        "   | 0 | 0 |   0   |\n",
        "   | 0 | 1 |   1   |\n",
        "   | 1 | 0 |   1   |\n",
        "   | 1 | 1 |   0   |\n",
        "   ```"
      ]
    },
    {
      "cell_type": "markdown",
      "id": "29",
      "metadata": {
        "id": "29"
      },
      "source": [
        "4. NOT Operator (`~`)\n",
        "   ```{code}\n",
        "   | A | ~A |\n",
        "   |---|----|\n",
        "   | 0 |  1 |\n",
        "   | 1 |  0 |\n",
        "   ```"
      ]
    },
    {
      "cell_type": "markdown",
      "id": "30",
      "metadata": {
        "id": "30"
      },
      "source": [
        "5. NAND and NOR Operators\n",
        "   * **NAND (NOT AND):** Outputs `0` only when both inputs are `1`.\n",
        "   * **NOR  (NOT OR):**  Outputs `1` only when both inputs are `0`."
      ]
    },
    {
      "cell_type": "markdown",
      "id": "31",
      "metadata": {
        "id": "31"
      },
      "source": [
        "### CMOS Implementation\n",
        "\n",
        "Logic gates are built using\n",
        "[CMOS (Complementary Metal-Oxide-Semiconductor)](https://en.wikipedia.org/wiki/CMOS)\n",
        "technology, which utilizes:\n",
        "* **PMOS Transistors:** Conduct when the input is low (logic `0`).\n",
        "* **NMOS Transistors:** Conduct when the input is high (logic `1`)."
      ]
    },
    {
      "cell_type": "markdown",
      "id": "32",
      "metadata": {
        "id": "32"
      },
      "source": [
        "```{figure} fig/cmos.png\n",
        "Cross section of two transistors in a CMOS gate, in an N-well CMOS\n",
        "process.\n",
        "```"
      ]
    },
    {
      "cell_type": "markdown",
      "id": "33",
      "metadata": {
        "id": "33"
      },
      "source": [
        "In the above figure, the terminals of the transistors are labeled as\n",
        "follows:\n",
        "\n",
        "* **Source (S):**\n",
        "  The terminal where carriers (electrons or holes) enter the\n",
        "  transistor.\n",
        "  For NMOS transistors, the source is typically connected to a lower\n",
        "  potential (e.g., ground), while for PMOS transistors, it is\n",
        "  connected to a higher potential (e.g., Vdd).\n",
        "\n",
        "* **Gate (G):**\n",
        "  The terminal that controls the flow of carriers between the source\n",
        "  and drain.\n",
        "  Applying a voltage to the gate creates an electric field that either\n",
        "  allows or prevents current flow, effectively acting as a switch.\n",
        "\n",
        "* **Drain (D):**\n",
        "  The terminal through which carriers exit the transistor.\n",
        "  For NMOS transistors, the drain is usually connected to a higher\n",
        "  potential, while for PMOS transistors, it is connected to a lower\n",
        "  potential.\n",
        "\n",
        "* **Body (B):**\n",
        "  Also known as the bulk or substrate, this terminal is typically\n",
        "  connected to a fixed reference potential.\n",
        "  For NMOS transistors, the body is often connected to ground, and for\n",
        "  PMOS transistors, it is connected to Vdd.\n",
        "  The body helps control leakage currents and influences the\n",
        "  transistor's threshold voltage."
      ]
    },
    {
      "cell_type": "markdown",
      "id": "34",
      "metadata": {
        "id": "34"
      },
      "source": [
        "By manipulating the voltage at the gate terminal, transistors act as\n",
        "switches.\n",
        "They then enable or disable the flow of current between the source\n",
        "and drain.\n",
        "This non-linear switching behavior supports the operation of all logic\n",
        "gates and digital circuits."
      ]
    },
    {
      "cell_type": "markdown",
      "id": "35",
      "metadata": {
        "id": "35"
      },
      "source": [
        "Here are some CMOS Gate Examples\n",
        "1. **NOT Gate:**\n",
        "   * **PMOS:** Connects the output to `Vdd` (high) when the input is\n",
        "     low.\n",
        "   * **NMOS:** Connects the output to ground (low) when the input is\n",
        "     high.\n",
        "2. **NAND Gate:**\n",
        "   * **PMOS:** Two transistors in parallel connect to `Vdd` if either\n",
        "     input is low.\n",
        "   * **NMOS:** Two transistors in series connect to ground only if\n",
        "     both inputs are high.\n",
        "3. **NOR Gate:**\n",
        "   * **PMOS:** Two transistors in series connect to `Vdd` only if both\n",
        "     inputs are low.\n",
        "   * **NMOS:** Two transistors in parallel connect to ground if either\n",
        "     input is high."
      ]
    },
    {
      "cell_type": "markdown",
      "id": "36",
      "metadata": {
        "id": "36"
      },
      "source": [
        "```{note}\n",
        "Although for LED, this\n",
        "[Veritasium Video](https://youtu.be/AF8d72mA41M?si=Tq26bYZhn6kFAVC6)\n",
        "explains semiconductor technology extremely well.\n",
        "```"
      ]
    },
    {
      "cell_type": "markdown",
      "id": "37",
      "metadata": {
        "id": "37"
      },
      "source": [
        "### Universal Gates\n",
        "\n",
        "**NAND** and **NOR** gates are also called **universal gates** because\n",
        "any other logic gate can be constructed using just these gates.\n",
        "Universal gates are fundamental in hardware design, as they simplify\n",
        "manufacturing by reducing the variety of components needed."
      ]
    },
    {
      "cell_type": "markdown",
      "id": "38",
      "metadata": {
        "id": "38"
      },
      "source": [
        "In practice, the NAND gate is widely used in the industry due to\n",
        "several advantages:\n",
        "* Less delay\n",
        "* Smaller silicon area\n",
        "* Uniform transistor sizes"
      ]
    },
    {
      "cell_type": "markdown",
      "id": "39",
      "metadata": {
        "id": "39"
      },
      "source": [
        "An NAND gate's truth table looks like this:\n",
        "```{code}\n",
        "| A | B | NAND(A, B) |\n",
        "|---|---|------------|\n",
        "| 0 | 0 | 1          |\n",
        "| 0 | 1 | 1          |\n",
        "| 1 | 0 | 1          |\n",
        "| 1 | 1 | 0          |\n",
        "```\n",
        "Here is a simple Python function for the NAND gate:"
      ]
    },
    {
      "cell_type": "code",
      "execution_count": 7,
      "id": "40",
      "metadata": {
        "id": "40"
      },
      "outputs": [],
      "source": [
        "def NAND(a, b):\n",
        "    return 1 - (a & b)  # NOT (a AND b)"
      ]
    },
    {
      "cell_type": "markdown",
      "id": "41",
      "metadata": {
        "id": "41"
      },
      "source": [
        "We can now construct basic gates using only NAND:"
      ]
    },
    {
      "cell_type": "code",
      "execution_count": 8,
      "id": "42",
      "metadata": {
        "id": "42",
        "outputId": "67cc1ca7-0b56-4778-cb90-e4ddd35ac99e",
        "colab": {
          "base_uri": "https://localhost:8080/"
        }
      },
      "outputs": [
        {
          "output_type": "stream",
          "name": "stdout",
          "text": [
            "1\n",
            "0\n"
          ]
        }
      ],
      "source": [
        "# A NOT gate can be built by connecting both inputs of a NAND gate to the same value.\n",
        "\n",
        "def NOT(a):\n",
        "    return NAND(a, a)\n",
        "\n",
        "# Test\n",
        "print(NOT(0)) # Output: 1\n",
        "print(NOT(1)) # Output: 0"
      ]
    },
    {
      "cell_type": "code",
      "execution_count": 9,
      "id": "43",
      "metadata": {
        "id": "43",
        "outputId": "70a9b121-2c82-4e23-9227-529acd7e4398",
        "colab": {
          "base_uri": "https://localhost:8080/"
        }
      },
      "outputs": [
        {
          "output_type": "stream",
          "name": "stdout",
          "text": [
            "0\n",
            "0\n",
            "0\n",
            "1\n"
          ]
        }
      ],
      "source": [
        "# An AND gate can be built by negating the output of a NAND gate.\n",
        "\n",
        "def AND(a, b):\n",
        "    return NOT(NAND(a, b))\n",
        "\n",
        "# Test\n",
        "print(AND(0, 0))  # Output: 0\n",
        "print(AND(0, 1))  # Output: 0\n",
        "print(AND(1, 0))  # Output: 0\n",
        "print(AND(1, 1))  # Output: 1"
      ]
    },
    {
      "cell_type": "code",
      "execution_count": 10,
      "id": "44",
      "metadata": {
        "id": "44",
        "outputId": "7ab8b767-5a92-49a2-8685-239b0bc79bb5",
        "colab": {
          "base_uri": "https://localhost:8080/"
        }
      },
      "outputs": [
        {
          "output_type": "stream",
          "name": "stdout",
          "text": [
            "0\n",
            "1\n",
            "1\n",
            "1\n"
          ]
        }
      ],
      "source": [
        "# HANDSON: implement an OR gate using only NAND.\n",
        "#\n",
        "# HINT: Using De Morgan's law: A | B = ~(~A & ~B).\n",
        "\n",
        "def OR(a, b):\n",
        "    return NAND(NAND(a, a), NAND(b,b))\n",
        "\n",
        "# Test\n",
        "print(OR(0, 0))  # Output: 0\n",
        "print(OR(0, 1))  # Output: 1\n",
        "print(OR(1, 0))  # Output: 1\n",
        "print(OR(1, 1))  # Output: 1"
      ]
    },
    {
      "cell_type": "code",
      "execution_count": 13,
      "id": "45",
      "metadata": {
        "id": "45",
        "outputId": "949f0762-cd6c-40cb-e184-5e94644b6fa3",
        "colab": {
          "base_uri": "https://localhost:8080/"
        }
      },
      "outputs": [
        {
          "output_type": "stream",
          "name": "stdout",
          "text": [
            "0\n",
            "1\n",
            "1\n",
            "0\n"
          ]
        }
      ],
      "source": [
        "# HANDSON: implement an XOR gate using only NAND.\n",
        "\n",
        "def XOR(a, b):\n",
        "    c = NAND(a,b)\n",
        "    return NAND(NAND(a,c), NAND(b,c))\n",
        "\n",
        "# Test\n",
        "print(XOR(0, 0))  # Output: 0\n",
        "print(XOR(0, 1))  # Output: 1\n",
        "print(XOR(1, 0))  # Output: 1\n",
        "print(XOR(1, 1))  # Output: 0"
      ]
    },
    {
      "cell_type": "markdown",
      "id": "46",
      "metadata": {
        "id": "46"
      },
      "source": [
        "## Addition in the Binary System\n",
        "\n",
        "In the binary system, addition follows similar rules to decimal\n",
        "addition, but with only two digits: 0 and 1.\n",
        "The key rules are:\n",
        "```{code}\n",
        "0 + 0 = 0\n",
        "0 + 1 = 1\n",
        "1 + 0 = 1\n",
        "1 + 1 = 0, 1 carryover\n",
        "```"
      ]
    },
    {
      "cell_type": "markdown",
      "id": "47",
      "metadata": {
        "id": "47"
      },
      "source": [
        "We start from the rightmost bit, adding the bits with carry when\n",
        "needed:\n",
        "```{code}\n",
        "    C = 111\n",
        "    A = 0101 (  A = 5)\n",
        "    B = 0011 (  B = 3)\n",
        "-------------\n",
        "A + B = 1000 (A+B = 8)\n",
        "```"
      ]
    },
    {
      "cell_type": "markdown",
      "id": "48",
      "metadata": {
        "id": "48"
      },
      "source": [
        "### Half Adder: Building Blocks for Addition\n",
        "\n",
        "A **half adder** is a fundamental circuit used to add two single-bit\n",
        "binary numbers.\n",
        "It produces two outputs:\n",
        "* **Sum**: The result of the XOR operation between the two inputs.\n",
        "* **Carry**: The result of the AND operation between the two inputs,\n",
        "  representing an overflow to the next bit."
      ]
    },
    {
      "cell_type": "markdown",
      "id": "49",
      "metadata": {
        "id": "49"
      },
      "source": [
        "```{figure} fig/half.png\n",
        "\"Half\" adder.\n",
        "```"
      ]
    },
    {
      "cell_type": "markdown",
      "id": "50",
      "metadata": {
        "id": "50"
      },
      "source": [
        "However, the half adder is limited because it does not account for a\n",
        "carry input from a previous addition.\n",
        "This is why it is called a \"half\" adder---it handles only the addition\n",
        "of two bits without any carry forwarding."
      ]
    },
    {
      "cell_type": "markdown",
      "id": "51",
      "metadata": {
        "id": "51"
      },
      "source": [
        "The logic for a half adder can be represented as:\n",
        "```{code}\n",
        "A + B = S , C\n",
        "-------------\n",
        "0 + 0 = 0 , 0\n",
        "0 + 1 = 1 , 0\n",
        "1 + 0 = 1 , 0\n",
        "1 + 1 = 0 , 1\n",
        "```"
      ]
    },
    {
      "cell_type": "markdown",
      "id": "52",
      "metadata": {
        "id": "52"
      },
      "source": [
        "This simplicity makes the half adder a foundational component for\n",
        "building more complex adders, like the full adder."
      ]
    },
    {
      "cell_type": "code",
      "execution_count": 14,
      "id": "53",
      "metadata": {
        "id": "53",
        "outputId": "5f72ccc6-fffa-4a6d-a785-37f10a9875cb",
        "colab": {
          "base_uri": "https://localhost:8080/"
        }
      },
      "outputs": [
        {
          "output_type": "stream",
          "name": "stdout",
          "text": [
            "(0, 0)\n",
            "(1, 0)\n",
            "(1, 0)\n",
            "(0, 1)\n"
          ]
        }
      ],
      "source": [
        "def half_adder(A, B):\n",
        "    S = XOR(A, B)  # Sum using XOR\n",
        "    C = AND(A, B)  # Carry using AND\n",
        "    return S, C\n",
        "\n",
        "# Test\n",
        "print(half_adder(0, 0))\n",
        "print(half_adder(0, 1))\n",
        "print(half_adder(1, 0))\n",
        "print(half_adder(1, 1))"
      ]
    },
    {
      "cell_type": "markdown",
      "id": "54",
      "metadata": {
        "id": "54"
      },
      "source": [
        "### Building a Full Adder Using NAND\n",
        "\n",
        "A **full adder** extends the half adder by adding a carry input.\n",
        "It is capable of handling three inputs:\n",
        "* `A`:   First bit\n",
        "* `B`:   Second bit\n",
        "* `Cin`: Carry from the previous bit addition\n",
        "\n",
        "It produces two outputs:\n",
        "* `S`:    Result of adding `A`, `B`, and `Cin`.\n",
        "* `Cout`: Overflow to the next higher bit."
      ]
    },
    {
      "cell_type": "markdown",
      "id": "55",
      "metadata": {
        "id": "55"
      },
      "source": [
        "It can be implemented using two half adder and an OR gate:\n",
        "```{figure} fig/full.png\n",
        "\"Full\" adder.\n",
        "```"
      ]
    },
    {
      "cell_type": "code",
      "execution_count": 15,
      "id": "56",
      "metadata": {
        "id": "56",
        "outputId": "89cebbf1-45ad-40d7-8a5d-f8ca9f41edb9",
        "colab": {
          "base_uri": "https://localhost:8080/"
        }
      },
      "outputs": [
        {
          "output_type": "stream",
          "name": "stdout",
          "text": [
            "(0, 0)\n",
            "(1, 0)\n",
            "(0, 1)\n",
            "(1, 1)\n"
          ]
        }
      ],
      "source": [
        "def full_adder(A, B, Cin):\n",
        "    s, c = half_adder(A,   B)\n",
        "    S, C = half_adder(Cin, s)\n",
        "    Cout = OR(c, C)\n",
        "    return S, Cout\n",
        "\n",
        "# Test\n",
        "print(full_adder(0, 0, 0))  # Output: (0, 0)\n",
        "print(full_adder(1, 0, 0))  # Output: (1, 0)\n",
        "print(full_adder(1, 1, 0))  # Output: (0, 1)\n",
        "print(full_adder(1, 1, 1))  # Output: (1, 1)"
      ]
    },
    {
      "cell_type": "markdown",
      "id": "57",
      "metadata": {
        "id": "57"
      },
      "source": [
        "### Multi-Bit Adder\n",
        "\n",
        "A **multi-bit adder** combines multiple full adders to add two binary\n",
        "numbers of arbitrary length.\n",
        "Each full adder handles one bit, with the carry output of one adder\n",
        "serving as the carry input to the next.\n",
        "\n",
        "For example, to add two 4-bit binary numbers `A3 A2 A1 A0` and `B3 B2\n",
        "B1 B0`:\n",
        "1. Set the initial carry to 0\n",
        "2. Use full adders for all bits.\n",
        "Then, we can combine multiple full adders to make multi-bit adders."
      ]
    },
    {
      "cell_type": "markdown",
      "id": "58",
      "metadata": {
        "id": "58"
      },
      "source": [
        "```{figure} fig/multi.png\n",
        "Multi-digit adder.\n",
        "```"
      ]
    },
    {
      "cell_type": "code",
      "execution_count": 16,
      "id": "59",
      "metadata": {
        "id": "59",
        "outputId": "69dc5b00-55e7-4a5e-91f5-883689c08047",
        "colab": {
          "base_uri": "https://localhost:8080/"
        }
      },
      "outputs": [
        {
          "output_type": "stream",
          "name": "stdout",
          "text": [
            "[0, 0, 1, 0, 1]\n"
          ]
        }
      ],
      "source": [
        "def multibit_adder(A, B):\n",
        "    assert(len(A) == len(B))\n",
        "\n",
        "    n = len(A)\n",
        "    c = 0\n",
        "    S = []\n",
        "    for i in range(n):\n",
        "        s, c = full_adder(A[i], B[i], c)\n",
        "        S.append(s)\n",
        "    S.append(c)  # add the final carry\n",
        "    return S\n",
        "\n",
        "# Test\n",
        "A = [1, 1, 0, 1]  # 1 + 2 + 8 = 11 in binary\n",
        "B = [1, 0, 0, 1]  # 1 + 8 = 9 in binary\n",
        "print(multibit_adder(A, B))  # Output: [0, 0, 1, 0, 1] = 4 + 16 = 20 in binary"
      ]
    },
    {
      "cell_type": "markdown",
      "id": "60",
      "metadata": {
        "id": "60"
      },
      "source": [
        "### Number of Bits in an Integer\n",
        "\n",
        "The number of bits used to store an integer determines the range of\n",
        "values it can represent.\n",
        "* For **unsigned integers**, the range is $[0, 2^b - 1]$, where $b$ is\n",
        "  the number of bits.\n",
        "* For **signed integers**, one bit is used for the sign, leaving $n-1$\n",
        "  bits for the value.\n",
        "The range for signed integers is usually $[-2^{n-1}, 2^{n-1} - 1]$\n",
        "(see below).\n",
        "\n",
        "For example:\n",
        "* An 8-bit unsigned integer represents values from 0 to 255.\n",
        "* An 8-bit signed integer represents values from -128 to 127.\n",
        "\n",
        "In modern programming languages, integers may be implemented as\n",
        "fixed-width (e.g., 8, 16, 32, 64 bits) or variable-width types."
      ]
    },
    {
      "cell_type": "markdown",
      "id": "61",
      "metadata": {
        "id": "61"
      },
      "source": [
        "### Overflow and Underflow Error\n",
        "\n",
        "The `multibit_adder()` example above clearly shows that adding two\n",
        "$b$-bit integer may result a $(b+1)$-bit integer.\n",
        "\n",
        "In computing, **overflow error** occurs when an integer calculation\n",
        "exceeds the maximum value that can be represented within the allocated\n",
        "number of bits.\n",
        "For example, in a 32-bit unsigned integer, the maximum value is\n",
        "$2^{32} - 1$ (= 4,294,967,295).\n",
        "Adding 1 to this value causes the result to \"wrap around\" to the\n",
        "minimum value 0.\n",
        "Similarly, underflow occurs when subtracting below the minimum value.\n",
        "\n",
        "To mitigate these errors, some programming languages and compilers\n",
        "provide tools to detect overflow or implement arbitrary-precision\n",
        "integers, which grow dynamically to store larger values.\n",
        "Specifically, Python's `int` is unbounded and dynamically adjusts to\n",
        "the size of the number."
      ]
    },
    {
      "cell_type": "markdown",
      "id": "62",
      "metadata": {
        "id": "62"
      },
      "source": [
        "### Representation of Negative Numbers\n",
        "\n",
        "The most common method in modern computer to represent negative\n",
        "integers is **two's complement**, where:\n",
        "1. Positive numbers are represented as usual in binary.\n",
        "2. To represent a negative number:\n",
        "   * Write the binary representation of its absolute value.\n",
        "   * Invert all the bits (change 1 to 0 and 0 to 1).\n",
        "   * Add 1 to the result."
      ]
    },
    {
      "cell_type": "markdown",
      "id": "63",
      "metadata": {
        "id": "63"
      },
      "source": [
        "For example, in an 8-bit system:\n",
        "* $+5$ is represented as `00000101`.\n",
        "* $-5$ is represented as `11111011`."
      ]
    },
    {
      "cell_type": "markdown",
      "id": "64",
      "metadata": {
        "id": "64"
      },
      "source": [
        "Advantages of two's complement include:\n",
        "* A single representation for 0.\n",
        "* Efficient hardware implementation for addition and subtraction.\n",
        "* The most significant bit (MSB) acts as the **sign bit**: 0 for\n",
        "  positive, 1 for negative.\n",
        "\n",
        "Less common representations include **sign-magnitude** and **one's\n",
        "complement**, but these are mostly historical or used in niche\n",
        "applications."
      ]
    },
    {
      "cell_type": "markdown",
      "source": [
        "In the homework, the MSB is the right-most bit bc we have to use a for loop, but in reality the MSB is usually the left-most bit"
      ],
      "metadata": {
        "id": "hqtUVBHFzKg8"
      },
      "id": "hqtUVBHFzKg8"
    },
    {
      "cell_type": "markdown",
      "id": "65",
      "metadata": {
        "id": "65"
      },
      "source": [
        "### Integer Conversion\n",
        "\n",
        "Integer conversion refers to changing the representation of an integer\n",
        "between different sizes or types.\n",
        "There are two main cases:\n",
        "\n",
        "**1. Narrowing Conversion:**\n",
        "This involves converting an integer from a larger type to a smaller\n",
        "type (e.g., 32-bit to 16-bit).\n",
        "If the value exceeds the range of the smaller type, it may result in\n",
        "truncation or overflow, often leading to incorrect results.\n",
        "\n",
        "**Example:**\n",
        "Converting $2^{16} + 1$ from a 32-bit integer to a 16-bit integer\n",
        "results in $1$ (wrap-around effect).\n",
        "\n",
        "**2. Widening Conversion:**\n",
        "This involves converting an integer from a smaller type to a larger\n",
        "type (e.g., 16-bit to 32-bit).\n",
        "This is typically safe, as the larger type can represent all values of\n",
        "the smaller type without loss of information.\n",
        "\n",
        "When converting signed to unsigned integers (or vice versa), the sign\n",
        "bit may be misinterpreted if not handled properly, leading to\n",
        "unexpected results.\n",
        "Some languages, like Python, automatically handle such conversions due\n",
        "to their use of arbitrary-precision integers, but others, like C,\n",
        "require explicit care to avoid bugs.\n"
      ]
    },
    {
      "cell_type": "markdown",
      "id": "66",
      "metadata": {
        "id": "66"
      },
      "source": [
        "```{note} Data type conversion errors can be very costly\n",
        "\n",
        "[Ariane 5](https://en.wikipedia.org/wiki/Ariane_5) is the primary\n",
        "launch vehicle of the European Space Agency (ESA) that operates from\n",
        "the Guiana Space Center near Kourou in the French Guiana.\n",
        "Its first successful operational flight took place in December 1999,\n",
        "when it carried to space the European X-ray Multi Mirror (XMM)\n",
        "satellite.\n",
        "Its first test launch, however, on June 4, 1996 resulted in failure,\n",
        "with the rocket exploding 40 seconds into the flight.\n",
        "\n",
        "A study of the accident by an inquiry board found that the failure was\n",
        "caused by a software problem in the Inertial Reference System that was\n",
        "guiding the rocket.\n",
        "In particular, the computer program, which was written in the Ada\n",
        "programming language and was inherited from the previous launch\n",
        "vehicle Ariane 4, required at some point in the calculation a\n",
        "conversion of a 64-bit floating point number to a 16-bit integer.\n",
        "The initial trajectory of the Ariane 5 launch vehicle, however, is\n",
        "significantly different than that of Ariane 4 and the 16 bits are not\n",
        "enough to store some of the required information.\n",
        "The result was an error in the calculation, which the inertial system\n",
        "misinterpreted and caused the rocket to veer off its flight path and\n",
        "explode.\n",
        "The cost of the failed launch was upwards of 100 million dollars!\n",
        "```"
      ]
    },
    {
      "cell_type": "markdown",
      "id": "67",
      "metadata": {
        "id": "67"
      },
      "source": [
        "## Representing Real Numbers"
      ]
    },
    {
      "cell_type": "markdown",
      "id": "68",
      "metadata": {
        "id": "68"
      },
      "source": [
        ":::{note} A Moment of ZEN\n",
        "\n",
        "Q: What is the output of this simple code?\n",
        "What is the last value of `x` it will print?\n",
        "\n",
        "```python\n",
        "x = 0\n",
        "while x < 1:\n",
        "    x += 0.1\n",
        "    print(f\"{x:g}\")\n",
        "```\n",
        "\n",
        "To see the problem, change the f-string to `print(f\"{x:.17f}\")`.\n",
        ":::"
      ]
    },
    {
      "cell_type": "code",
      "execution_count": 18,
      "id": "69",
      "metadata": {
        "id": "69",
        "outputId": "bd460b80-e98d-468f-976d-06fc76e84eb3",
        "colab": {
          "base_uri": "https://localhost:8080/"
        }
      },
      "outputs": [
        {
          "output_type": "stream",
          "name": "stdout",
          "text": [
            "0.10000000000000001\n",
            "0.20000000000000001\n",
            "0.30000000000000004\n",
            "0.40000000000000002\n",
            "0.50000000000000000\n",
            "0.59999999999999998\n",
            "0.69999999999999996\n",
            "0.79999999999999993\n",
            "0.89999999999999991\n",
            "0.99999999999999989\n",
            "1.09999999999999987\n"
          ]
        }
      ],
      "source": [
        "# HANDSON: run the above code here ...\n",
        "x = 0\n",
        "while x < 1:\n",
        "    x += 0.1\n",
        "    print(f\"{x:.17f}\")"
      ]
    },
    {
      "cell_type": "markdown",
      "id": "70",
      "metadata": {
        "id": "70"
      },
      "source": [
        "```{note} Rounding Errors Can Have Fatal Consequences\n",
        "\n",
        "On February 25, 1991, during Operation Desert Storm, a Scud missile\n",
        "struck a U.S. army barracks in Dhahran, Saudi Arabia, killing 28\n",
        "soldiers.\n",
        "The base was protected by a Patriot Air Defense System, but the system\n",
        "failed to intercept the missile due to a rounding error in its\n",
        "tracking software.\n",
        "\n",
        "The Patriot system relies on radar to detect airborne objects and a\n",
        "computer to calculate their trajectories based on time, tracked in\n",
        "increments of 0.1 seconds.\n",
        "However, in binary form, 0.1 seconds is represented as an infinite\n",
        "repeating decimal, $(0.1)_{10} = (0.0001100011…)_2$, which must be\n",
        "rounded during calculations.\n",
        "This small rounding error accumulated over time, and after 300 hours\n",
        "of continuous operation, it caused the system to miscalculate the\n",
        "missile's trajectory.\n",
        "As a result, the Patriot failed to identify the Scud as a threat,\n",
        "leading to the tragic loss of life.\n",
        "```"
      ]
    },
    {
      "cell_type": "markdown",
      "id": "71",
      "metadata": {
        "id": "71"
      },
      "source": [
        "### Floating Point Representation\n",
        "\n",
        "The easiest way to describe floating-point representation is through\n",
        "an example.\n",
        "Consider the result of the mathematical expression $e^6 \\approx\n",
        "403.42879$.\n",
        "To express this in normalized floating-point notation, we first write\n",
        "the number in scientific notation:\n",
        "\\begin{align}\n",
        "e^6 = 4.0342879 \\times 10^2\n",
        "\\end{align}\n",
        "\n",
        "In scientific notation, the number is written such that the\n",
        "significand (or mantissa) is always smaller than the base (in this\n",
        "case, 10).\n",
        "To represent the number in floating-point format, we store the\n",
        "following components:\n",
        "* The sign of the number,\n",
        "* The exponent (the power of 10),\n",
        "* The significand (the string of significant digits).\n",
        "\n",
        "For example, the floating-point representation of $e^6$ with 4\n",
        "significant digits is:\n",
        "\\begin{align}\n",
        "e^6 = (+, 2, 4034).\n",
        "\\end{align}\n",
        "And with 8 significant digits:\n",
        "\\begin{align}\n",
        "e^6 = (+, 2, 40342879).\n",
        "\\end{align}"
      ]
    },
    {
      "cell_type": "markdown",
      "id": "72",
      "metadata": {
        "id": "72"
      },
      "source": [
        "### Single-Precision Floating Point\n",
        "\n",
        "```{figure} fig/float.svg\n",
        ":height: 80px\n",
        "The value $+0.15625 = (-1)^{(0)_2} \\times 2^{(01111100)_2-127} \\times\n",
        "(1.01...0)_2$ stored as single precision float.\n",
        "```\n",
        "\n",
        "The IEEE 754 standard for floating-point arithmetic, used by most\n",
        "modern computers, defines how numbers are stored in formats like\n",
        "single precision (32-bit).\n",
        "A normalized number's significand includes an implicit leading 1\n",
        "before the binary point, so only the fractional part (bits after the\n",
        "binary point) is stored.\n",
        "For instance, the binary number `1.101` is stored as `101`, with the\n",
        "leading `1` assumed. This saves space while effectively adding an\n",
        "extra bit of precision.\n",
        "\n",
        "The exponent is stored with a \"bias\" of 127 in single precision.\n",
        "This means the actual exponent is calculated as `stored_exponent -\n",
        "127`, allowing representation of both positive and negative exponents.\n",
        "The smallest stored exponent (`0`) corresponds to an actual exponent\n",
        "of -127, and the largest (`255`) corresponds to +128.\n",
        "Single-precision numbers, such as `np.single` in `NumPy` and `float`\n",
        "in `C`, can represent values ranging approximately from $2^{-127}\n",
        "\\approx 6 \\times 10^{-39}$ to $2^{128} \\approx 3 \\times 10^{38}$."
      ]
    },
    {
      "cell_type": "markdown",
      "id": "73",
      "metadata": {
        "id": "73"
      },
      "source": [
        "### Double-Precision Floating Point\n",
        "\n",
        "```{figure} fig/double.svg\n",
        ":height: 120px\n",
        "Memeory layout of a double precision float.\n",
        "```\n",
        "\n",
        "For double precision (64-bit), the exponent is stored with a bias of\n",
        "`1023` and the significand with an implicit leading 1 is stored in 52\n",
        "bits.\n",
        "The exponent can represent values from -1023 to +1024.\n",
        "Double-precision numbers can represent values ranging from\n",
        "approximately $10^{-308}$ to $10^{308}$, corresponding to the `double`\n",
        "type in C or `np.double` in Python/NumPy."
      ]
    },
    {
      "cell_type": "markdown",
      "id": "74",
      "metadata": {
        "id": "74"
      },
      "source": [
        "`````{note} Creative Usage of Floating Point Numbers\n",
        "\n",
        "```{figure} fig/arepo1.png\n",
        ":height: 240px\n",
        "The moving mesh code Arepo.\n",
        "```\n",
        "\n",
        "The Arepo cosmology code, widely used in astrophysical simulations,\n",
        "employs a moving mesh method to solve fluid dynamics problems with\n",
        "high accuracy and efficiency.\n",
        "\n",
        "```{figure} fig/arepo2.png\n",
        ":height: 480px\n",
        "The fast maping between 53-bit integer and double precision float.\n",
        "```\n",
        "\n",
        "To avoid numerical issues commonly encountered in floating-point\n",
        "arithmetic, Arepo implements an innovative approach to ensure\n",
        "robustness in geometric computations.\n",
        "Specifically, it maps the significant digits of double-precision\n",
        "floating-point numbers to a 53-bit integer, which allows for exact\n",
        "arithmetic when evaluating geometric predicates.\n",
        "By doing this, Arepo avoids round-off errors that could otherwise\n",
        "compromise the accuracy of simulations.\n",
        "This precise handling of numerical data is critical for the accurate\n",
        "modeling of complex cosmological structures.\n",
        "`````"
      ]
    },
    {
      "cell_type": "markdown",
      "id": "75",
      "metadata": {
        "id": "75"
      },
      "source": [
        "### Machine Accuracy\n",
        "\n",
        "In order to quantify round-off errors, we define:\n",
        "\\begin{align}\n",
        "\\text{(relative error)} \\equiv \\frac{x - \\bar{x}}{x}.\n",
        "\\end{align}\n",
        "\n",
        "If we use a numeral system of base $b$ and keep $p$ significant\n",
        "digits, the machine accuracy is\n",
        "\\begin{align}\n",
        "\\epsilon = \\left(\\frac{b}{2}\\right) b^{-p}.\n",
        "\\end{align}\n",
        "\n",
        "A single-precision floating-point number, which stores 23 significant\n",
        "digits in binary (the mantissa), provides a machine accuracy of\n",
        "approximately $\\epsilon_\\mathrm{single} = 2^{-23} \\approx 10^{-7}$ in\n",
        "decimal.\n",
        "In contrast, a double-precision floating-point number, with 52\n",
        "significant binary digits, corresponds to a much finer machine\n",
        "accuracy of about $\\epsilon_\\mathrm{double} = 2^{-52} \\approx\n",
        "2\\times10^{-16}$ in decimal."
      ]
    },
    {
      "cell_type": "markdown",
      "id": "76",
      "metadata": {
        "id": "76"
      },
      "source": [
        "### Accumulation of round-off errors\n",
        "\n",
        "Round-off errors accumulate during iterative processes or summations\n",
        "when many floating-point operations are involved.\n",
        "This effect becomes more pronounced as the number of operations\n",
        "increases."
      ]
    },
    {
      "cell_type": "code",
      "execution_count": 19,
      "id": "77",
      "metadata": {
        "id": "77"
      },
      "outputs": [],
      "source": [
        "def simple_sum(x, n):\n",
        "    s = 0.0\n",
        "    for i in range(n):\n",
        "        s += x\n",
        "    return s"
      ]
    },
    {
      "cell_type": "code",
      "execution_count": 20,
      "id": "78",
      "metadata": {
        "id": "78",
        "outputId": "a9019db4-30ed-4747-f097-9b07e783ec93",
        "colab": {
          "base_uri": "https://localhost:8080/"
        }
      },
      "outputs": [
        {
          "output_type": "stream",
          "name": "stdout",
          "text": [
            "Mean = 0.9999999999999999; relative error = 1.3877787807814457e-16\n"
          ]
        }
      ],
      "source": [
        "x = 0.1\n",
        "n = 10\n",
        "s = simple_sum(x, n)\n",
        "e = abs(s/n - x) / x\n",
        "print(f\"Mean = {s}; relative error = {e}\")"
      ]
    },
    {
      "cell_type": "markdown",
      "id": "79",
      "metadata": {
        "id": "79"
      },
      "source": [
        "We may study how the relative error grows with the number of\n",
        "summations.\n",
        "The following figure illustrates the instability of the naive\n",
        "summation method."
      ]
    },
    {
      "cell_type": "code",
      "execution_count": 21,
      "id": "80",
      "metadata": {
        "id": "80"
      },
      "outputs": [],
      "source": [
        "N        = [2**p for p in range(10,25)]\n",
        "E_simple = [abs(simple_sum(x, n)/n - x) / x for n in N]"
      ]
    },
    {
      "cell_type": "code",
      "execution_count": 22,
      "id": "81",
      "metadata": {
        "id": "81",
        "outputId": "da91fe39-a3f4-4afd-daa5-aa76d42b3e29",
        "colab": {
          "base_uri": "https://localhost:8080/",
          "height": 454
        }
      },
      "outputs": [
        {
          "output_type": "display_data",
          "data": {
            "text/plain": [
              "<Figure size 640x480 with 1 Axes>"
            ],
            "image/png": "[encoded data removed]"
          },
          "metadata": {}
        }
      ],
      "source": [
        "from matplotlib import pyplot as plt\n",
        "\n",
        "plt.loglog(N, E_simple, label='Direct Sum')\n",
        "plt.xlabel('Number of Summations (N)')\n",
        "plt.ylabel('Relative Error')\n",
        "plt.legend()\n",
        "plt.show()  # optional in Jupyter Notebook"
      ]
    },
    {
      "cell_type": "markdown",
      "id": "82",
      "metadata": {
        "id": "82"
      },
      "source": [
        "The\n",
        "**[Kahan summation algorithm](https://en.wikipedia.org/wiki/Kahan_summation_algorithm)**\n",
        "is a method designed to minimize round-off errors during summation.\n",
        "By maintaining a separate compensation variable, it accounts for small\n",
        "errors that would otherwise be lost."
      ]
    },
    {
      "cell_type": "code",
      "execution_count": 23,
      "id": "83",
      "metadata": {
        "id": "83"
      },
      "outputs": [],
      "source": [
        "def Kahan_sum(x, n):\n",
        "    c = 0.0 # compensation for lost low-order bits\n",
        "    s = 0.0\n",
        "    for i in range(n):\n",
        "        xp = x - c # apply compensation\n",
        "        c  = ((s + xp) - s) - xp # update compensation\n",
        "        s += x - c # update sum\n",
        "    return s"
      ]
    },
    {
      "cell_type": "code",
      "execution_count": 24,
      "id": "84",
      "metadata": {
        "id": "84"
      },
      "outputs": [],
      "source": [
        "E_Kahan = [abs(Kahan_sum(x, n)/n - x) / x for n in N]"
      ]
    },
    {
      "cell_type": "code",
      "execution_count": 25,
      "id": "85",
      "metadata": {
        "id": "85",
        "outputId": "08541eac-3c15-4a3f-ad43-22ca775b20ee",
        "colab": {
          "base_uri": "https://localhost:8080/",
          "height": 454
        }
      },
      "outputs": [
        {
          "output_type": "display_data",
          "data": {
            "text/plain": [
              "<Figure size 640x480 with 1 Axes>"
            ],
            "image/png": "[encoded data removed]"
          },
          "metadata": {}
        }
      ],
      "source": [
        "plt.loglog(N, E_simple, label='Simple Sum')\n",
        "plt.loglog(N, E_Kahan,  label='Kahan Sum')\n",
        "plt.xlabel('Number of Summations (N)')\n",
        "plt.ylabel('Relative Error')\n",
        "plt.legend()\n",
        "plt.show() # optional in Jupyter Notebook"
      ]
    },
    {
      "cell_type": "markdown",
      "id": "86",
      "metadata": {
        "id": "86"
      },
      "source": [
        "It is not recommended to write a for-loop in Python to sum numbers.\n",
        "Instead, `numpy.sum()` is usually a better choice.\n",
        "The `numpy.sum()` uses a more numerically accurate **\"partial pairwise\n",
        "summation\"** (see its\n",
        "[documentation](https://numpy.org/doc/stable/reference/generated/numpy.sum.html)\n",
        "and\n",
        "[source code](https://github.com/numpy/numpy/blob/v2.2.0/numpy/_core/fromnumeric.py#L2338-L2469)).\n",
        "Here, we simply will try it out."
      ]
    },
    {
      "cell_type": "code",
      "execution_count": 26,
      "id": "87",
      "metadata": {
        "id": "87"
      },
      "outputs": [],
      "source": [
        "import numpy as np\n",
        "\n",
        "def numpy_sum(x, n):\n",
        "    X = np.repeat(x, n)\n",
        "    return np.sum(X)"
      ]
    },
    {
      "cell_type": "code",
      "execution_count": 29,
      "id": "88",
      "metadata": {
        "id": "88"
      },
      "outputs": [],
      "source": [
        "E_numpy = [abs(numpy_sum(x, n)/n - x) / x for n in N]"
      ]
    },
    {
      "cell_type": "code",
      "execution_count": 30,
      "id": "89",
      "metadata": {
        "id": "89",
        "outputId": "6a41eee6-77f7-4d82-f44f-f8da11cd3c09",
        "colab": {
          "base_uri": "https://localhost:8080/",
          "height": 454
        }
      },
      "outputs": [
        {
          "output_type": "display_data",
          "data": {
            "text/plain": [
              "<Figure size 640x480 with 1 Axes>"
            ],
            "image/png": "[encoded data removed]"
          },
          "metadata": {}
        }
      ],
      "source": [
        "plt.loglog(N, E_simple, label='Simple Sum')\n",
        "plt.loglog(N, E_Kahan,  label='Kahan Sum')\n",
        "plt.loglog(N, E_numpy,  label='Numpy Sum')\n",
        "plt.xlabel('Number of Summations (N)')\n",
        "plt.ylabel('Relative Error')\n",
        "plt.legend()\n",
        "plt.show() # optional in Jupyter Notebook"
      ]
    },
    {
      "cell_type": "markdown",
      "id": "90",
      "metadata": {
        "id": "90"
      },
      "source": [
        "In the first homework, we will look into a concept called\n",
        "\"catastrophic cancellation\" and implement an algorithm that can handle\n",
        "it."
      ]
    },
    {
      "cell_type": "markdown",
      "id": "91",
      "metadata": {
        "id": "91"
      },
      "source": [
        "## Catastrophic Cancellation"
      ]
    },
    {
      "cell_type": "markdown",
      "id": "92",
      "metadata": {
        "id": "92"
      },
      "source": [
        ":::{note} Another Moment of ZEN\n",
        "Q: What is the output of this simple code?\n",
        "\n",
        "```python\n",
        "from math import exp\n",
        "\n",
        "for tau in range(0, 60, 5):\n",
        "    I = exp(tau) - (exp(tau) - 1.0)\n",
        "    print(f\"{tau=}, {I=}\")\n",
        "```\n",
        ":::"
      ]
    },
    {
      "cell_type": "code",
      "execution_count": 31,
      "id": "93",
      "metadata": {
        "id": "93",
        "outputId": "a53b475d-80cc-4676-edd1-6ce00a464252",
        "colab": {
          "base_uri": "https://localhost:8080/"
        }
      },
      "outputs": [
        {
          "output_type": "stream",
          "name": "stdout",
          "text": [
            "tau=0, I=1.0\n",
            "tau=5, I=1.0\n",
            "tau=10, I=1.0\n",
            "tau=15, I=1.0\n",
            "tau=20, I=1.0\n",
            "tau=25, I=1.0\n",
            "tau=30, I=1.0\n",
            "tau=35, I=1.0\n",
            "tau=40, I=0.0\n",
            "tau=45, I=0.0\n",
            "tau=50, I=0.0\n",
            "tau=55, I=0.0\n"
          ]
        }
      ],
      "source": [
        "# HANDSON: run the above code here ...\n",
        "from math import exp\n",
        "\n",
        "for tau in range(0, 60, 5):\n",
        "    I = exp(tau) - (exp(tau) - 1.0)\n",
        "    print(f\"{tau=}, {I=}\")"
      ]
    },
    {
      "cell_type": "markdown",
      "id": "94",
      "metadata": {
        "id": "94"
      },
      "source": [
        "We all learned in high school that the solutions (roots) to the\n",
        "qudratic equation $a x^2 + b x + c = 0$ is\n",
        "\\begin{align}\n",
        "x = \\frac{-b \\pm \\sqrt{b^2 - 4 a c}}{2a}.\n",
        "\\end{align}\n",
        "\n",
        "Q: Why one of the roots become zero when solving the qudratic equation\n",
        "with $b = 1$ and $a = c = 10^{-9}$?"
      ]
    },
    {
      "cell_type": "code",
      "execution_count": 32,
      "id": "95",
      "metadata": {
        "id": "95",
        "outputId": "86298ec8-7ef2-40fa-a18c-8734648d048d",
        "colab": {
          "base_uri": "https://localhost:8080/"
        }
      },
      "outputs": [
        {
          "output_type": "stream",
          "name": "stdout",
          "text": [
            "0.0000000000000000, -999999999.9999998807907104\n"
          ]
        }
      ],
      "source": [
        "a = 1e-9\n",
        "b = 1\n",
        "c = 1e-9\n",
        "\n",
        "x1 = (-b + (b*b - 4*a*c)**(1/2)) / (2*a)\n",
        "x2 = (-b - (b*b - 4*a*c)**(1/2)) / (2*a)\n",
        "\n",
        "print(f'{x1:.16f}, {x2:.16f}')"
      ]
    },
    {
      "cell_type": "markdown",
      "id": "96",
      "metadata": {
        "id": "96"
      },
      "source": [
        "It is straightforward to show in the limit $a, c \\ll b$, the roots are\n",
        "\\begin{align}\n",
        "x \\approx -\\frac{b}{a} \\mbox{ or } -\\frac{c}{b}\n",
        "\\end{align}\n",
        "Is it possible to recover the small root $-c/b$?"
      ]
    },
    {
      "cell_type": "markdown",
      "id": "97",
      "metadata": {
        "id": "97"
      },
      "source": [
        "When $b > 0$, a catastrophic cancellation (see below) happens only in\n",
        "the \"+\" equation.\n",
        "We may replace the first qudratic equation by its \"conjugate\" form\n",
        "\\begin{align}\n",
        "x = \\frac{2c}{-b \\mp \\sqrt{b^2 - 4 a c}}\n",
        "\\end{align}"
      ]
    },
    {
      "cell_type": "markdown",
      "id": "98",
      "metadata": {
        "id": "98"
      },
      "source": [
        "Equivalently, we may use the \"numerically stable form\",\n",
        "\\begin{align}\n",
        "x_1 &= \\frac{-b - \\mathrm{sign}(b)\\sqrt{b^2 - 4 a c}}{2a} \\\\\n",
        "x_2 &= \\frac{c}{a x_1}\n",
        "\\end{align}\n",
        "as used by\n",
        "[GSL](https://git.savannah.gnu.org/cgit/gsl.git/tree/poly/solve_quadratic.c#n57) and\n",
        "[fadge](https://github.com/adxsrc/fadge/blob/main/mod/fadge/utils.py#L25)."
      ]
    },
    {
      "cell_type": "markdown",
      "id": "99",
      "metadata": {
        "id": "99"
      },
      "source": [
        "**Catastrophic cancellation** occurs in numerical computing when\n",
        "subtracting two nearly equal numbers, leading to a significant loss of\n",
        "precision.\n",
        "This happens because the leading digits cancel out, leaving only less\n",
        "significant digits, which may already be corrupted by rounding errors\n",
        "in floating-point arithmetic.\n",
        "As a result, the final outcome can be far less accurate than expected.\n",
        "\n",
        "For example, consider subtracting $x = 1.00000001$ and $y =\n",
        "1.00000000$.\n",
        "The exact result is $0.00000001$, but if both numbers are rounded to\n",
        "six significant digits during storage (e.g., in single-precision\n",
        "floats), they might be stored as $1.00000$.\n",
        "Subtracting these stored values yields $0$, completely losing the\n",
        "small difference.\n",
        "\n",
        "This issue is common in computations involving nearly equal terms,\n",
        "such as in numerical differentiation or solving linear systems, where\n",
        "precision errors can propagate.\n",
        "To mitigate catastrophic cancellation, techniques like reformulating\n",
        "equations to avoid such subtractions, using higher-precision\n",
        "arithmetic, or applying numerical methods specifically designed to\n",
        "reduce error can be employed."
      ]
    },
    {
      "cell_type": "markdown",
      "id": "100",
      "metadata": {
        "id": "100"
      },
      "source": [
        "Implementing a numerically stable form of the quadratic formula is\n",
        "left as a homework problem."
      ]
    },
    {
      "cell_type": "markdown",
      "id": "101",
      "metadata": {
        "id": "101"
      },
      "source": [
        "### Other Floating Point\n",
        "\n",
        "* [\"Half percision\"](https://en.wikipedia.org/wiki/Half-precision_floating-point_format)\n",
        "  `float16`.\n",
        "* [\"Brain floating point\"](https://en.wikipedia.org/wiki/Bfloat16_floating-point_format)\n",
        "  `bfloat16`, used for neural network.\n",
        "* [`long double`](https://en.wikipedia.org/wiki/Long_double), could be\n",
        "  80-bit or 128-bit, dependent on the system."
      ]
    },
    {
      "cell_type": "markdown",
      "id": "102",
      "metadata": {
        "id": "102"
      },
      "source": [
        "### Encoding of Special Values\n",
        "\n",
        "```{code}\n",
        "val    s_exponent_signcnd\n",
        "+inf = 0_11111111_0000000\n",
        "-inf = 1_11111111_0000000\n",
        "```\n",
        "\n",
        "```{code}\n",
        "val    s_exponent_signcnd\n",
        "+NaN = 0_11111111_klmnopq\n",
        "-NaN = 1_11111111_klmnopq\n",
        "```\n",
        "where at least one of `k`, `l`, `m`, `n`, `o`, `p`, or `q` is 1."
      ]
    },
    {
      "cell_type": "markdown",
      "id": "103",
      "metadata": {
        "id": "103"
      },
      "source": [
        "### NaN Comparison Rules\n",
        "\n",
        "In Python, like in C, the special value NaN (Not a Number) has unique\n",
        "comparison behavior.\n",
        "Any ordered comparison between a NaN and any other value, including\n",
        "another NaN, always evaluates to False.\n",
        "\n",
        "To reliably check if a value is NaN, it is recommended to use the\n",
        "`np.isnan()` function from NumPy, as direct comparisons (e.g., `x ==\n",
        "np.nan`) will not work as expected."
      ]
    },
    {
      "cell_type": "code",
      "execution_count": 33,
      "id": "104",
      "metadata": {
        "id": "104",
        "outputId": "52c9c7f1-b3b3-4aae-a0a1-68edc6299f4e",
        "colab": {
          "base_uri": "https://localhost:8080/"
        }
      },
      "outputs": [
        {
          "output_type": "stream",
          "name": "stdout",
          "text": [
            "True\n",
            "False\n",
            "False\n",
            "False\n",
            "False\n",
            "False\n",
            "True\n",
            "False\n",
            "False\n",
            "False\n",
            "False\n",
            "False\n"
          ]
        }
      ],
      "source": [
        "# Demonstrate NaN comparison rules\n",
        "\n",
        "import numpy as np\n",
        "\n",
        "x = np.nan\n",
        "y = 1\n",
        "\n",
        "print(x != x)\n",
        "print(x >  x)\n",
        "print(x <  x)\n",
        "print(x >= x)\n",
        "print(x <= x)\n",
        "print(x == x)\n",
        "\n",
        "print(x != y)\n",
        "print(x >  y)\n",
        "print(x <  y)\n",
        "print(x >= y)\n",
        "print(x <= y)\n",
        "print(x == y)"
      ]
    },
    {
      "cell_type": "markdown",
      "id": "105",
      "metadata": {
        "id": "105"
      },
      "source": [
        "## Floating Point Exceptions\n",
        "\n",
        "Q: What is the output of this simple code?\n",
        "\n",
        "```{code}\n",
        "for e in range(1020, 1030):\n",
        "    x = pow(2.0, e)\n",
        "    print(f\"2^{e} = {x}\")\n",
        "```\n",
        "\n",
        "```{code}\n",
        "for e in range(-1070, -1080, -1):\n",
        "    x = pow(2.0, e)\n",
        "    print(f\"2^{e} = {x:e}\")\n",
        "```"
      ]
    },
    {
      "cell_type": "code",
      "execution_count": null,
      "id": "106",
      "metadata": {
        "id": "106"
      },
      "outputs": [],
      "source": [
        "# HANDSON: try the above codes.\n"
      ]
    },
    {
      "cell_type": "markdown",
      "id": "107",
      "metadata": {
        "id": "107"
      },
      "source": [
        "`````{note} Abusing Floating Point Numbers: Fast Inverse Square Root\n",
        "\n",
        "One fascinating example of taking advantage of floating-point\n",
        "representation is the\n",
        "[fast inverse square root algorithm](https://en.wikipedia.org/wiki/Fast_inverse_square_root),\n",
        "famously used in computer graphics, particularly in the development of\n",
        "3D engines like those in video games.\n",
        "This algorithm provides an efficient way to compute $1/\\sqrt{x}$, a\n",
        "common operation in tasks like normalizing vectors.\n",
        "Instead of relying on the standard floating-point math libraries, the\n",
        "algorithm \"hacks\" the floating-point representation by manipulating\n",
        "the bits directly to achieve a remarkably fast approximation of the\n",
        "result.\n",
        "This method takes advantage of how floating-point numbers are stored,\n",
        "using a clever combination of bitwise operations and mathematical\n",
        "magic to drastically speed up computation.\n",
        "\n",
        "The following code is the fast inverse square root implementation from\n",
        "Quake III Arena, stripped of C preprocessor directives, but including\n",
        "[modified comment text](https://web.archive.org/web/20170729072505/https://github.com/id-Software/Quake-III-Arena/blob/master/code/game/q_math.\\\n",
        "c#L552):\n",
        "```c\n",
        "float Q_rsqrt( float number )\n",
        "{\n",
        " \tlong i;\n",
        "\tfloat x2, y;\n",
        "\tconst float threehalfs = 1.5F;\n",
        "\n",
        "\tx2 = number * 0.5F;\n",
        "\ty  = number;\n",
        "\ti  = * ( long * ) &y;                     // evil floating point bit level hacking\n",
        "\ti  = 0x5f3759df - ( i >> 1 );             // what the f**k?\n",
        "\ty  = * ( float * ) &i;\n",
        "\ty  = y * ( threehalfs - ( x2 * y * y ) ); // 1st iteration\n",
        "//      y  = y * ( threehalfs - ( x2 * y * y ) ); // 2nd iteration, this can be removed\n",
        "\n",
        "\treturn y;\n",
        "}\n",
        "```\n",
        "`````"
      ]
    }
  ],
  "metadata": {
    "kernelspec": {
      "display_name": "Python 3 (ipykernel)",
      "language": "python",
      "name": "python3"
    },
    "language_info": {
      "codemirror_mode": {
        "name": "ipython",
        "version": 3
      },
      "file_extension": ".py",
      "mimetype": "text/x-python",
      "name": "python",
      "nbconvert_exporter": "python",
      "pygments_lexer": "ipython3",
      "version": "3.13.7"
    },
    "colab": {
      "provenance": []
    }
  },
  "nbformat": 4,
  "nbformat_minor": 5
}